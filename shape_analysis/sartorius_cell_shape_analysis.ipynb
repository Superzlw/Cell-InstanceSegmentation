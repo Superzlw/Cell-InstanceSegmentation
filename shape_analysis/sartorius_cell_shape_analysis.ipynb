{
 "cells": [
  {
   "cell_type": "markdown",
   "id": "2844c959",
   "metadata": {
    "papermill": {
     "duration": 0.036107,
     "end_time": "2021-12-11T13:51:51.856841",
     "exception": false,
     "start_time": "2021-12-11T13:51:51.820734",
     "status": "completed"
    },
    "tags": []
   },
   "source": [
    "# Intro\n",
    "Post-processing of detections will be key in this competition I think. To do proper filtering if detections we need a clear picture of the statistics of each of the three cell types. The aim of this notebook is to give some guidelines for post processing features regardless of which model is used.  \n",
    "\n",
    "We will use the segments created in [this notebook](https://www.kaggle.com/mistag/sartorius-create-coco-annotations), which eliminate the most obvious bad annotations from the dataset."
   ]
  },
  {
   "cell_type": "code",
   "execution_count": 1,
   "id": "a7897483",
   "metadata": {
    "_cell_guid": "b1076dfc-b9ad-4769-8c92-a6c4dae69d19",
    "_uuid": "8f2839f25d086af736a60e9eeb907d3b93b6e0e5",
    "execution": {
     "iopub.execute_input": "2021-12-11T13:51:51.931444Z",
     "iopub.status.busy": "2021-12-11T13:51:51.930480Z",
     "iopub.status.idle": "2021-12-11T13:51:53.527736Z",
     "shell.execute_reply": "2021-12-11T13:51:53.526880Z",
     "shell.execute_reply.started": "2021-11-08T15:54:18.881989Z"
    },
    "papermill": {
     "duration": 1.63801,
     "end_time": "2021-12-11T13:51:53.527924",
     "exception": false,
     "start_time": "2021-12-11T13:51:51.889914",
     "status": "completed"
    },
    "tags": []
   },
   "outputs": [],
   "source": [
    "import numpy as np\n",
    "import pandas as pd\n",
    "import matplotlib.pyplot as plt\n",
    "import json\n",
    "import seaborn as sns\n",
    "from skimage import measure \n",
    "import cv2\n",
    "from tqdm import tqdm\n",
    "sns.set(rc={'figure.figsize':(12,8)})"
   ]
  },
  {
   "cell_type": "markdown",
   "id": "879a361c",
   "metadata": {
    "papermill": {
     "duration": 0.032038,
     "end_time": "2021-12-11T13:51:53.593507",
     "exception": false,
     "start_time": "2021-12-11T13:51:53.561469",
     "status": "completed"
    },
    "tags": []
   },
   "source": [
    "A few helper functions:"
   ]
  },
  {
   "cell_type": "code",
   "execution_count": 2,
   "id": "5ef607bb",
   "metadata": {
    "_kg_hide-input": true,
    "execution": {
     "iopub.execute_input": "2021-12-11T13:51:53.664505Z",
     "iopub.status.busy": "2021-12-11T13:51:53.663386Z",
     "iopub.status.idle": "2021-12-11T13:51:53.683848Z",
     "shell.execute_reply": "2021-12-11T13:51:53.684407Z",
     "shell.execute_reply.started": "2021-11-08T15:54:21.573329Z"
    },
    "papermill": {
     "duration": 0.05801,
     "end_time": "2021-12-11T13:51:53.684587",
     "exception": false,
     "start_time": "2021-12-11T13:51:53.626577",
     "status": "completed"
    },
    "tags": []
   },
   "outputs": [],
   "source": [
    "# create mask from polygon\n",
    "def get_shape(loc):\n",
    "    shape = df.iloc[loc]['shape']\n",
    "    mask = np.zeros((520, 704), dtype=np.uint8)\n",
    "    cv2.fillPoly(mask, [shape], 1)\n",
    "    mask = mask.astype(bool)\n",
    "    x1, y1 = df.iloc[loc]['x_top_left'], df.iloc[loc]['y_top_left']\n",
    "    x2, y2 = x1+df.iloc[loc]['bbox_width'], y1+df.iloc[loc]['bbox_height']\n",
    "    return mask[max(0,y1-5):min(520,y2+5),max(0,x1-5):min(704,x2+5)]*1\n",
    "\n",
    "CELLS = ['shsy5y', 'astro', 'cort']\n",
    "\n",
    "# get statistics for a given feature\n",
    "def feature_stat(feature):\n",
    "    cell_stat = []\n",
    "    for i in range(3):\n",
    "        stat = df[df.cell_type == CELLS[i]][feature].describe([.01, .05, .95, .99])\n",
    "        cell_stat.append([CELLS[i],\n",
    "                          int(stat['count']),\n",
    "                          round(stat['min'], 3),\n",
    "                          round(stat['max'], 3),\n",
    "                          round(stat['mean'], 3),\n",
    "                          round(stat['std'], 3),\n",
    "                          round(stat['1%'], 3),\n",
    "                          round(stat['5%'], 3),\n",
    "                          round(stat['95%'], 3),\n",
    "                          round(stat['99%'], 3)])\n",
    "    df_stat = pd.DataFrame(cell_stat, columns=['Cell Type', 'Cell Count', \n",
    "                                               'Min {}'.format(feature), \n",
    "                                               'Max {}'.format(feature), \n",
    "                                               'Mean {}'.format(feature), \n",
    "                                               '{} std'.format(feature),\n",
    "                                               '1%', '5%', '95%', '99%'])\n",
    "    return df_stat\n",
    "\n",
    "# visualize solidity\n",
    "def show_solidity(id):\n",
    "    all_props = measure.regionprops(get_shape(id))\n",
    "    ctype = df.iloc[id]['cell_type']\n",
    "    fig, ax = plt.subplots(1, 2, figsize=(15,8))\n",
    "    fig.tight_layout()\n",
    "    plt.subplot(1,2,1)\n",
    "    plt.imshow(get_shape(id))\n",
    "    ax[0].set_aspect(1)\n",
    "    ax[0].grid(False)\n",
    "    plt.title('{}: Original shape (Solidity={})'.format(ctype, round(all_props[0].solidity, 3)))\n",
    "    plt.subplot(1,2,2)\n",
    "    ax[1].set_aspect(1)\n",
    "    ax[1].grid(False)\n",
    "    plt.title('Convex shape')\n",
    "    plt.imshow(all_props[0].convex_image);\n",
    "    \n",
    "# list format: [feature, shsy5y min, shsy5y max, astro min, astro max, cort min, cort max]\n",
    "criteria = []\n",
    "\n",
    "# add criteria for post processing\n",
    "def add_criteria(dfs, fname):\n",
    "    criteria.append([fname, \n",
    "                     dfs[dfs['Cell Type'] == 'shsy5y']['1%'][0],\n",
    "                     dfs[dfs['Cell Type'] == 'shsy5y']['99%'][0],\n",
    "                     dfs[dfs['Cell Type'] == 'astro']['1%'][1],\n",
    "                     dfs[dfs['Cell Type'] == 'astro']['99%'][1],\n",
    "                     dfs[dfs['Cell Type'] == 'cort']['1%'][2],\n",
    "                     dfs[dfs['Cell Type'] == 'cort']['99%'][2]])"
   ]
  },
  {
   "cell_type": "markdown",
   "id": "9bb557bd",
   "metadata": {
    "papermill": {
     "duration": 0.032718,
     "end_time": "2021-12-11T13:51:53.750163",
     "exception": false,
     "start_time": "2021-12-11T13:51:53.717445",
     "status": "completed"
    },
    "tags": []
   },
   "source": [
    "# Create DataFrame with cell data\n",
    "Start by reading in .json files representing the entire train data set. We assume that the train data set is representative of the hidden test data set."
   ]
  },
  {
   "cell_type": "code",
   "execution_count": 3,
   "id": "67b42f6c",
   "metadata": {
    "execution": {
     "iopub.execute_input": "2021-12-11T13:51:53.819478Z",
     "iopub.status.busy": "2021-12-11T13:51:53.818381Z",
     "iopub.status.idle": "2021-12-11T13:51:53.827004Z",
     "shell.execute_reply": "2021-12-11T13:51:53.827561Z",
     "shell.execute_reply.started": "2021-11-08T15:54:22.500764Z"
    },
    "papermill": {
     "duration": 0.044904,
     "end_time": "2021-12-11T13:51:53.827742",
     "exception": false,
     "start_time": "2021-12-11T13:51:53.782838",
     "status": "completed"
    },
    "tags": []
   },
   "outputs": [],
   "source": [
    "data = []\n",
    "\n",
    "def add_features(jfile, dlist):\n",
    "    with open(jfile, 'r') as f:\n",
    "        jdata = json.load(f)\n",
    "    for i in range(len(jdata['annotations'])):\n",
    "        shape = jdata['annotations'][i]['segmentation'][0]\n",
    "        shape = np.reshape(shape, [len(shape)//2, 2]).astype(np.int32)\n",
    "        dlist.append([jdata['categories'][jdata['annotations'][i]['category_id']-1]['name'], #cell type\n",
    "                      #jdata['annotations'][i]['area'], # segment area\n",
    "                      jdata['annotations'][i]['bbox'][0], # x top-left\n",
    "                      jdata['annotations'][i]['bbox'][1], # y top left\n",
    "                      jdata['annotations'][i]['bbox'][2], # width\n",
    "                      jdata['annotations'][i]['bbox'][3], # height\n",
    "                      shape, # shape\n",
    "                      ]) \n",
    "    return dlist"
   ]
  },
  {
   "cell_type": "code",
   "execution_count": 4,
   "id": "bf028931",
   "metadata": {
    "execution": {
     "iopub.execute_input": "2021-12-11T13:51:53.898243Z",
     "iopub.status.busy": "2021-12-11T13:51:53.897102Z",
     "iopub.status.idle": "2021-12-11T13:51:56.938652Z",
     "shell.execute_reply": "2021-12-11T13:51:56.937474Z",
     "shell.execute_reply.started": "2021-11-08T15:54:22.78959Z"
    },
    "papermill": {
     "duration": 3.07785,
     "end_time": "2021-12-11T13:51:56.938842",
     "exception": false,
     "start_time": "2021-12-11T13:51:53.860992",
     "status": "completed"
    },
    "tags": []
   },
   "outputs": [],
   "source": [
    "data = add_features('../input/sartorius-create-coco-annotations/train_fold_0.json', data)\n",
    "data = add_features('../input/sartorius-create-coco-annotations/test_fold_0.json', data)\n",
    "df = pd.DataFrame(data, columns=['cell_type', 'x_top_left', 'y_top_left', 'bbox_width', 'bbox_height', 'shape'])"
   ]
  },
  {
   "cell_type": "markdown",
   "id": "34829ad6",
   "metadata": {
    "papermill": {
     "duration": 0.032035,
     "end_time": "2021-12-11T13:51:57.003718",
     "exception": false,
     "start_time": "2021-12-11T13:51:56.971683",
     "status": "completed"
    },
    "tags": []
   },
   "source": [
    "## Create additional features\n",
    "Here we use [skimage.measure.regionprops](https://scikit-image.org/docs/dev/api/skimage.measure.html#skimage.measure.regionprops) to extract a whole range of features of each cell mask. The analysis below will focus on the following features:  \n",
    "  * Area \n",
    "  * Major and minor axis length of the ellipse that has the same normalized second central moments as the region\n",
    "  * Minor/major axis ratio\n",
    "  * Solidity (Ratio of pixels in the region to pixels of the convex hull image)\n",
    "  * Extent (Ratio of pixels in the region to pixels in the total bounding box)\n",
    "  * Hu moments\n",
    "  \n",
    "There are other features that could be analysed as well."
   ]
  },
  {
   "cell_type": "code",
   "execution_count": 5,
   "id": "39ea4e1d",
   "metadata": {
    "_kg_hide-output": true,
    "execution": {
     "iopub.execute_input": "2021-12-11T13:51:57.085334Z",
     "iopub.status.busy": "2021-12-11T13:51:57.084496Z",
     "iopub.status.idle": "2021-12-11T13:54:41.664168Z",
     "shell.execute_reply": "2021-12-11T13:54:41.664711Z",
     "shell.execute_reply.started": "2021-11-08T15:55:18.088491Z"
    },
    "papermill": {
     "duration": 164.622783,
     "end_time": "2021-12-11T13:54:41.664922",
     "exception": false,
     "start_time": "2021-12-11T13:51:57.042139",
     "status": "completed"
    },
    "tags": []
   },
   "outputs": [
    {
     "name": "stderr",
     "output_type": "stream",
     "text": [
      "100%|██████████| 73557/73557 [02:44<00:00, 446.99it/s]\n"
     ]
    }
   ],
   "source": [
    "# additional features\n",
    "solidity = []\n",
    "major_axis_length = []\n",
    "minor_axis_length = []\n",
    "extent = []\n",
    "hu_moments = []\n",
    "area = []\n",
    "for i in tqdm(range(len(df))):\n",
    "    mask = get_shape(i)\n",
    "    all_props = measure.regionprops(mask)\n",
    "    solidity.append(all_props[0].solidity)\n",
    "    major_axis_length.append(all_props[0].major_axis_length)\n",
    "    minor_axis_length.append(all_props[0].minor_axis_length)\n",
    "    extent.append(all_props[0].extent)\n",
    "    hu_moments.append(all_props[0].moments_hu)\n",
    "    area.append(all_props[0].area)"
   ]
  },
  {
   "cell_type": "code",
   "execution_count": 6,
   "id": "6a5b523c",
   "metadata": {
    "execution": {
     "iopub.execute_input": "2021-12-11T13:54:42.682886Z",
     "iopub.status.busy": "2021-12-11T13:54:42.682105Z",
     "iopub.status.idle": "2021-12-11T13:54:43.240136Z",
     "shell.execute_reply": "2021-12-11T13:54:43.239518Z",
     "shell.execute_reply.started": "2021-11-08T15:57:32.092834Z"
    },
    "papermill": {
     "duration": 1.071618,
     "end_time": "2021-12-11T13:54:43.240281",
     "exception": false,
     "start_time": "2021-12-11T13:54:42.168663",
     "status": "completed"
    },
    "tags": []
   },
   "outputs": [],
   "source": [
    "df['area'] = area\n",
    "df['solidity'] = solidity\n",
    "df['major_axis_len'] = major_axis_length\n",
    "df['minor_axis_len'] = minor_axis_length\n",
    "max_ax_len = np.asarray(major_axis_length)\n",
    "max_ax_len[max_ax_len == 0] = 1\n",
    "df['axis_ratio'] = np.asarray(minor_axis_length)/max_ax_len\n",
    "df['extent'] = extent\n",
    "for i in range(7):\n",
    "    df['hu_{}'.format(str(i))] = np.asarray(hu_moments)[:,i]"
   ]
  },
  {
   "cell_type": "markdown",
   "id": "f1431ade",
   "metadata": {
    "execution": {
     "iopub.execute_input": "2021-11-07T18:20:47.505814Z",
     "iopub.status.busy": "2021-11-07T18:20:47.504923Z",
     "iopub.status.idle": "2021-11-07T18:20:47.550532Z",
     "shell.execute_reply": "2021-11-07T18:20:47.549598Z",
     "shell.execute_reply.started": "2021-11-07T18:20:47.505771Z"
    },
    "papermill": {
     "duration": 0.50872,
     "end_time": "2021-12-11T13:54:44.267881",
     "exception": false,
     "start_time": "2021-12-11T13:54:43.759161",
     "status": "completed"
    },
    "tags": []
   },
   "source": [
    "# Area\n",
    "Let's start by looking at area histogram - clearly the astro cells have a much larger area range the the others."
   ]
  },
  {
   "cell_type": "code",
   "execution_count": 7,
   "id": "52680bf8",
   "metadata": {
    "_kg_hide-input": false,
    "execution": {
     "iopub.execute_input": "2021-12-11T13:54:45.341109Z",
     "iopub.status.busy": "2021-12-11T13:54:45.340314Z",
     "iopub.status.idle": "2021-12-11T13:54:47.717240Z",
     "shell.execute_reply": "2021-12-11T13:54:47.716587Z",
     "shell.execute_reply.started": "2021-11-08T15:57:32.513756Z"
    },
    "papermill": {
     "duration": 2.937505,
     "end_time": "2021-12-11T13:54:47.717402",
     "exception": false,
     "start_time": "2021-12-11T13:54:44.779897",
     "status": "completed"
    },
    "tags": []
   },
   "outputs": [
    {
     "data": {
      "image/png": "[encoded data removed]",
      "text/plain": [
       "<Figure size 864x576 with 1 Axes>"
      ]
     },
     "metadata": {},
     "output_type": "display_data"
    }
   ],
   "source": [
    "sns.histplot(data=df[df.area < 2000], x=\"area\", hue='cell_type');"
   ]
  },
  {
   "cell_type": "markdown",
   "id": "b91bfc87",
   "metadata": {
    "papermill": {
     "duration": 0.514331,
     "end_time": "2021-12-11T13:54:48.762875",
     "exception": false,
     "start_time": "2021-12-11T13:54:48.248544",
     "status": "completed"
    },
    "tags": []
   },
   "source": [
    "We want to avoid including the extreme outliers when filtering predictions, so in the following we find the 1% and 5% upper and lower percentiles for each feature as a baseline for min and max values to check against."
   ]
  },
  {
   "cell_type": "code",
   "execution_count": 8,
   "id": "59d2ab46",
   "metadata": {
    "execution": {
     "iopub.execute_input": "2021-12-11T13:54:49.791112Z",
     "iopub.status.busy": "2021-12-11T13:54:49.790399Z",
     "iopub.status.idle": "2021-12-11T13:54:49.868533Z",
     "shell.execute_reply": "2021-12-11T13:54:49.869049Z",
     "shell.execute_reply.started": "2021-11-08T15:57:34.393856Z"
    },
    "papermill": {
     "duration": 0.589218,
     "end_time": "2021-12-11T13:54:49.869237",
     "exception": false,
     "start_time": "2021-12-11T13:54:49.280019",
     "status": "completed"
    },
    "tags": []
   },
   "outputs": [
    {
     "data": {
      "text/html": [
       "<div>\n",
       "<style scoped>\n",
       "    .dataframe tbody tr th:only-of-type {\n",
       "        vertical-align: middle;\n",
       "    }\n",
       "\n",
       "    .dataframe tbody tr th {\n",
       "        vertical-align: top;\n",
       "    }\n",
       "\n",
       "    .dataframe thead th {\n",
       "        text-align: right;\n",
       "    }\n",
       "</style>\n",
       "<table border=\"1\" class=\"dataframe\">\n",
       "  <thead>\n",
       "    <tr style=\"text-align: right;\">\n",
       "      <th></th>\n",
       "      <th>Cell Type</th>\n",
       "      <th>Cell Count</th>\n",
       "      <th>Min area</th>\n",
       "      <th>Max area</th>\n",
       "      <th>Mean area</th>\n",
       "      <th>area std</th>\n",
       "      <th>1%</th>\n",
       "      <th>5%</th>\n",
       "      <th>95%</th>\n",
       "      <th>99%</th>\n",
       "    </tr>\n",
       "  </thead>\n",
       "  <tbody>\n",
       "    <tr>\n",
       "      <th>0</th>\n",
       "      <td>shsy5y</td>\n",
       "      <td>52283</td>\n",
       "      <td>10.0</td>\n",
       "      <td>2364.0</td>\n",
       "      <td>249.720</td>\n",
       "      <td>145.289</td>\n",
       "      <td>57.0</td>\n",
       "      <td>88.0</td>\n",
       "      <td>524.0</td>\n",
       "      <td>752.18</td>\n",
       "    </tr>\n",
       "    <tr>\n",
       "      <th>1</th>\n",
       "      <td>astro</td>\n",
       "      <td>10497</td>\n",
       "      <td>4.0</td>\n",
       "      <td>11919.0</td>\n",
       "      <td>896.813</td>\n",
       "      <td>828.037</td>\n",
       "      <td>46.0</td>\n",
       "      <td>153.8</td>\n",
       "      <td>2347.6</td>\n",
       "      <td>4259.92</td>\n",
       "    </tr>\n",
       "    <tr>\n",
       "      <th>2</th>\n",
       "      <td>cort</td>\n",
       "      <td>10777</td>\n",
       "      <td>27.0</td>\n",
       "      <td>2168.0</td>\n",
       "      <td>261.831</td>\n",
       "      <td>146.765</td>\n",
       "      <td>70.0</td>\n",
       "      <td>107.0</td>\n",
       "      <td>533.0</td>\n",
       "      <td>776.24</td>\n",
       "    </tr>\n",
       "  </tbody>\n",
       "</table>\n",
       "</div>"
      ],
      "text/plain": [
       "  Cell Type  Cell Count  Min area  Max area  Mean area  area std    1%     5%  \\\n",
       "0    shsy5y       52283      10.0    2364.0    249.720   145.289  57.0   88.0   \n",
       "1     astro       10497       4.0   11919.0    896.813   828.037  46.0  153.8   \n",
       "2      cort       10777      27.0    2168.0    261.831   146.765  70.0  107.0   \n",
       "\n",
       "      95%      99%  \n",
       "0   524.0   752.18  \n",
       "1  2347.6  4259.92  \n",
       "2   533.0   776.24  "
      ]
     },
     "execution_count": 8,
     "metadata": {},
     "output_type": "execute_result"
    }
   ],
   "source": [
    "fs = feature_stat('area')\n",
    "add_criteria(fs, 'area')\n",
    "fs"
   ]
  },
  {
   "cell_type": "markdown",
   "id": "70b35576",
   "metadata": {
    "papermill": {
     "duration": 0.505863,
     "end_time": "2021-12-11T13:54:50.883330",
     "exception": false,
     "start_time": "2021-12-11T13:54:50.377467",
     "status": "completed"
    },
    "tags": []
   },
   "source": [
    "# Major and minor axis\n",
    "The major and minor axis (and ratio) of a segment is defined as (image credit: Nattapon Mahavik):   \n",
    "![ilu](https://www.researchgate.net/profile/Nattapon-Mahavik/publication/344473808/figure/fig1/AS:943223530864640@1601893422337/Schematic-of-the-fitting-ellipse-shown-in-the-biggest-ellipse-envelopes-of-the-convective.jpg)  \n",
    "\n",
    "Circular shapes will have axis ratio close to 1 while very long and thin shapes will have axis ratio close to 0. Let's take a look at major axis length:"
   ]
  },
  {
   "cell_type": "code",
   "execution_count": 9,
   "id": "82bc01b1",
   "metadata": {
    "execution": {
     "iopub.execute_input": "2021-12-11T13:54:51.906189Z",
     "iopub.status.busy": "2021-12-11T13:54:51.905527Z",
     "iopub.status.idle": "2021-12-11T13:54:54.702629Z",
     "shell.execute_reply": "2021-12-11T13:54:54.702060Z",
     "shell.execute_reply.started": "2021-11-08T15:57:34.450434Z"
    },
    "papermill": {
     "duration": 3.310776,
     "end_time": "2021-12-11T13:54:54.702785",
     "exception": false,
     "start_time": "2021-12-11T13:54:51.392009",
     "status": "completed"
    },
    "tags": []
   },
   "outputs": [
    {
     "data": {
      "image/png": "[encoded data removed]",
      "text/plain": [
       "<Figure size 864x576 with 1 Axes>"
      ]
     },
     "metadata": {},
     "output_type": "display_data"
    }
   ],
   "source": [
    "sns.histplot(data=df[df['major_axis_len'] < 200], x=\"major_axis_len\", hue='cell_type');"
   ]
  },
  {
   "cell_type": "markdown",
   "id": "d688a3b1",
   "metadata": {
    "papermill": {
     "duration": 0.51787,
     "end_time": "2021-12-11T13:54:55.734998",
     "exception": false,
     "start_time": "2021-12-11T13:54:55.217128",
     "status": "completed"
    },
    "tags": []
   },
   "source": [
    "And the statistics:"
   ]
  },
  {
   "cell_type": "code",
   "execution_count": 10,
   "id": "0f238093",
   "metadata": {
    "execution": {
     "iopub.execute_input": "2021-12-11T13:54:56.793501Z",
     "iopub.status.busy": "2021-12-11T13:54:56.792138Z",
     "iopub.status.idle": "2021-12-11T13:54:56.854204Z",
     "shell.execute_reply": "2021-12-11T13:54:56.853507Z",
     "shell.execute_reply.started": "2021-11-08T15:57:36.696411Z"
    },
    "papermill": {
     "duration": 0.597772,
     "end_time": "2021-12-11T13:54:56.854377",
     "exception": false,
     "start_time": "2021-12-11T13:54:56.256605",
     "status": "completed"
    },
    "tags": []
   },
   "outputs": [
    {
     "data": {
      "text/html": [
       "<div>\n",
       "<style scoped>\n",
       "    .dataframe tbody tr th:only-of-type {\n",
       "        vertical-align: middle;\n",
       "    }\n",
       "\n",
       "    .dataframe tbody tr th {\n",
       "        vertical-align: top;\n",
       "    }\n",
       "\n",
       "    .dataframe thead th {\n",
       "        text-align: right;\n",
       "    }\n",
       "</style>\n",
       "<table border=\"1\" class=\"dataframe\">\n",
       "  <thead>\n",
       "    <tr style=\"text-align: right;\">\n",
       "      <th></th>\n",
       "      <th>Cell Type</th>\n",
       "      <th>Cell Count</th>\n",
       "      <th>Min major_axis_len</th>\n",
       "      <th>Max major_axis_len</th>\n",
       "      <th>Mean major_axis_len</th>\n",
       "      <th>major_axis_len std</th>\n",
       "      <th>1%</th>\n",
       "      <th>5%</th>\n",
       "      <th>95%</th>\n",
       "      <th>99%</th>\n",
       "    </tr>\n",
       "  </thead>\n",
       "  <tbody>\n",
       "    <tr>\n",
       "      <th>0</th>\n",
       "      <td>shsy5y</td>\n",
       "      <td>52283</td>\n",
       "      <td>6.103</td>\n",
       "      <td>117.086</td>\n",
       "      <td>25.734</td>\n",
       "      <td>11.035</td>\n",
       "      <td>10.597</td>\n",
       "      <td>13.146</td>\n",
       "      <td>46.878</td>\n",
       "      <td>63.822</td>\n",
       "    </tr>\n",
       "    <tr>\n",
       "      <th>1</th>\n",
       "      <td>astro</td>\n",
       "      <td>10497</td>\n",
       "      <td>3.464</td>\n",
       "      <td>485.653</td>\n",
       "      <td>68.860</td>\n",
       "      <td>40.548</td>\n",
       "      <td>12.204</td>\n",
       "      <td>19.085</td>\n",
       "      <td>143.674</td>\n",
       "      <td>205.016</td>\n",
       "    </tr>\n",
       "    <tr>\n",
       "      <th>2</th>\n",
       "      <td>cort</td>\n",
       "      <td>10777</td>\n",
       "      <td>7.585</td>\n",
       "      <td>140.802</td>\n",
       "      <td>21.565</td>\n",
       "      <td>6.913</td>\n",
       "      <td>11.533</td>\n",
       "      <td>13.590</td>\n",
       "      <td>34.037</td>\n",
       "      <td>45.296</td>\n",
       "    </tr>\n",
       "  </tbody>\n",
       "</table>\n",
       "</div>"
      ],
      "text/plain": [
       "  Cell Type  Cell Count  Min major_axis_len  Max major_axis_len  \\\n",
       "0    shsy5y       52283               6.103             117.086   \n",
       "1     astro       10497               3.464             485.653   \n",
       "2      cort       10777               7.585             140.802   \n",
       "\n",
       "   Mean major_axis_len  major_axis_len std      1%      5%      95%      99%  \n",
       "0               25.734              11.035  10.597  13.146   46.878   63.822  \n",
       "1               68.860              40.548  12.204  19.085  143.674  205.016  \n",
       "2               21.565               6.913  11.533  13.590   34.037   45.296  "
      ]
     },
     "execution_count": 10,
     "metadata": {},
     "output_type": "execute_result"
    }
   ],
   "source": [
    "fs = feature_stat('major_axis_len')\n",
    "add_criteria(fs, 'major_axis_len')\n",
    "fs"
   ]
  },
  {
   "cell_type": "markdown",
   "id": "971bec93",
   "metadata": {
    "papermill": {
     "duration": 0.529975,
     "end_time": "2021-12-11T13:54:57.960720",
     "exception": false,
     "start_time": "2021-12-11T13:54:57.430745",
     "status": "completed"
    },
    "tags": []
   },
   "source": [
    "Then the minor axis:"
   ]
  },
  {
   "cell_type": "code",
   "execution_count": 11,
   "id": "06a69633",
   "metadata": {
    "execution": {
     "iopub.execute_input": "2021-12-11T13:54:58.992496Z",
     "iopub.status.busy": "2021-12-11T13:54:58.991488Z",
     "iopub.status.idle": "2021-12-11T13:55:01.623160Z",
     "shell.execute_reply": "2021-12-11T13:55:01.622369Z",
     "shell.execute_reply.started": "2021-11-08T15:57:36.748892Z"
    },
    "papermill": {
     "duration": 3.148403,
     "end_time": "2021-12-11T13:55:01.623400",
     "exception": false,
     "start_time": "2021-12-11T13:54:58.474997",
     "status": "completed"
    },
    "tags": []
   },
   "outputs": [
    {
     "data": {
      "image/png": "[encoded data removed]",
      "text/plain": [
       "<Figure size 864x576 with 1 Axes>"
      ]
     },
     "metadata": {},
     "output_type": "display_data"
    }
   ],
   "source": [
    "sns.histplot(data=df[df['minor_axis_len'] < 60], x=\"minor_axis_len\", hue='cell_type');"
   ]
  },
  {
   "cell_type": "markdown",
   "id": "cd2b3214",
   "metadata": {
    "papermill": {
     "duration": 0.54171,
     "end_time": "2021-12-11T13:55:02.720097",
     "exception": false,
     "start_time": "2021-12-11T13:55:02.178387",
     "status": "completed"
    },
    "tags": []
   },
   "source": [
    "Less of a difference here, as expected."
   ]
  },
  {
   "cell_type": "code",
   "execution_count": 12,
   "id": "b8923987",
   "metadata": {
    "execution": {
     "iopub.execute_input": "2021-12-11T13:55:03.774885Z",
     "iopub.status.busy": "2021-12-11T13:55:03.774140Z",
     "iopub.status.idle": "2021-12-11T13:55:03.834259Z",
     "shell.execute_reply": "2021-12-11T13:55:03.833716Z",
     "shell.execute_reply.started": "2021-11-08T15:57:38.838209Z"
    },
    "papermill": {
     "duration": 0.596622,
     "end_time": "2021-12-11T13:55:03.834444",
     "exception": false,
     "start_time": "2021-12-11T13:55:03.237822",
     "status": "completed"
    },
    "tags": []
   },
   "outputs": [
    {
     "data": {
      "text/html": [
       "<div>\n",
       "<style scoped>\n",
       "    .dataframe tbody tr th:only-of-type {\n",
       "        vertical-align: middle;\n",
       "    }\n",
       "\n",
       "    .dataframe tbody tr th {\n",
       "        vertical-align: top;\n",
       "    }\n",
       "\n",
       "    .dataframe thead th {\n",
       "        text-align: right;\n",
       "    }\n",
       "</style>\n",
       "<table border=\"1\" class=\"dataframe\">\n",
       "  <thead>\n",
       "    <tr style=\"text-align: right;\">\n",
       "      <th></th>\n",
       "      <th>Cell Type</th>\n",
       "      <th>Cell Count</th>\n",
       "      <th>Min minor_axis_len</th>\n",
       "      <th>Max minor_axis_len</th>\n",
       "      <th>Mean minor_axis_len</th>\n",
       "      <th>minor_axis_len std</th>\n",
       "      <th>1%</th>\n",
       "      <th>5%</th>\n",
       "      <th>95%</th>\n",
       "      <th>99%</th>\n",
       "    </tr>\n",
       "  </thead>\n",
       "  <tbody>\n",
       "    <tr>\n",
       "      <th>0</th>\n",
       "      <td>shsy5y</td>\n",
       "      <td>52283</td>\n",
       "      <td>1.365</td>\n",
       "      <td>46.204</td>\n",
       "      <td>12.932</td>\n",
       "      <td>3.838</td>\n",
       "      <td>6.362</td>\n",
       "      <td>7.906</td>\n",
       "      <td>19.961</td>\n",
       "      <td>25.255</td>\n",
       "    </tr>\n",
       "    <tr>\n",
       "      <th>1</th>\n",
       "      <td>astro</td>\n",
       "      <td>10497</td>\n",
       "      <td>1.029</td>\n",
       "      <td>183.879</td>\n",
       "      <td>21.443</td>\n",
       "      <td>12.800</td>\n",
       "      <td>4.487</td>\n",
       "      <td>8.306</td>\n",
       "      <td>45.445</td>\n",
       "      <td>67.978</td>\n",
       "    </tr>\n",
       "    <tr>\n",
       "      <th>2</th>\n",
       "      <td>cort</td>\n",
       "      <td>10777</td>\n",
       "      <td>2.795</td>\n",
       "      <td>46.304</td>\n",
       "      <td>15.181</td>\n",
       "      <td>4.049</td>\n",
       "      <td>7.264</td>\n",
       "      <td>9.668</td>\n",
       "      <td>22.606</td>\n",
       "      <td>27.526</td>\n",
       "    </tr>\n",
       "  </tbody>\n",
       "</table>\n",
       "</div>"
      ],
      "text/plain": [
       "  Cell Type  Cell Count  Min minor_axis_len  Max minor_axis_len  \\\n",
       "0    shsy5y       52283               1.365              46.204   \n",
       "1     astro       10497               1.029             183.879   \n",
       "2      cort       10777               2.795              46.304   \n",
       "\n",
       "   Mean minor_axis_len  minor_axis_len std     1%     5%     95%     99%  \n",
       "0               12.932               3.838  6.362  7.906  19.961  25.255  \n",
       "1               21.443              12.800  4.487  8.306  45.445  67.978  \n",
       "2               15.181               4.049  7.264  9.668  22.606  27.526  "
      ]
     },
     "execution_count": 12,
     "metadata": {},
     "output_type": "execute_result"
    }
   ],
   "source": [
    "fs = feature_stat('minor_axis_len')\n",
    "add_criteria(fs, 'minor_axis_len')\n",
    "fs"
   ]
  },
  {
   "cell_type": "markdown",
   "id": "3cc2f72d",
   "metadata": {
    "papermill": {
     "duration": 0.511356,
     "end_time": "2021-12-11T13:55:04.857776",
     "exception": false,
     "start_time": "2021-12-11T13:55:04.346420",
     "status": "completed"
    },
    "tags": []
   },
   "source": [
    "Finally we look at the minor/major axis ratio:"
   ]
  },
  {
   "cell_type": "code",
   "execution_count": 13,
   "id": "7f9df536",
   "metadata": {
    "execution": {
     "iopub.execute_input": "2021-12-11T13:55:05.887341Z",
     "iopub.status.busy": "2021-12-11T13:55:05.886662Z",
     "iopub.status.idle": "2021-12-11T13:55:07.001985Z",
     "shell.execute_reply": "2021-12-11T13:55:07.002659Z",
     "shell.execute_reply.started": "2021-11-08T15:57:38.890999Z"
    },
    "papermill": {
     "duration": 1.629513,
     "end_time": "2021-12-11T13:55:07.002876",
     "exception": false,
     "start_time": "2021-12-11T13:55:05.373363",
     "status": "completed"
    },
    "tags": []
   },
   "outputs": [
    {
     "data": {
      "image/png": "[encoded data removed]",
      "text/plain": [
       "<Figure size 864x576 with 1 Axes>"
      ]
     },
     "metadata": {},
     "output_type": "display_data"
    }
   ],
   "source": [
    "sns.histplot(data=df[df['axis_ratio'] < 10], x=\"axis_ratio\", hue='cell_type');"
   ]
  },
  {
   "cell_type": "code",
   "execution_count": 14,
   "id": "215061df",
   "metadata": {
    "execution": {
     "iopub.execute_input": "2021-12-11T13:55:08.036539Z",
     "iopub.status.busy": "2021-12-11T13:55:08.035776Z",
     "iopub.status.idle": "2021-12-11T13:55:08.108041Z",
     "shell.execute_reply": "2021-12-11T13:55:08.107276Z",
     "shell.execute_reply.started": "2021-11-08T15:57:39.818317Z"
    },
    "papermill": {
     "duration": 0.591042,
     "end_time": "2021-12-11T13:55:08.108191",
     "exception": false,
     "start_time": "2021-12-11T13:55:07.517149",
     "status": "completed"
    },
    "tags": []
   },
   "outputs": [
    {
     "data": {
      "text/html": [
       "<div>\n",
       "<style scoped>\n",
       "    .dataframe tbody tr th:only-of-type {\n",
       "        vertical-align: middle;\n",
       "    }\n",
       "\n",
       "    .dataframe tbody tr th {\n",
       "        vertical-align: top;\n",
       "    }\n",
       "\n",
       "    .dataframe thead th {\n",
       "        text-align: right;\n",
       "    }\n",
       "</style>\n",
       "<table border=\"1\" class=\"dataframe\">\n",
       "  <thead>\n",
       "    <tr style=\"text-align: right;\">\n",
       "      <th></th>\n",
       "      <th>Cell Type</th>\n",
       "      <th>Cell Count</th>\n",
       "      <th>Min axis_ratio</th>\n",
       "      <th>Max axis_ratio</th>\n",
       "      <th>Mean axis_ratio</th>\n",
       "      <th>axis_ratio std</th>\n",
       "      <th>1%</th>\n",
       "      <th>5%</th>\n",
       "      <th>95%</th>\n",
       "      <th>99%</th>\n",
       "    </tr>\n",
       "  </thead>\n",
       "  <tbody>\n",
       "    <tr>\n",
       "      <th>0</th>\n",
       "      <td>shsy5y</td>\n",
       "      <td>52283</td>\n",
       "      <td>0.048</td>\n",
       "      <td>0.994</td>\n",
       "      <td>0.555</td>\n",
       "      <td>0.184</td>\n",
       "      <td>0.184</td>\n",
       "      <td>0.263</td>\n",
       "      <td>0.865</td>\n",
       "      <td>0.940</td>\n",
       "    </tr>\n",
       "    <tr>\n",
       "      <th>1</th>\n",
       "      <td>astro</td>\n",
       "      <td>10497</td>\n",
       "      <td>0.028</td>\n",
       "      <td>0.995</td>\n",
       "      <td>0.374</td>\n",
       "      <td>0.206</td>\n",
       "      <td>0.076</td>\n",
       "      <td>0.117</td>\n",
       "      <td>0.782</td>\n",
       "      <td>0.903</td>\n",
       "    </tr>\n",
       "    <tr>\n",
       "      <th>2</th>\n",
       "      <td>cort</td>\n",
       "      <td>10777</td>\n",
       "      <td>0.114</td>\n",
       "      <td>0.993</td>\n",
       "      <td>0.727</td>\n",
       "      <td>0.146</td>\n",
       "      <td>0.326</td>\n",
       "      <td>0.458</td>\n",
       "      <td>0.932</td>\n",
       "      <td>0.970</td>\n",
       "    </tr>\n",
       "  </tbody>\n",
       "</table>\n",
       "</div>"
      ],
      "text/plain": [
       "  Cell Type  Cell Count  Min axis_ratio  Max axis_ratio  Mean axis_ratio  \\\n",
       "0    shsy5y       52283           0.048           0.994            0.555   \n",
       "1     astro       10497           0.028           0.995            0.374   \n",
       "2      cort       10777           0.114           0.993            0.727   \n",
       "\n",
       "   axis_ratio std     1%     5%    95%    99%  \n",
       "0           0.184  0.184  0.263  0.865  0.940  \n",
       "1           0.206  0.076  0.117  0.782  0.903  \n",
       "2           0.146  0.326  0.458  0.932  0.970  "
      ]
     },
     "execution_count": 14,
     "metadata": {},
     "output_type": "execute_result"
    }
   ],
   "source": [
    "fs = feature_stat('axis_ratio')\n",
    "add_criteria(fs, 'axis_ratio')\n",
    "fs"
   ]
  },
  {
   "cell_type": "markdown",
   "id": "22b39304",
   "metadata": {
    "papermill": {
     "duration": 0.539906,
     "end_time": "2021-12-11T13:55:09.208107",
     "exception": false,
     "start_time": "2021-12-11T13:55:08.668201",
     "status": "completed"
    },
    "tags": []
   },
   "source": [
    "# Solidity\n",
    "The solidity represents the ratio of pixels in the region to pixels of the convex hull image. So a convex cell will have solidity=1. Let's take a look at a few cells:"
   ]
  },
  {
   "cell_type": "code",
   "execution_count": 15,
   "id": "d2de4f3a",
   "metadata": {
    "_kg_hide-input": true,
    "execution": {
     "iopub.execute_input": "2021-12-11T13:55:10.302547Z",
     "iopub.status.busy": "2021-12-11T13:55:10.301716Z",
     "iopub.status.idle": "2021-12-11T13:55:10.927133Z",
     "shell.execute_reply": "2021-12-11T13:55:10.927726Z",
     "shell.execute_reply.started": "2021-11-08T15:57:39.872784Z"
    },
    "papermill": {
     "duration": 1.169531,
     "end_time": "2021-12-11T13:55:10.927937",
     "exception": false,
     "start_time": "2021-12-11T13:55:09.758406",
     "status": "completed"
    },
    "tags": []
   },
   "outputs": [
    {
     "data": {
      "image/png": "[encoded data removed]",
      "text/plain": [
       "<Figure size 1080x576 with 2 Axes>"
      ]
     },
     "metadata": {},
     "output_type": "display_data"
    }
   ],
   "source": [
    "show_solidity(69565)"
   ]
  },
  {
   "cell_type": "code",
   "execution_count": 16,
   "id": "6ac00ea3",
   "metadata": {
    "execution": {
     "iopub.execute_input": "2021-12-11T13:55:12.040602Z",
     "iopub.status.busy": "2021-12-11T13:55:12.039607Z",
     "iopub.status.idle": "2021-12-11T13:55:13.086617Z",
     "shell.execute_reply": "2021-12-11T13:55:13.087335Z",
     "shell.execute_reply.started": "2021-11-08T15:57:40.485329Z"
    },
    "papermill": {
     "duration": 1.600452,
     "end_time": "2021-12-11T13:55:13.087526",
     "exception": false,
     "start_time": "2021-12-11T13:55:11.487074",
     "status": "completed"
    },
    "tags": []
   },
   "outputs": [
    {
     "data": {
      "image/png": "[encoded data removed]",
      "text/plain": [
       "<Figure size 1080x576 with 2 Axes>"
      ]
     },
     "metadata": {},
     "output_type": "display_data"
    }
   ],
   "source": [
    "show_solidity(48407)"
   ]
  },
  {
   "cell_type": "code",
   "execution_count": 17,
   "id": "c7c8f9ac",
   "metadata": {
    "execution": {
     "iopub.execute_input": "2021-12-11T13:55:14.133335Z",
     "iopub.status.busy": "2021-12-11T13:55:14.132034Z",
     "iopub.status.idle": "2021-12-11T13:55:14.846326Z",
     "shell.execute_reply": "2021-12-11T13:55:14.845763Z",
     "shell.execute_reply.started": "2021-11-08T15:57:41.40244Z"
    },
    "papermill": {
     "duration": 1.241195,
     "end_time": "2021-12-11T13:55:14.846491",
     "exception": false,
     "start_time": "2021-12-11T13:55:13.605296",
     "status": "completed"
    },
    "tags": []
   },
   "outputs": [
    {
     "data": {
      "image/png": "[encoded data removed]",
      "text/plain": [
       "<Figure size 1080x576 with 2 Axes>"
      ]
     },
     "metadata": {},
     "output_type": "display_data"
    }
   ],
   "source": [
    "show_solidity(41909)"
   ]
  },
  {
   "cell_type": "code",
   "execution_count": 18,
   "id": "d392b019",
   "metadata": {
    "execution": {
     "iopub.execute_input": "2021-12-11T13:55:15.898897Z",
     "iopub.status.busy": "2021-12-11T13:55:15.898125Z",
     "iopub.status.idle": "2021-12-11T13:55:18.416640Z",
     "shell.execute_reply": "2021-12-11T13:55:18.417228Z",
     "shell.execute_reply.started": "2021-11-08T15:57:41.982833Z"
    },
    "papermill": {
     "duration": 3.048825,
     "end_time": "2021-12-11T13:55:18.417447",
     "exception": false,
     "start_time": "2021-12-11T13:55:15.368622",
     "status": "completed"
    },
    "tags": []
   },
   "outputs": [
    {
     "data": {
      "image/png": "[encoded data removed]",
      "text/plain": [
       "<Figure size 864x576 with 1 Axes>"
      ]
     },
     "metadata": {},
     "output_type": "display_data"
    }
   ],
   "source": [
    "sns.histplot(data=df, x=\"solidity\", hue='cell_type');"
   ]
  },
  {
   "cell_type": "code",
   "execution_count": 19,
   "id": "bd199864",
   "metadata": {
    "execution": {
     "iopub.execute_input": "2021-12-11T13:55:19.518353Z",
     "iopub.status.busy": "2021-12-11T13:55:19.517572Z",
     "iopub.status.idle": "2021-12-11T13:55:19.578948Z",
     "shell.execute_reply": "2021-12-11T13:55:19.578339Z",
     "shell.execute_reply.started": "2021-11-08T15:57:43.959174Z"
    },
    "papermill": {
     "duration": 0.623834,
     "end_time": "2021-12-11T13:55:19.579091",
     "exception": false,
     "start_time": "2021-12-11T13:55:18.955257",
     "status": "completed"
    },
    "tags": []
   },
   "outputs": [
    {
     "data": {
      "text/html": [
       "<div>\n",
       "<style scoped>\n",
       "    .dataframe tbody tr th:only-of-type {\n",
       "        vertical-align: middle;\n",
       "    }\n",
       "\n",
       "    .dataframe tbody tr th {\n",
       "        vertical-align: top;\n",
       "    }\n",
       "\n",
       "    .dataframe thead th {\n",
       "        text-align: right;\n",
       "    }\n",
       "</style>\n",
       "<table border=\"1\" class=\"dataframe\">\n",
       "  <thead>\n",
       "    <tr style=\"text-align: right;\">\n",
       "      <th></th>\n",
       "      <th>Cell Type</th>\n",
       "      <th>Cell Count</th>\n",
       "      <th>Min solidity</th>\n",
       "      <th>Max solidity</th>\n",
       "      <th>Mean solidity</th>\n",
       "      <th>solidity std</th>\n",
       "      <th>1%</th>\n",
       "      <th>5%</th>\n",
       "      <th>95%</th>\n",
       "      <th>99%</th>\n",
       "    </tr>\n",
       "  </thead>\n",
       "  <tbody>\n",
       "    <tr>\n",
       "      <th>0</th>\n",
       "      <td>shsy5y</td>\n",
       "      <td>52283</td>\n",
       "      <td>0.340</td>\n",
       "      <td>1.0</td>\n",
       "      <td>0.896</td>\n",
       "      <td>0.065</td>\n",
       "      <td>0.656</td>\n",
       "      <td>0.761</td>\n",
       "      <td>0.959</td>\n",
       "      <td>0.972</td>\n",
       "    </tr>\n",
       "    <tr>\n",
       "      <th>1</th>\n",
       "      <td>astro</td>\n",
       "      <td>10497</td>\n",
       "      <td>0.121</td>\n",
       "      <td>1.0</td>\n",
       "      <td>0.743</td>\n",
       "      <td>0.162</td>\n",
       "      <td>0.292</td>\n",
       "      <td>0.426</td>\n",
       "      <td>0.944</td>\n",
       "      <td>0.964</td>\n",
       "    </tr>\n",
       "    <tr>\n",
       "      <th>2</th>\n",
       "      <td>cort</td>\n",
       "      <td>10777</td>\n",
       "      <td>0.428</td>\n",
       "      <td>1.0</td>\n",
       "      <td>0.937</td>\n",
       "      <td>0.033</td>\n",
       "      <td>0.806</td>\n",
       "      <td>0.877</td>\n",
       "      <td>0.970</td>\n",
       "      <td>0.979</td>\n",
       "    </tr>\n",
       "  </tbody>\n",
       "</table>\n",
       "</div>"
      ],
      "text/plain": [
       "  Cell Type  Cell Count  Min solidity  Max solidity  Mean solidity  \\\n",
       "0    shsy5y       52283         0.340           1.0          0.896   \n",
       "1     astro       10497         0.121           1.0          0.743   \n",
       "2      cort       10777         0.428           1.0          0.937   \n",
       "\n",
       "   solidity std     1%     5%    95%    99%  \n",
       "0         0.065  0.656  0.761  0.959  0.972  \n",
       "1         0.162  0.292  0.426  0.944  0.964  \n",
       "2         0.033  0.806  0.877  0.970  0.979  "
      ]
     },
     "execution_count": 19,
     "metadata": {},
     "output_type": "execute_result"
    }
   ],
   "source": [
    "fs = feature_stat('solidity')\n",
    "add_criteria(fs, 'solidity')\n",
    "fs"
   ]
  },
  {
   "cell_type": "markdown",
   "id": "bdfcb1bc",
   "metadata": {
    "papermill": {
     "duration": 0.529977,
     "end_time": "2021-12-11T13:55:20.641151",
     "exception": false,
     "start_time": "2021-12-11T13:55:20.111174",
     "status": "completed"
    },
    "tags": []
   },
   "source": [
    "# Extent\n",
    "Extent represents the ratio of pixels in the region to pixels in the total bounding box. "
   ]
  },
  {
   "cell_type": "code",
   "execution_count": 20,
   "id": "2a3e5404",
   "metadata": {
    "execution": {
     "iopub.execute_input": "2021-12-11T13:55:21.712464Z",
     "iopub.status.busy": "2021-12-11T13:55:21.711696Z",
     "iopub.status.idle": "2021-12-11T13:55:23.164658Z",
     "shell.execute_reply": "2021-12-11T13:55:23.165111Z",
     "shell.execute_reply.started": "2021-11-08T15:57:44.009164Z"
    },
    "papermill": {
     "duration": 1.995804,
     "end_time": "2021-12-11T13:55:23.165284",
     "exception": false,
     "start_time": "2021-12-11T13:55:21.169480",
     "status": "completed"
    },
    "tags": []
   },
   "outputs": [
    {
     "data": {
      "image/png": "[encoded data removed]",
      "text/plain": [
       "<Figure size 864x576 with 1 Axes>"
      ]
     },
     "metadata": {},
     "output_type": "display_data"
    }
   ],
   "source": [
    "sns.histplot(data=df, x=\"extent\", hue='cell_type');"
   ]
  },
  {
   "cell_type": "code",
   "execution_count": 21,
   "id": "81cee488",
   "metadata": {
    "execution": {
     "iopub.execute_input": "2021-12-11T13:55:24.214985Z",
     "iopub.status.busy": "2021-12-11T13:55:24.213341Z",
     "iopub.status.idle": "2021-12-11T13:55:24.285423Z",
     "shell.execute_reply": "2021-12-11T13:55:24.284726Z",
     "shell.execute_reply.started": "2021-11-08T15:57:45.186389Z"
    },
    "papermill": {
     "duration": 0.601811,
     "end_time": "2021-12-11T13:55:24.285570",
     "exception": false,
     "start_time": "2021-12-11T13:55:23.683759",
     "status": "completed"
    },
    "tags": []
   },
   "outputs": [
    {
     "data": {
      "text/html": [
       "<div>\n",
       "<style scoped>\n",
       "    .dataframe tbody tr th:only-of-type {\n",
       "        vertical-align: middle;\n",
       "    }\n",
       "\n",
       "    .dataframe tbody tr th {\n",
       "        vertical-align: top;\n",
       "    }\n",
       "\n",
       "    .dataframe thead th {\n",
       "        text-align: right;\n",
       "    }\n",
       "</style>\n",
       "<table border=\"1\" class=\"dataframe\">\n",
       "  <thead>\n",
       "    <tr style=\"text-align: right;\">\n",
       "      <th></th>\n",
       "      <th>Cell Type</th>\n",
       "      <th>Cell Count</th>\n",
       "      <th>Min extent</th>\n",
       "      <th>Max extent</th>\n",
       "      <th>Mean extent</th>\n",
       "      <th>extent std</th>\n",
       "      <th>1%</th>\n",
       "      <th>5%</th>\n",
       "      <th>95%</th>\n",
       "      <th>99%</th>\n",
       "    </tr>\n",
       "  </thead>\n",
       "  <tbody>\n",
       "    <tr>\n",
       "      <th>0</th>\n",
       "      <td>shsy5y</td>\n",
       "      <td>52283</td>\n",
       "      <td>0.088</td>\n",
       "      <td>1.000</td>\n",
       "      <td>0.597</td>\n",
       "      <td>0.119</td>\n",
       "      <td>0.282</td>\n",
       "      <td>0.378</td>\n",
       "      <td>0.772</td>\n",
       "      <td>0.829</td>\n",
       "    </tr>\n",
       "    <tr>\n",
       "      <th>1</th>\n",
       "      <td>astro</td>\n",
       "      <td>10497</td>\n",
       "      <td>0.041</td>\n",
       "      <td>0.984</td>\n",
       "      <td>0.415</td>\n",
       "      <td>0.168</td>\n",
       "      <td>0.104</td>\n",
       "      <td>0.156</td>\n",
       "      <td>0.696</td>\n",
       "      <td>0.775</td>\n",
       "    </tr>\n",
       "    <tr>\n",
       "      <th>2</th>\n",
       "      <td>cort</td>\n",
       "      <td>10777</td>\n",
       "      <td>0.147</td>\n",
       "      <td>0.945</td>\n",
       "      <td>0.697</td>\n",
       "      <td>0.078</td>\n",
       "      <td>0.456</td>\n",
       "      <td>0.558</td>\n",
       "      <td>0.806</td>\n",
       "      <td>0.847</td>\n",
       "    </tr>\n",
       "  </tbody>\n",
       "</table>\n",
       "</div>"
      ],
      "text/plain": [
       "  Cell Type  Cell Count  Min extent  Max extent  Mean extent  extent std  \\\n",
       "0    shsy5y       52283       0.088       1.000        0.597       0.119   \n",
       "1     astro       10497       0.041       0.984        0.415       0.168   \n",
       "2      cort       10777       0.147       0.945        0.697       0.078   \n",
       "\n",
       "      1%     5%    95%    99%  \n",
       "0  0.282  0.378  0.772  0.829  \n",
       "1  0.104  0.156  0.696  0.775  \n",
       "2  0.456  0.558  0.806  0.847  "
      ]
     },
     "execution_count": 21,
     "metadata": {},
     "output_type": "execute_result"
    }
   ],
   "source": [
    "fs = feature_stat('extent')\n",
    "add_criteria(fs, 'extent')\n",
    "fs"
   ]
  },
  {
   "cell_type": "markdown",
   "id": "ad97498e",
   "metadata": {
    "papermill": {
     "duration": 0.528934,
     "end_time": "2021-12-11T13:55:25.339022",
     "exception": false,
     "start_time": "2021-12-11T13:55:24.810088",
     "status": "completed"
    },
    "tags": []
   },
   "source": [
    "# Hu moments\n",
    "There are 7 Hu moments. Hu Moments can be used to describe, characterize, and quantify the shape of a region. Let's start with the lowest order and go up:"
   ]
  },
  {
   "cell_type": "code",
   "execution_count": 22,
   "id": "48259fa7",
   "metadata": {
    "execution": {
     "iopub.execute_input": "2021-12-11T13:55:26.400449Z",
     "iopub.status.busy": "2021-12-11T13:55:26.399191Z",
     "iopub.status.idle": "2021-12-11T13:55:26.454783Z",
     "shell.execute_reply": "2021-12-11T13:55:26.454133Z",
     "shell.execute_reply.started": "2021-11-08T15:57:45.237533Z"
    },
    "papermill": {
     "duration": 0.587995,
     "end_time": "2021-12-11T13:55:26.454935",
     "exception": false,
     "start_time": "2021-12-11T13:55:25.866940",
     "status": "completed"
    },
    "tags": []
   },
   "outputs": [
    {
     "data": {
      "text/html": [
       "<div>\n",
       "<style scoped>\n",
       "    .dataframe tbody tr th:only-of-type {\n",
       "        vertical-align: middle;\n",
       "    }\n",
       "\n",
       "    .dataframe tbody tr th {\n",
       "        vertical-align: top;\n",
       "    }\n",
       "\n",
       "    .dataframe thead th {\n",
       "        text-align: right;\n",
       "    }\n",
       "</style>\n",
       "<table border=\"1\" class=\"dataframe\">\n",
       "  <thead>\n",
       "    <tr style=\"text-align: right;\">\n",
       "      <th></th>\n",
       "      <th>Cell Type</th>\n",
       "      <th>Cell Count</th>\n",
       "      <th>Min hu_0</th>\n",
       "      <th>Max hu_0</th>\n",
       "      <th>Mean hu_0</th>\n",
       "      <th>hu_0 std</th>\n",
       "      <th>1%</th>\n",
       "      <th>5%</th>\n",
       "      <th>95%</th>\n",
       "      <th>99%</th>\n",
       "    </tr>\n",
       "  </thead>\n",
       "  <tbody>\n",
       "    <tr>\n",
       "      <th>0</th>\n",
       "      <td>shsy5y</td>\n",
       "      <td>52283</td>\n",
       "      <td>0.159</td>\n",
       "      <td>1.695</td>\n",
       "      <td>0.226</td>\n",
       "      <td>0.076</td>\n",
       "      <td>0.162</td>\n",
       "      <td>0.166</td>\n",
       "      <td>0.371</td>\n",
       "      <td>0.534</td>\n",
       "    </tr>\n",
       "    <tr>\n",
       "      <th>1</th>\n",
       "      <td>astro</td>\n",
       "      <td>10497</td>\n",
       "      <td>0.160</td>\n",
       "      <td>4.923</td>\n",
       "      <td>0.462</td>\n",
       "      <td>0.337</td>\n",
       "      <td>0.164</td>\n",
       "      <td>0.177</td>\n",
       "      <td>1.106</td>\n",
       "      <td>1.719</td>\n",
       "    </tr>\n",
       "    <tr>\n",
       "      <th>2</th>\n",
       "      <td>cort</td>\n",
       "      <td>10777</td>\n",
       "      <td>0.160</td>\n",
       "      <td>0.813</td>\n",
       "      <td>0.179</td>\n",
       "      <td>0.031</td>\n",
       "      <td>0.160</td>\n",
       "      <td>0.161</td>\n",
       "      <td>0.226</td>\n",
       "      <td>0.303</td>\n",
       "    </tr>\n",
       "  </tbody>\n",
       "</table>\n",
       "</div>"
      ],
      "text/plain": [
       "  Cell Type  Cell Count  Min hu_0  Max hu_0  Mean hu_0  hu_0 std     1%  \\\n",
       "0    shsy5y       52283     0.159     1.695      0.226     0.076  0.162   \n",
       "1     astro       10497     0.160     4.923      0.462     0.337  0.164   \n",
       "2      cort       10777     0.160     0.813      0.179     0.031  0.160   \n",
       "\n",
       "      5%    95%    99%  \n",
       "0  0.166  0.371  0.534  \n",
       "1  0.177  1.106  1.719  \n",
       "2  0.161  0.226  0.303  "
      ]
     },
     "execution_count": 22,
     "metadata": {},
     "output_type": "execute_result"
    }
   ],
   "source": [
    "feature_stat('hu_0')"
   ]
  },
  {
   "cell_type": "code",
   "execution_count": 23,
   "id": "da2608ab",
   "metadata": {
    "execution": {
     "iopub.execute_input": "2021-12-11T13:55:27.509612Z",
     "iopub.status.busy": "2021-12-11T13:55:27.508880Z",
     "iopub.status.idle": "2021-12-11T13:55:27.577850Z",
     "shell.execute_reply": "2021-12-11T13:55:27.577143Z",
     "shell.execute_reply.started": "2021-11-08T15:57:45.287386Z"
    },
    "papermill": {
     "duration": 0.600328,
     "end_time": "2021-12-11T13:55:27.578005",
     "exception": false,
     "start_time": "2021-12-11T13:55:26.977677",
     "status": "completed"
    },
    "tags": []
   },
   "outputs": [
    {
     "data": {
      "text/html": [
       "<div>\n",
       "<style scoped>\n",
       "    .dataframe tbody tr th:only-of-type {\n",
       "        vertical-align: middle;\n",
       "    }\n",
       "\n",
       "    .dataframe tbody tr th {\n",
       "        vertical-align: top;\n",
       "    }\n",
       "\n",
       "    .dataframe thead th {\n",
       "        text-align: right;\n",
       "    }\n",
       "</style>\n",
       "<table border=\"1\" class=\"dataframe\">\n",
       "  <thead>\n",
       "    <tr style=\"text-align: right;\">\n",
       "      <th></th>\n",
       "      <th>Cell Type</th>\n",
       "      <th>Cell Count</th>\n",
       "      <th>Min hu_1</th>\n",
       "      <th>Max hu_1</th>\n",
       "      <th>Mean hu_1</th>\n",
       "      <th>hu_1 std</th>\n",
       "      <th>1%</th>\n",
       "      <th>5%</th>\n",
       "      <th>95%</th>\n",
       "      <th>99%</th>\n",
       "    </tr>\n",
       "  </thead>\n",
       "  <tbody>\n",
       "    <tr>\n",
       "      <th>0</th>\n",
       "      <td>shsy5y</td>\n",
       "      <td>52283</td>\n",
       "      <td>0.0</td>\n",
       "      <td>2.847</td>\n",
       "      <td>0.027</td>\n",
       "      <td>0.054</td>\n",
       "      <td>0.0</td>\n",
       "      <td>0.001</td>\n",
       "      <td>0.103</td>\n",
       "      <td>0.244</td>\n",
       "    </tr>\n",
       "    <tr>\n",
       "      <th>1</th>\n",
       "      <td>astro</td>\n",
       "      <td>10497</td>\n",
       "      <td>0.0</td>\n",
       "      <td>21.599</td>\n",
       "      <td>0.270</td>\n",
       "      <td>0.686</td>\n",
       "      <td>0.0</td>\n",
       "      <td>0.002</td>\n",
       "      <td>1.091</td>\n",
       "      <td>2.864</td>\n",
       "    </tr>\n",
       "    <tr>\n",
       "      <th>2</th>\n",
       "      <td>cort</td>\n",
       "      <td>10777</td>\n",
       "      <td>0.0</td>\n",
       "      <td>0.627</td>\n",
       "      <td>0.006</td>\n",
       "      <td>0.018</td>\n",
       "      <td>0.0</td>\n",
       "      <td>0.000</td>\n",
       "      <td>0.022</td>\n",
       "      <td>0.059</td>\n",
       "    </tr>\n",
       "  </tbody>\n",
       "</table>\n",
       "</div>"
      ],
      "text/plain": [
       "  Cell Type  Cell Count  Min hu_1  Max hu_1  Mean hu_1  hu_1 std   1%     5%  \\\n",
       "0    shsy5y       52283       0.0     2.847      0.027     0.054  0.0  0.001   \n",
       "1     astro       10497       0.0    21.599      0.270     0.686  0.0  0.002   \n",
       "2      cort       10777       0.0     0.627      0.006     0.018  0.0  0.000   \n",
       "\n",
       "     95%    99%  \n",
       "0  0.103  0.244  \n",
       "1  1.091  2.864  \n",
       "2  0.022  0.059  "
      ]
     },
     "execution_count": 23,
     "metadata": {},
     "output_type": "execute_result"
    }
   ],
   "source": [
    "feature_stat('hu_1')"
   ]
  },
  {
   "cell_type": "code",
   "execution_count": 24,
   "id": "ac5c44ca",
   "metadata": {
    "execution": {
     "iopub.execute_input": "2021-12-11T13:55:28.675808Z",
     "iopub.status.busy": "2021-12-11T13:55:28.675122Z",
     "iopub.status.idle": "2021-12-11T13:55:28.744883Z",
     "shell.execute_reply": "2021-12-11T13:55:28.745465Z",
     "shell.execute_reply.started": "2021-11-08T15:57:45.337995Z"
    },
    "papermill": {
     "duration": 0.591563,
     "end_time": "2021-12-11T13:55:28.745662",
     "exception": false,
     "start_time": "2021-12-11T13:55:28.154099",
     "status": "completed"
    },
    "tags": []
   },
   "outputs": [
    {
     "data": {
      "text/html": [
       "<div>\n",
       "<style scoped>\n",
       "    .dataframe tbody tr th:only-of-type {\n",
       "        vertical-align: middle;\n",
       "    }\n",
       "\n",
       "    .dataframe tbody tr th {\n",
       "        vertical-align: top;\n",
       "    }\n",
       "\n",
       "    .dataframe thead th {\n",
       "        text-align: right;\n",
       "    }\n",
       "</style>\n",
       "<table border=\"1\" class=\"dataframe\">\n",
       "  <thead>\n",
       "    <tr style=\"text-align: right;\">\n",
       "      <th></th>\n",
       "      <th>Cell Type</th>\n",
       "      <th>Cell Count</th>\n",
       "      <th>Min hu_2</th>\n",
       "      <th>Max hu_2</th>\n",
       "      <th>Mean hu_2</th>\n",
       "      <th>hu_2 std</th>\n",
       "      <th>1%</th>\n",
       "      <th>5%</th>\n",
       "      <th>95%</th>\n",
       "      <th>99%</th>\n",
       "    </tr>\n",
       "  </thead>\n",
       "  <tbody>\n",
       "    <tr>\n",
       "      <th>0</th>\n",
       "      <td>shsy5y</td>\n",
       "      <td>52283</td>\n",
       "      <td>0.0</td>\n",
       "      <td>2.036</td>\n",
       "      <td>0.002</td>\n",
       "      <td>0.011</td>\n",
       "      <td>0.0</td>\n",
       "      <td>0.0</td>\n",
       "      <td>0.008</td>\n",
       "      <td>0.024</td>\n",
       "    </tr>\n",
       "    <tr>\n",
       "      <th>1</th>\n",
       "      <td>astro</td>\n",
       "      <td>10497</td>\n",
       "      <td>0.0</td>\n",
       "      <td>18.776</td>\n",
       "      <td>0.064</td>\n",
       "      <td>0.361</td>\n",
       "      <td>0.0</td>\n",
       "      <td>0.0</td>\n",
       "      <td>0.245</td>\n",
       "      <td>1.077</td>\n",
       "    </tr>\n",
       "    <tr>\n",
       "      <th>2</th>\n",
       "      <td>cort</td>\n",
       "      <td>10777</td>\n",
       "      <td>0.0</td>\n",
       "      <td>0.055</td>\n",
       "      <td>0.001</td>\n",
       "      <td>0.002</td>\n",
       "      <td>0.0</td>\n",
       "      <td>0.0</td>\n",
       "      <td>0.002</td>\n",
       "      <td>0.006</td>\n",
       "    </tr>\n",
       "  </tbody>\n",
       "</table>\n",
       "</div>"
      ],
      "text/plain": [
       "  Cell Type  Cell Count  Min hu_2  Max hu_2  Mean hu_2  hu_2 std   1%   5%  \\\n",
       "0    shsy5y       52283       0.0     2.036      0.002     0.011  0.0  0.0   \n",
       "1     astro       10497       0.0    18.776      0.064     0.361  0.0  0.0   \n",
       "2      cort       10777       0.0     0.055      0.001     0.002  0.0  0.0   \n",
       "\n",
       "     95%    99%  \n",
       "0  0.008  0.024  \n",
       "1  0.245  1.077  \n",
       "2  0.002  0.006  "
      ]
     },
     "execution_count": 24,
     "metadata": {},
     "output_type": "execute_result"
    }
   ],
   "source": [
    "feature_stat('hu_2')"
   ]
  },
  {
   "cell_type": "markdown",
   "id": "c26fc4ce",
   "metadata": {
    "papermill": {
     "duration": 0.520724,
     "end_time": "2021-12-11T13:55:29.804711",
     "exception": false,
     "start_time": "2021-12-11T13:55:29.283987",
     "status": "completed"
    },
    "tags": []
   },
   "source": [
    "Already at the second moment the information is very low, so we will stick to the lowest two orders."
   ]
  },
  {
   "cell_type": "code",
   "execution_count": 25,
   "id": "5c78bfad",
   "metadata": {
    "execution": {
     "iopub.execute_input": "2021-12-11T13:55:30.877050Z",
     "iopub.status.busy": "2021-12-11T13:55:30.876330Z",
     "iopub.status.idle": "2021-12-11T13:55:33.246985Z",
     "shell.execute_reply": "2021-12-11T13:55:33.247488Z",
     "shell.execute_reply.started": "2021-11-08T15:57:45.390299Z"
    },
    "papermill": {
     "duration": 2.925555,
     "end_time": "2021-12-11T13:55:33.247678",
     "exception": false,
     "start_time": "2021-12-11T13:55:30.322123",
     "status": "completed"
    },
    "tags": []
   },
   "outputs": [
    {
     "data": {
      "image/png": "[encoded data removed]",
      "text/plain": [
       "<Figure size 864x576 with 1 Axes>"
      ]
     },
     "metadata": {},
     "output_type": "display_data"
    }
   ],
   "source": [
    "sns.histplot(data=df[df.hu_0 < 1], x=\"hu_0\", hue='cell_type');"
   ]
  },
  {
   "cell_type": "code",
   "execution_count": 26,
   "id": "545341d5",
   "metadata": {
    "execution": {
     "iopub.execute_input": "2021-12-11T13:55:34.377006Z",
     "iopub.status.busy": "2021-12-11T13:55:34.375973Z",
     "iopub.status.idle": "2021-12-11T13:55:36.321607Z",
     "shell.execute_reply": "2021-12-11T13:55:36.322222Z",
     "shell.execute_reply.started": "2021-11-08T15:57:47.339191Z"
    },
    "papermill": {
     "duration": 2.545822,
     "end_time": "2021-12-11T13:55:36.322427",
     "exception": false,
     "start_time": "2021-12-11T13:55:33.776605",
     "status": "completed"
    },
    "tags": []
   },
   "outputs": [
    {
     "data": {
      "image/png": "[encoded data removed]",
      "text/plain": [
       "<Figure size 864x576 with 1 Axes>"
      ]
     },
     "metadata": {},
     "output_type": "display_data"
    }
   ],
   "source": [
    "sns.histplot(data=df[df.hu_1 < 0.2], x=\"hu_1\", hue='cell_type');"
   ]
  },
  {
   "cell_type": "code",
   "execution_count": 27,
   "id": "0afd58b4",
   "metadata": {
    "execution": {
     "iopub.execute_input": "2021-12-11T13:55:37.404144Z",
     "iopub.status.busy": "2021-12-11T13:55:37.403424Z",
     "iopub.status.idle": "2021-12-11T13:55:37.507168Z",
     "shell.execute_reply": "2021-12-11T13:55:37.506449Z",
     "shell.execute_reply.started": "2021-11-08T15:57:48.966221Z"
    },
    "papermill": {
     "duration": 0.648375,
     "end_time": "2021-12-11T13:55:37.507341",
     "exception": false,
     "start_time": "2021-12-11T13:55:36.858966",
     "status": "completed"
    },
    "tags": []
   },
   "outputs": [],
   "source": [
    "fs = feature_stat('hu_0')\n",
    "add_criteria(fs, 'hu_0')\n",
    "fs = feature_stat('hu_1')\n",
    "add_criteria(fs, 'hu_1')"
   ]
  },
  {
   "cell_type": "markdown",
   "id": "72eac26d",
   "metadata": {
    "papermill": {
     "duration": 0.526553,
     "end_time": "2021-12-11T13:55:38.559939",
     "exception": false,
     "start_time": "2021-12-11T13:55:38.033386",
     "status": "completed"
    },
    "tags": []
   },
   "source": [
    "# Summary\n",
    "So, we have collected a few shape features that can be used to filter predictions in post processing. Here is the criteria table (1% and 99% percentiles as min and max respectively):"
   ]
  },
  {
   "cell_type": "code",
   "execution_count": 28,
   "id": "73fb6418",
   "metadata": {
    "_kg_hide-input": true,
    "execution": {
     "iopub.execute_input": "2021-12-11T13:55:39.607187Z",
     "iopub.status.busy": "2021-12-11T13:55:39.606339Z",
     "iopub.status.idle": "2021-12-11T13:55:39.624276Z",
     "shell.execute_reply": "2021-12-11T13:55:39.623711Z",
     "shell.execute_reply.started": "2021-11-08T16:10:06.349532Z"
    },
    "papermill": {
     "duration": 0.539973,
     "end_time": "2021-12-11T13:55:39.624457",
     "exception": false,
     "start_time": "2021-12-11T13:55:39.084484",
     "status": "completed"
    },
    "tags": []
   },
   "outputs": [
    {
     "data": {
      "text/html": [
       "<div>\n",
       "<style scoped>\n",
       "    .dataframe tbody tr th:only-of-type {\n",
       "        vertical-align: middle;\n",
       "    }\n",
       "\n",
       "    .dataframe tbody tr th {\n",
       "        vertical-align: top;\n",
       "    }\n",
       "\n",
       "    .dataframe thead th {\n",
       "        text-align: right;\n",
       "    }\n",
       "</style>\n",
       "<table border=\"1\" class=\"dataframe\">\n",
       "  <thead>\n",
       "    <tr style=\"text-align: right;\">\n",
       "      <th></th>\n",
       "      <th>feature</th>\n",
       "      <th>shsy5y min</th>\n",
       "      <th>shsy5y max</th>\n",
       "      <th>astro min</th>\n",
       "      <th>astro max</th>\n",
       "      <th>cort min</th>\n",
       "      <th>cort max</th>\n",
       "    </tr>\n",
       "  </thead>\n",
       "  <tbody>\n",
       "    <tr>\n",
       "      <th>0</th>\n",
       "      <td>area</td>\n",
       "      <td>57.000</td>\n",
       "      <td>752.180</td>\n",
       "      <td>46.000</td>\n",
       "      <td>4259.920</td>\n",
       "      <td>70.000</td>\n",
       "      <td>776.240</td>\n",
       "    </tr>\n",
       "    <tr>\n",
       "      <th>1</th>\n",
       "      <td>major_axis_len</td>\n",
       "      <td>10.597</td>\n",
       "      <td>63.822</td>\n",
       "      <td>12.204</td>\n",
       "      <td>205.016</td>\n",
       "      <td>11.533</td>\n",
       "      <td>45.296</td>\n",
       "    </tr>\n",
       "    <tr>\n",
       "      <th>2</th>\n",
       "      <td>minor_axis_len</td>\n",
       "      <td>6.362</td>\n",
       "      <td>25.255</td>\n",
       "      <td>4.487</td>\n",
       "      <td>67.978</td>\n",
       "      <td>7.264</td>\n",
       "      <td>27.526</td>\n",
       "    </tr>\n",
       "    <tr>\n",
       "      <th>3</th>\n",
       "      <td>axis_ratio</td>\n",
       "      <td>0.184</td>\n",
       "      <td>0.940</td>\n",
       "      <td>0.076</td>\n",
       "      <td>0.903</td>\n",
       "      <td>0.326</td>\n",
       "      <td>0.970</td>\n",
       "    </tr>\n",
       "    <tr>\n",
       "      <th>4</th>\n",
       "      <td>solidity</td>\n",
       "      <td>0.656</td>\n",
       "      <td>0.972</td>\n",
       "      <td>0.292</td>\n",
       "      <td>0.964</td>\n",
       "      <td>0.806</td>\n",
       "      <td>0.979</td>\n",
       "    </tr>\n",
       "    <tr>\n",
       "      <th>5</th>\n",
       "      <td>extent</td>\n",
       "      <td>0.282</td>\n",
       "      <td>0.829</td>\n",
       "      <td>0.104</td>\n",
       "      <td>0.775</td>\n",
       "      <td>0.456</td>\n",
       "      <td>0.847</td>\n",
       "    </tr>\n",
       "    <tr>\n",
       "      <th>6</th>\n",
       "      <td>hu_0</td>\n",
       "      <td>0.162</td>\n",
       "      <td>0.534</td>\n",
       "      <td>0.164</td>\n",
       "      <td>1.719</td>\n",
       "      <td>0.160</td>\n",
       "      <td>0.303</td>\n",
       "    </tr>\n",
       "    <tr>\n",
       "      <th>7</th>\n",
       "      <td>hu_1</td>\n",
       "      <td>0.000</td>\n",
       "      <td>0.244</td>\n",
       "      <td>0.000</td>\n",
       "      <td>2.864</td>\n",
       "      <td>0.000</td>\n",
       "      <td>0.059</td>\n",
       "    </tr>\n",
       "  </tbody>\n",
       "</table>\n",
       "</div>"
      ],
      "text/plain": [
       "          feature  shsy5y min  shsy5y max  astro min  astro max  cort min  \\\n",
       "0            area      57.000     752.180     46.000   4259.920    70.000   \n",
       "1  major_axis_len      10.597      63.822     12.204    205.016    11.533   \n",
       "2  minor_axis_len       6.362      25.255      4.487     67.978     7.264   \n",
       "3      axis_ratio       0.184       0.940      0.076      0.903     0.326   \n",
       "4        solidity       0.656       0.972      0.292      0.964     0.806   \n",
       "5          extent       0.282       0.829      0.104      0.775     0.456   \n",
       "6            hu_0       0.162       0.534      0.164      1.719     0.160   \n",
       "7            hu_1       0.000       0.244      0.000      2.864     0.000   \n",
       "\n",
       "   cort max  \n",
       "0   776.240  \n",
       "1    45.296  \n",
       "2    27.526  \n",
       "3     0.970  \n",
       "4     0.979  \n",
       "5     0.847  \n",
       "6     0.303  \n",
       "7     0.059  "
      ]
     },
     "execution_count": 28,
     "metadata": {},
     "output_type": "execute_result"
    }
   ],
   "source": [
    "cdf = pd.DataFrame(criteria,\n",
    "                  columns = ['feature', 'shsy5y min', 'shsy5y max', 'astro min', 'astro max', 'cort min', 'cort max'])\n",
    "cdf"
   ]
  },
  {
   "cell_type": "markdown",
   "id": "bd0f1902",
   "metadata": {
    "papermill": {
     "duration": 0.51809,
     "end_time": "2021-12-11T13:55:40.667427",
     "exception": false,
     "start_time": "2021-12-11T13:55:40.149337",
     "status": "completed"
    },
    "tags": []
   },
   "source": [
    "Oh, and one more thing: It is apparent from the table above that the feature \"major axis length\" has a minimum value that varies from 10.6 to 12.2 pixels only. This means that we can filter masks based on major axis length with the same threshold (say 10 or 11) for all classes. So if the class prediction is wrong - no effect on our filtering! Area values varies a lot more for comparison.  \n",
    "\n",
    "Let's save these values to pickle file, for later use."
   ]
  },
  {
   "cell_type": "code",
   "execution_count": 29,
   "id": "24b3f4f7",
   "metadata": {
    "execution": {
     "iopub.execute_input": "2021-12-11T13:55:41.738402Z",
     "iopub.status.busy": "2021-12-11T13:55:41.737634Z",
     "iopub.status.idle": "2021-12-11T13:55:41.741892Z",
     "shell.execute_reply": "2021-12-11T13:55:41.742501Z",
     "shell.execute_reply.started": "2021-11-08T16:10:26.994769Z"
    },
    "papermill": {
     "duration": 0.550971,
     "end_time": "2021-12-11T13:55:41.742687",
     "exception": false,
     "start_time": "2021-12-11T13:55:41.191716",
     "status": "completed"
    },
    "tags": []
   },
   "outputs": [],
   "source": [
    "cdf.to_pickle('shape_data.pkl')"
   ]
  }
 ],
 "metadata": {
  "kernelspec": {
   "display_name": "Python 3",
   "language": "python",
   "name": "python3"
  },
  "language_info": {
   "codemirror_mode": {
    "name": "ipython",
    "version": 3
   },
   "file_extension": ".py",
   "mimetype": "text/x-python",
   "name": "python",
   "nbconvert_exporter": "python",
   "pygments_lexer": "ipython3",
   "version": "3.7.10"
  },
  "papermill": {
   "default_parameters": {},
   "duration": 243.042606,
   "end_time": "2021-12-11T13:55:44.622656",
   "environment_variables": {},
   "exception": null,
   "input_path": "__notebook__.ipynb",
   "output_path": "__notebook__.ipynb",
   "parameters": {},
   "start_time": "2021-12-11T13:51:41.580050",
   "version": "2.3.3"
  }
 },
 "nbformat": 4,
 "nbformat_minor": 5
}
