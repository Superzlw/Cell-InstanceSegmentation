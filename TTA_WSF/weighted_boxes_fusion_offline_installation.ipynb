{
 "cells": [
  {
   "cell_type": "code",
   "execution_count": 1,
   "id": "f20848bf",
   "metadata": {
    "execution": {
     "iopub.execute_input": "2021-12-26T18:22:52.046689Z",
     "iopub.status.busy": "2021-12-26T18:22:52.045220Z",
     "iopub.status.idle": "2021-12-26T18:22:54.430600Z",
     "shell.execute_reply": "2021-12-26T18:22:54.431259Z",
     "shell.execute_reply.started": "2021-12-26T18:20:05.712346Z"
    },
    "papermill": {
     "duration": 2.393628,
     "end_time": "2021-12-26T18:22:54.431622",
     "exception": false,
     "start_time": "2021-12-26T18:22:52.037994",
     "status": "completed"
    },
    "tags": []
   },
   "outputs": [
    {
     "name": "stdout",
     "output_type": "stream",
     "text": [
      "Cloning into 'Weighted-Boxes-Fusion'...\r\n",
      "remote: Enumerating objects: 185, done.\u001b[K\r\n",
      "remote: Counting objects: 100% (185/185), done.\u001b[K\r\n",
      "remote: Compressing objects: 100% (126/126), done.\u001b[K\r\n",
      "remote: Total 185 (delta 93), reused 133 (delta 51), pack-reused 0\u001b[K\r\n",
      "Receiving objects: 100% (185/185), 58.39 KiB | 819.00 KiB/s, done.\r\n",
      "Resolving deltas: 100% (93/93), done.\r\n",
      "\u001b[0m\u001b[01;34mWeighted-Boxes-Fusion\u001b[0m/  __notebook__.ipynb\r\n"
     ]
    }
   ],
   "source": [
    "!git clone https://github.com/ZFTurbo/Weighted-Boxes-Fusion.git\n",
    "%ls"
   ]
  },
  {
   "cell_type": "code",
   "execution_count": 2,
   "id": "15b61a86",
   "metadata": {
    "execution": {
     "iopub.execute_input": "2021-12-26T18:22:54.458617Z",
     "iopub.status.busy": "2021-12-26T18:22:54.457654Z",
     "iopub.status.idle": "2021-12-26T18:23:14.641031Z",
     "shell.execute_reply": "2021-12-26T18:23:14.640487Z",
     "shell.execute_reply.started": "2021-12-26T18:20:55.980299Z"
    },
    "papermill": {
     "duration": 20.198815,
     "end_time": "2021-12-26T18:23:14.641181",
     "exception": false,
     "start_time": "2021-12-26T18:22:54.442366",
     "status": "completed"
    },
    "tags": []
   },
   "outputs": [
    {
     "name": "stdout",
     "output_type": "stream",
     "text": [
      "/kaggle/working/Weighted-Boxes-Fusion\n",
      "Processing /kaggle/working/Weighted-Boxes-Fusion\r\n",
      "  Preparing metadata (setup.py) ... \u001b[?25l-\b \bdone\r\n",
      "\u001b[?25hRequirement already satisfied: numpy in /opt/conda/lib/python3.7/site-packages (from ensemble-boxes==1.0.8) (1.19.5)\r\n",
      "Requirement already satisfied: pandas in /opt/conda/lib/python3.7/site-packages (from ensemble-boxes==1.0.8) (1.3.4)\r\n",
      "Requirement already satisfied: numba in /opt/conda/lib/python3.7/site-packages (from ensemble-boxes==1.0.8) (0.54.1)\r\n",
      "Requirement already satisfied: llvmlite<0.38,>=0.37.0rc1 in /opt/conda/lib/python3.7/site-packages (from numba->ensemble-boxes==1.0.8) (0.37.0)\r\n",
      "Requirement already satisfied: setuptools in /opt/conda/lib/python3.7/site-packages (from numba->ensemble-boxes==1.0.8) (59.1.1)\r\n",
      "Requirement already satisfied: python-dateutil>=2.7.3 in /opt/conda/lib/python3.7/site-packages (from pandas->ensemble-boxes==1.0.8) (2.8.0)\r\n",
      "Requirement already satisfied: pytz>=2017.3 in /opt/conda/lib/python3.7/site-packages (from pandas->ensemble-boxes==1.0.8) (2021.3)\r\n",
      "Requirement already satisfied: six>=1.5 in /opt/conda/lib/python3.7/site-packages (from python-dateutil>=2.7.3->pandas->ensemble-boxes==1.0.8) (1.16.0)\r\n",
      "Building wheels for collected packages: ensemble-boxes\r\n",
      "  Building wheel for ensemble-boxes (setup.py) ... \u001b[?25l-\b \b\\\b \bdone\r\n",
      "\u001b[?25h  Created wheel for ensemble-boxes: filename=ensemble_boxes-1.0.8-py3-none-any.whl size=13174 sha256=323089dc616defac0d98b10ce32307fa9fb77ef9ece3c6dd67b79205719310f0\r\n",
      "  Stored in directory: /root/.cache/pip/wheels/b7/92/99/796faa5d8ef307614f639cc7e761bc378343189792aa2d2204\r\n",
      "Successfully built ensemble-boxes\r\n",
      "Installing collected packages: ensemble-boxes\r\n",
      "Successfully installed ensemble-boxes-1.0.8\r\n",
      "\u001b[33mWARNING: Running pip as the 'root' user can result in broken permissions and conflicting behaviour with the system package manager. It is recommended to use a virtual environment instead: https://pip.pypa.io/warnings/venv\u001b[0m\r\n",
      "Processing /kaggle/working/Weighted-Boxes-Fusion\r\n",
      "  Preparing metadata (setup.py) ... \u001b[?25l-\b \bdone\r\n",
      "\u001b[?25hCollecting numpy\r\n",
      "  Downloading numpy-1.21.5-cp37-cp37m-manylinux_2_12_x86_64.manylinux2010_x86_64.whl (15.7 MB)\r\n",
      "     |████████████████████████████████| 15.7 MB 595 kB/s            \r\n",
      "\u001b[?25hCollecting pandas\r\n",
      "  Downloading pandas-1.3.5-cp37-cp37m-manylinux_2_17_x86_64.manylinux2014_x86_64.whl (11.3 MB)\r\n",
      "     |████████████████████████████████| 11.3 MB 47.1 MB/s            \r\n",
      "\u001b[?25hCollecting numba\r\n",
      "  Downloading numba-0.54.1-cp37-cp37m-manylinux2014_x86_64.manylinux_2_17_x86_64.whl (3.3 MB)\r\n",
      "     |████████████████████████████████| 3.3 MB 55.7 MB/s            \r\n",
      "\u001b[?25hCollecting llvmlite<0.38,>=0.37.0rc1\r\n",
      "  Downloading llvmlite-0.37.0-cp37-cp37m-manylinux2014_x86_64.whl (26.3 MB)\r\n",
      "     |████████████████████████████████| 26.3 MB 465 kB/s             \r\n",
      "\u001b[?25hCollecting numpy\r\n",
      "  Downloading numpy-1.20.3-cp37-cp37m-manylinux_2_12_x86_64.manylinux2010_x86_64.whl (15.3 MB)\r\n",
      "     |████████████████████████████████| 15.3 MB 62.3 MB/s            \r\n",
      "\u001b[?25hCollecting setuptools\r\n",
      "  Downloading setuptools-60.1.0-py3-none-any.whl (952 kB)\r\n",
      "     |████████████████████████████████| 952 kB 52.5 MB/s            \r\n",
      "\u001b[?25hCollecting python-dateutil>=2.7.3\r\n",
      "  Downloading python_dateutil-2.8.2-py2.py3-none-any.whl (247 kB)\r\n",
      "     |████████████████████████████████| 247 kB 62.0 MB/s            \r\n",
      "\u001b[?25hCollecting pytz>=2017.3\r\n",
      "  Downloading pytz-2021.3-py2.py3-none-any.whl (503 kB)\r\n",
      "     |████████████████████████████████| 503 kB 57.4 MB/s            \r\n",
      "\u001b[?25hCollecting six>=1.5\r\n",
      "  Downloading six-1.16.0-py2.py3-none-any.whl (11 kB)\r\n",
      "Saved ./numba-0.54.1-cp37-cp37m-manylinux2014_x86_64.manylinux_2_17_x86_64.whl\r\n",
      "Saved ./numpy-1.20.3-cp37-cp37m-manylinux_2_12_x86_64.manylinux2010_x86_64.whl\r\n",
      "Saved ./pandas-1.3.5-cp37-cp37m-manylinux_2_17_x86_64.manylinux2014_x86_64.whl\r\n",
      "Saved ./llvmlite-0.37.0-cp37-cp37m-manylinux2014_x86_64.whl\r\n",
      "Saved ./python_dateutil-2.8.2-py2.py3-none-any.whl\r\n",
      "Saved ./pytz-2021.3-py2.py3-none-any.whl\r\n",
      "Saved ./six-1.16.0-py2.py3-none-any.whl\r\n",
      "Saved ./setuptools-60.1.0-py3-none-any.whl\r\n",
      "Building wheels for collected packages: ensemble-boxes\r\n",
      "  Building wheel for ensemble-boxes (setup.py) ... \u001b[?25l-\b \bdone\r\n",
      "\u001b[?25h  Created wheel for ensemble-boxes: filename=ensemble_boxes-1.0.8-py3-none-any.whl size=13174 sha256=5a90a1a6763720634a151742f317ea41cec4a0b83e6c22fa0da431dead963343\r\n",
      "  Stored in directory: /root/.cache/pip/wheels/b7/92/99/796faa5d8ef307614f639cc7e761bc378343189792aa2d2204\r\n",
      "Successfully built ensemble-boxes\r\n"
     ]
    }
   ],
   "source": [
    "%cd /kaggle/working/Weighted-Boxes-Fusion\n",
    "!pip install -U .\n",
    "!pip wheel ."
   ]
  }
 ],
 "metadata": {
  "kernelspec": {
   "display_name": "Python 3",
   "language": "python",
   "name": "python3"
  },
  "language_info": {
   "codemirror_mode": {
    "name": "ipython",
    "version": 3
   },
   "file_extension": ".py",
   "mimetype": "text/x-python",
   "name": "python",
   "nbconvert_exporter": "python",
   "pygments_lexer": "ipython3",
   "version": "3.7.12"
  },
  "papermill": {
   "default_parameters": {},
   "duration": 31.425056,
   "end_time": "2021-12-26T18:23:15.093831",
   "environment_variables": {},
   "exception": null,
   "input_path": "__notebook__.ipynb",
   "output_path": "__notebook__.ipynb",
   "parameters": {},
   "start_time": "2021-12-26T18:22:43.668775",
   "version": "2.3.3"
  }
 },
 "nbformat": 4,
 "nbformat_minor": 5
}
