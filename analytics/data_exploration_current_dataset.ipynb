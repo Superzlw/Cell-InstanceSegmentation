{
 "cells": [
  {
   "cell_type": "markdown",
   "metadata": {
    "collapsed": true,
    "pycharm": {
     "name": "#%% md\n"
    }
   },
   "source": [
    "# Data exploration of current dataset"
   ]
  },
  {
   "cell_type": "code",
   "execution_count": 1,
   "outputs": [],
   "source": [
    "import pathlib2\n",
    "import pandas as pd\n",
    "import numpy as np\n",
    "import json\n",
    "import matplotlib\n",
    "from matplotlib import pyplot as plt\n",
    "import seaborn as sns\n",
    "import pprint"
   ],
   "metadata": {
    "collapsed": false,
    "pycharm": {
     "name": "#%%\n"
    }
   }
  },
  {
   "cell_type": "code",
   "execution_count": 2,
   "outputs": [],
   "source": [
    "## Helper functions\n",
    "\n",
    "def check_noneffective_ids(df):\n",
    "    \"\"\"\n",
    "    check if the given data frame has NaN and return the rows with it if any, or else return nothing\n",
    "    :param df: input dataframe\n",
    "    :return: the non effective rows of the dataframe\n",
    "    \"\"\"\n",
    "    is_NaN = df.isnull()\n",
    "    row_has_NaN = is_NaN.any(axis=1)\n",
    "    rows_with_NaN = df[row_has_NaN]\n",
    "    len_rows_with_NaN = rows_with_NaN.shape[0]\n",
    "    if len_rows_with_NaN != 0:\n",
    "        print(f\"there are {len_rows_with_NaN} non effective rows.\")\n",
    "        return rows_with_NaN\n",
    "    else:\n",
    "        print(\"the rows available are all effective, i.e., without NaNs.\")\n",
    "        return None\n",
    "\n",
    "def check_statistics_basics(df, ds_path, verbose=False):\n",
    "    \"\"\"\n",
    "    check the basic statistics of training metadata and return some of them\n",
    "    :param df: pd.DataFrame the dataframe of training metadata\n",
    "    :param ds_path: the project path\n",
    "    :param verbose: flag indicating whether the additional info is desired\n",
    "    :return: dict containing the key for cell type and the value for respective counting in terms of different image ids\n",
    "    \"\"\"\n",
    "\n",
    "    # check the rows of df\n",
    "    len_df = df.shape[0]\n",
    "    print(f\"there are totally {len_df} rows of the given training metadata dataframe.\\n\")\n",
    "\n",
    "    # check the non-duplicate image ids\n",
    "    img_ids_array = df['id'].unique()\n",
    "    len_img_ids_array = img_ids_array.shape[0]\n",
    "    print(f\"there are {len_img_ids_array} unique images given the training metadata dataframe.\\n\")\n",
    "\n",
    "    # check the correspondence between image ids and images listed in train dir\n",
    "    ## check the number of valid images in the training image path\n",
    "    valid_image_names_list = list()\n",
    "    ds_train_path = ds_path / 'train'\n",
    "    for cell_image_path in ds_train_path.glob('*.png'):\n",
    "        if cell_image_path.stat().st_size is not None:\n",
    "            valid_image_names_list.append(cell_image_path.stem)\n",
    "    print(f\"the number of valid images in dir {ds_train_path.name} is: {len(valid_image_names_list)}.\\n\")\n",
    "    ## check the correspondence between file_name column and valid images in the image_path\n",
    "    valid_image_names_arr = np.asarray(valid_image_names_list)\n",
    "    intersect_arr = np.intersect1d(img_ids_array, valid_image_names_arr)\n",
    "    if intersect_arr.shape[0] == img_ids_array.shape[0]:\n",
    "        print(\"all unique image ids in column ids have the corresponding images.\\n\")\n",
    "    else:\n",
    "        print(\"there are missing images for the given unique filenames in column ids.\\n\")\n",
    "\n",
    "    # check the non-duplicate annotation\n",
    "    df_duplicates_double = pd.DataFrame(columns=[['id', 'annotation']])\n",
    "    df_non_duplicates = pd.DataFrame(columns=[['id', 'annotation', 'cell_type']])\n",
    "    def to_string(x):\n",
    "        return str(x)\n",
    "    if df['annotation'].apply(to_string).nunique() == 1:\n",
    "        print('the seg annotations are all the same.\\n')\n",
    "    elif (df['annotation'].apply(to_string).nunique() > 1) and (df['annotation'].apply(to_string).nunique() < len_df):\n",
    "        print(f\"the seg annotations are partly the same. \"\n",
    "              f\"And the repeating annotations count to {len_df - df['annotation'].nunique()}.\")\n",
    "        has_duplicates = df['annotation'].duplicated(keep=False)\n",
    "        df_duplicates = df[has_duplicates].reset_index(drop=True)\n",
    "        duplicates_dict = dict()\n",
    "        cnt = 0\n",
    "        for i in range(len(df_duplicates.index)):\n",
    "            if duplicates_dict.get(df_duplicates.loc[i, 'annotation']) is None:\n",
    "                duplicates_dict[df_duplicates.loc[i, 'annotation']] = [df_duplicates.loc[i, 'id']]\n",
    "            else:\n",
    "                if df_duplicates.loc[i, 'id'] == duplicates_dict[df_duplicates.loc[i, 'annotation']][0]:\n",
    "                    duplicates_dict[df_duplicates.loc[i, 'annotation']].append(df_duplicates.loc[i, 'id'])\n",
    "                    cnt += 1\n",
    "                else:\n",
    "                    pass\n",
    "        if cnt == 0:\n",
    "            print(\"but all the repeating annotations belong to different image ids.\")\n",
    "        else:\n",
    "            print(\"And there are repeating annotations belonging to the same image ids.\")\n",
    "            if verbose:\n",
    "                for i, item in enumerate(duplicates_dict.items()):\n",
    "                    if len(item[1]) > 1:\n",
    "                        df_duplicates_double.loc[i, 'annotation'] = item[0]\n",
    "                        df_duplicates_double.loc[i, 'id'] = str(item[1])\n",
    "                pprint.pprint(df_duplicates_double)\n",
    "    elif df['annotation'].apply(to_string).nunique() == len_df:\n",
    "        print('the seg annotations are all different.\\n')\n",
    "\n",
    "    # check the uniqueness of size of images\n",
    "    uniq_width_arr = df['width'].unique()\n",
    "    uniq_height_arr = df['height'].unique()\n",
    "    if (uniq_width_arr.size == 1) and (uniq_height_arr.size == 1):\n",
    "        print((uniq_width_arr[0] == 704) and (uniq_height_arr[0] == 520), ': all the images are of size (704, 520).\\n')\n",
    "    elif (uniq_width_arr.size != 1) and (uniq_height_arr.size == 1):\n",
    "        print(\"some images have different width.\\n\")\n",
    "    elif (uniq_width_arr.size == 1) and (uniq_height_arr.size != 1):\n",
    "        print(\"some images have different height.\\n\")\n",
    "    elif (uniq_width_arr.size != 1) and (uniq_height_arr.size != 1):\n",
    "        print(\"some images have different size.\\n\")\n",
    "\n",
    "    # check the number of cell type categories and their counting\n",
    "    cell_type_list = df['cell_type'].unique().tolist()\n",
    "    cell_type_cnt_dict = dict()\n",
    "    for cell_type in cell_type_list:\n",
    "        mask_df = df[df['cell_type']==cell_type]\n",
    "        cell_type_cnt_dict[cell_type] = mask_df['id'].nunique()\n",
    "    print(f\"the different cell type categories characterized by the number of images are:\")\n",
    "    pprint.pprint(cell_type_cnt_dict)\n",
    "    print()\n",
    "\n",
    "    # check the number of valid images in the train-semi image path\n",
    "    valid_semi_image_names_list = list()\n",
    "    ds_train_semi_path = ds_path / 'train_semi_supervised'\n",
    "    for cell_semi_image_path in ds_train_semi_path.glob('*.png'):\n",
    "        if cell_semi_image_path.stat().st_size is not None:\n",
    "            valid_semi_image_names_list.append(cell_semi_image_path.stem)\n",
    "    print(f\"the number of valid images in dir {ds_train_semi_path.name} is: {len(valid_semi_image_names_list)}.\\n\")\n",
    "\n",
    "    return cell_type_cnt_dict, df_duplicates_double"
   ],
   "metadata": {
    "collapsed": false,
    "pycharm": {
     "name": "#%%\n"
    }
   }
  },
  {
   "cell_type": "markdown",
   "source": [
    "## Define relevant paths"
   ],
   "metadata": {
    "collapsed": false
   }
  },
  {
   "cell_type": "code",
   "execution_count": 3,
   "outputs": [
    {
     "name": "stdout",
     "output_type": "stream",
     "text": [
      "currentdir:  F:\\Kaggle\\sartorius_cell_is\\code\\rkx_cell_is\\analytics\n",
      "project dir:  F:\\Kaggle\\sartorius_cell_is\\code\\rkx_cell_is\n"
     ]
    }
   ],
   "source": [
    "current_dir = pathlib2.Path.cwd()\n",
    "print(\"currentdir: \", current_dir)\n",
    "project_dir = current_dir.parent\n",
    "print(\"project dir: \", project_dir)\n",
    "\n",
    "ds_path = project_dir / 'dataset'"
   ],
   "metadata": {
    "collapsed": false,
    "pycharm": {
     "name": "#%%\n"
    }
   }
  },
  {
   "cell_type": "markdown",
   "source": [
    "## Metadata of the current dataset"
   ],
   "metadata": {
    "collapsed": false
   }
  },
  {
   "cell_type": "code",
   "execution_count": 4,
   "outputs": [
    {
     "data": {
      "text/plain": "             id                                         annotation  width  \\\n0  0030fd0e6378  118145 6 118849 7 119553 8 120257 8 120961 9 1...    704   \n1  0030fd0e6378  189036 1 189739 3 190441 6 191144 7 191848 8 1...    704   \n2  0030fd0e6378  173567 3 174270 5 174974 5 175678 6 176382 7 1...    704   \n3  0030fd0e6378  196723 4 197427 6 198130 7 198834 8 199538 8 2...    704   \n4  0030fd0e6378  167818 3 168522 5 169225 7 169928 8 170632 9 1...    704   \n\n   height cell_type plate_time sample_date  \\\n0     520    shsy5y  11h30m00s   2019/6/16   \n1     520    shsy5y  11h30m00s   2019/6/16   \n2     520    shsy5y  11h30m00s   2019/6/16   \n3     520    shsy5y  11h30m00s   2019/6/16   \n4     520    shsy5y  11h30m00s   2019/6/16   \n\n                            sample_id elapsed_timedelta  \n0  shsy5y[diff]_E10-4_Vessel-714_Ph_3   0 days 11:30:00  \n1  shsy5y[diff]_E10-4_Vessel-714_Ph_3   0 days 11:30:00  \n2  shsy5y[diff]_E10-4_Vessel-714_Ph_3   0 days 11:30:00  \n3  shsy5y[diff]_E10-4_Vessel-714_Ph_3   0 days 11:30:00  \n4  shsy5y[diff]_E10-4_Vessel-714_Ph_3   0 days 11:30:00  ",
      "text/html": "<div>\n<style scoped>\n    .dataframe tbody tr th:only-of-type {\n        vertical-align: middle;\n    }\n\n    .dataframe tbody tr th {\n        vertical-align: top;\n    }\n\n    .dataframe thead th {\n        text-align: right;\n    }\n</style>\n<table border=\"1\" class=\"dataframe\">\n  <thead>\n    <tr style=\"text-align: right;\">\n      <th></th>\n      <th>id</th>\n      <th>annotation</th>\n      <th>width</th>\n      <th>height</th>\n      <th>cell_type</th>\n      <th>plate_time</th>\n      <th>sample_date</th>\n      <th>sample_id</th>\n      <th>elapsed_timedelta</th>\n    </tr>\n  </thead>\n  <tbody>\n    <tr>\n      <th>0</th>\n      <td>0030fd0e6378</td>\n      <td>118145 6 118849 7 119553 8 120257 8 120961 9 1...</td>\n      <td>704</td>\n      <td>520</td>\n      <td>shsy5y</td>\n      <td>11h30m00s</td>\n      <td>2019/6/16</td>\n      <td>shsy5y[diff]_E10-4_Vessel-714_Ph_3</td>\n      <td>0 days 11:30:00</td>\n    </tr>\n    <tr>\n      <th>1</th>\n      <td>0030fd0e6378</td>\n      <td>189036 1 189739 3 190441 6 191144 7 191848 8 1...</td>\n      <td>704</td>\n      <td>520</td>\n      <td>shsy5y</td>\n      <td>11h30m00s</td>\n      <td>2019/6/16</td>\n      <td>shsy5y[diff]_E10-4_Vessel-714_Ph_3</td>\n      <td>0 days 11:30:00</td>\n    </tr>\n    <tr>\n      <th>2</th>\n      <td>0030fd0e6378</td>\n      <td>173567 3 174270 5 174974 5 175678 6 176382 7 1...</td>\n      <td>704</td>\n      <td>520</td>\n      <td>shsy5y</td>\n      <td>11h30m00s</td>\n      <td>2019/6/16</td>\n      <td>shsy5y[diff]_E10-4_Vessel-714_Ph_3</td>\n      <td>0 days 11:30:00</td>\n    </tr>\n    <tr>\n      <th>3</th>\n      <td>0030fd0e6378</td>\n      <td>196723 4 197427 6 198130 7 198834 8 199538 8 2...</td>\n      <td>704</td>\n      <td>520</td>\n      <td>shsy5y</td>\n      <td>11h30m00s</td>\n      <td>2019/6/16</td>\n      <td>shsy5y[diff]_E10-4_Vessel-714_Ph_3</td>\n      <td>0 days 11:30:00</td>\n    </tr>\n    <tr>\n      <th>4</th>\n      <td>0030fd0e6378</td>\n      <td>167818 3 168522 5 169225 7 169928 8 170632 9 1...</td>\n      <td>704</td>\n      <td>520</td>\n      <td>shsy5y</td>\n      <td>11h30m00s</td>\n      <td>2019/6/16</td>\n      <td>shsy5y[diff]_E10-4_Vessel-714_Ph_3</td>\n      <td>0 days 11:30:00</td>\n    </tr>\n  </tbody>\n</table>\n</div>"
     },
     "execution_count": 4,
     "metadata": {},
     "output_type": "execute_result"
    }
   ],
   "source": [
    "train_csv_path = ds_path / 'train.csv'\n",
    "df_train_csv = pd.read_csv(train_csv_path)\n",
    "df_train_csv.head()"
   ],
   "metadata": {
    "collapsed": false,
    "pycharm": {
     "name": "#%%\n"
    }
   }
  },
  {
   "cell_type": "code",
   "execution_count": 5,
   "outputs": [
    {
     "name": "stdout",
     "output_type": "stream",
     "text": [
      "id :  object\n",
      "    element type: <class 'str'>\n",
      "annotation :  object\n",
      "    element type: <class 'str'>\n",
      "width :  int64\n",
      "    element type: <class 'numpy.int64'>\n",
      "height :  int64\n",
      "    element type: <class 'numpy.int64'>\n",
      "cell_type :  object\n",
      "    element type: <class 'str'>\n",
      "plate_time :  object\n",
      "    element type: <class 'str'>\n",
      "sample_date :  object\n",
      "    element type: <class 'str'>\n",
      "sample_id :  object\n",
      "    element type: <class 'str'>\n",
      "elapsed_timedelta :  object\n",
      "    element type: <class 'str'>\n",
      "id                                                        0030fd0e6378\n",
      "annotation           118145 6 118849 7 119553 8 120257 8 120961 9 1...\n",
      "width                                                              704\n",
      "height                                                             520\n",
      "cell_type                                                       shsy5y\n",
      "plate_time                                                   11h30m00s\n",
      "sample_date                                                 2019-06-16\n",
      "sample_id                           shsy5y[diff]_E10-4_Vessel-714_Ph_3\n",
      "elapsed_timedelta                                      0 days 11:30:00\n",
      "Name: 0, dtype: object\n"
     ]
    }
   ],
   "source": [
    "#basic knowledge of the training metadata\n",
    "for col in df_train_csv.columns:\n",
    "    print(col, ': ', df_train_csv[col].dtype)\n",
    "    print('    element type:', type(df_train_csv.loc[0, col]))\n",
    "pprint.pprint(df_train_csv.loc[0,:])"
   ],
   "metadata": {
    "collapsed": false,
    "pycharm": {
     "name": "#%%\n"
    }
   }
  },
  {
   "cell_type": "code",
   "execution_count": 6,
   "outputs": [
    {
     "name": "stdout",
     "output_type": "stream",
     "text": [
      "the rows available are all effective, i.e., without NaNs.\n"
     ]
    }
   ],
   "source": [
    "# check the effectiveness of each entries of the given training metadata\n",
    "\n",
    "check_noneffective_ids(df_train_csv)"
   ],
   "metadata": {
    "collapsed": false,
    "pycharm": {
     "name": "#%%\n"
    }
   }
  },
  {
   "cell_type": "code",
   "execution_count": 52,
   "outputs": [
    {
     "name": "stdout",
     "output_type": "stream",
     "text": [
      "there are totally 73585 rows of the given training metadata dataframe.\n",
      "\n",
      "there are 606 unique images given the training metadata dataframe.\n",
      "\n",
      "the number of valid images in dir train is: 606.\n",
      "\n",
      "all unique image ids in column ids have the corresponding images.\n",
      "\n",
      "the seg annotations are partly the same. And the repeating annotations count to 115.\n",
      "And there are repeating annotations belonging to the same image ids.\n",
      "                                                   id  \\\n",
      "0                    ['309be9da24d7', '309be9da24d7']   \n",
      "1    ['309be9da24d7', '309be9da24d7', '309be9da24d7']   \n",
      "2                    ['309be9da24d7', '309be9da24d7']   \n",
      "3                    ['309be9da24d7', '309be9da24d7']   \n",
      "4                    ['309be9da24d7', '309be9da24d7']   \n",
      "..                                                ...   \n",
      "109                  ['f653c5eec0f8', 'f653c5eec0f8']   \n",
      "110                  ['f653c5eec0f8', 'f653c5eec0f8']   \n",
      "111                  ['f653c5eec0f8', 'f653c5eec0f8']   \n",
      "112                  ['f653c5eec0f8', 'f653c5eec0f8']   \n",
      "113                  ['f653c5eec0f8', 'f653c5eec0f8']   \n",
      "\n",
      "                                            annotation  \n",
      "0    321478 4 322181 6 322884 8 323588 10 324292 10...  \n",
      "1    180309 1 181012 4 181714 7 182417 9 183121 10 ...  \n",
      "2    70528 2 71232 4 71936 7 72641 13 73346 13 7405...  \n",
      "3    217210 1 217914 3 218617 6 219321 8 220025 10 ...  \n",
      "4    322202 4 322905 6 323608 7 324311 8 325015 8 3...  \n",
      "..                                                 ...  \n",
      "109  303908 1 304611 3 305314 4 306017 6 306720 7 3...  \n",
      "110  214464 2 215168 4 215217 2 215871 7 215919 2 2...  \n",
      "111  277852 1 278555 4 279257 7 279958 10 280660 11...  \n",
      "112  287694 6 288397 8 289100 10 289804 11 290508 1...  \n",
      "113  274327 4 275030 5 275732 8 276431 13 277132 16...  \n",
      "\n",
      "[114 rows x 2 columns]\n",
      "True : all the images are of size (704, 520).\n",
      "\n",
      "the different cell type categories characterized by the number of images are:\n",
      "{'astro': 131, 'cort': 320, 'shsy5y': 155}\n",
      "\n",
      "the number of valid images in dir train_semi_supervised is: 1972.\n",
      "\n"
     ]
    }
   ],
   "source": [
    "# check the basic statistics of the given training metadata\n",
    "\n",
    "df_train_csv_relevant = df_train_csv[['id', 'annotation', 'width', 'height', 'cell_type']]\n",
    "cell_type_cnt_dict, df_duplicates_double = check_statistics_basics(df_train_csv_relevant, ds_path, verbose=True)"
   ],
   "metadata": {
    "collapsed": false,
    "pycharm": {
     "name": "#%%\n"
    }
   }
  },
  {
   "cell_type": "code",
   "execution_count": 59,
   "outputs": [
    {
     "data": {
      "text/plain": "                 id                                         annotation  width  \\\n13134  309be9da24d7  321478 4 322181 6 322884 8 323588 10 324292 10...    704   \n13271  309be9da24d7  321478 4 322181 6 322884 8 323588 10 324292 10...    704   \n\n       height cell_type  \n13134     520    shsy5y  \n13271     520    shsy5y  ",
      "text/html": "<div>\n<style scoped>\n    .dataframe tbody tr th:only-of-type {\n        vertical-align: middle;\n    }\n\n    .dataframe tbody tr th {\n        vertical-align: top;\n    }\n\n    .dataframe thead th {\n        text-align: right;\n    }\n</style>\n<table border=\"1\" class=\"dataframe\">\n  <thead>\n    <tr style=\"text-align: right;\">\n      <th></th>\n      <th>id</th>\n      <th>annotation</th>\n      <th>width</th>\n      <th>height</th>\n      <th>cell_type</th>\n    </tr>\n  </thead>\n  <tbody>\n    <tr>\n      <th>13134</th>\n      <td>309be9da24d7</td>\n      <td>321478 4 322181 6 322884 8 323588 10 324292 10...</td>\n      <td>704</td>\n      <td>520</td>\n      <td>shsy5y</td>\n    </tr>\n    <tr>\n      <th>13271</th>\n      <td>309be9da24d7</td>\n      <td>321478 4 322181 6 322884 8 323588 10 324292 10...</td>\n      <td>704</td>\n      <td>520</td>\n      <td>shsy5y</td>\n    </tr>\n  </tbody>\n</table>\n</div>"
     },
     "execution_count": 59,
     "metadata": {},
     "output_type": "execute_result"
    }
   ],
   "source": [
    "# to justify the result - there're repeating annotations for the same image - using an example\n",
    "\n",
    "repeat_id = '309be9da24d7'\n",
    "repeat_annot = df_duplicates_double.loc[0, 'annotation'][0]\n",
    "df_example = df_train_csv_relevant[(df_train_csv_relevant['id']==repeat_id) &\n",
    "                                   (df_train_csv_relevant['annotation']==repeat_annot)]\n",
    "df_example"
   ],
   "metadata": {
    "collapsed": false,
    "pycharm": {
     "name": "#%%\n"
    }
   }
  },
  {
   "cell_type": "code",
   "execution_count": 60,
   "outputs": [
    {
     "data": {
      "text/plain": "                 id                                         annotation  width  \\\n13166  309be9da24d7  180309 1 181012 4 181714 7 182417 9 183121 10 ...    704   \n13173  309be9da24d7  180309 1 181012 4 181714 7 182417 9 183121 10 ...    704   \n13175  309be9da24d7  180309 1 181012 4 181714 7 182417 9 183121 10 ...    704   \n\n       height cell_type  \n13166     520    shsy5y  \n13173     520    shsy5y  \n13175     520    shsy5y  ",
      "text/html": "<div>\n<style scoped>\n    .dataframe tbody tr th:only-of-type {\n        vertical-align: middle;\n    }\n\n    .dataframe tbody tr th {\n        vertical-align: top;\n    }\n\n    .dataframe thead th {\n        text-align: right;\n    }\n</style>\n<table border=\"1\" class=\"dataframe\">\n  <thead>\n    <tr style=\"text-align: right;\">\n      <th></th>\n      <th>id</th>\n      <th>annotation</th>\n      <th>width</th>\n      <th>height</th>\n      <th>cell_type</th>\n    </tr>\n  </thead>\n  <tbody>\n    <tr>\n      <th>13166</th>\n      <td>309be9da24d7</td>\n      <td>180309 1 181012 4 181714 7 182417 9 183121 10 ...</td>\n      <td>704</td>\n      <td>520</td>\n      <td>shsy5y</td>\n    </tr>\n    <tr>\n      <th>13173</th>\n      <td>309be9da24d7</td>\n      <td>180309 1 181012 4 181714 7 182417 9 183121 10 ...</td>\n      <td>704</td>\n      <td>520</td>\n      <td>shsy5y</td>\n    </tr>\n    <tr>\n      <th>13175</th>\n      <td>309be9da24d7</td>\n      <td>180309 1 181012 4 181714 7 182417 9 183121 10 ...</td>\n      <td>704</td>\n      <td>520</td>\n      <td>shsy5y</td>\n    </tr>\n  </tbody>\n</table>\n</div>"
     },
     "execution_count": 60,
     "metadata": {},
     "output_type": "execute_result"
    }
   ],
   "source": [
    "# to justify the result - there're repeating annotations for the same image - using another example\n",
    "\n",
    "repeat_id_2 = '309be9da24d7'\n",
    "repeat_annot_2 = df_duplicates_double.loc[1, 'annotation'][0]\n",
    "df_example_2 = df_train_csv_relevant[(df_train_csv_relevant['id']==repeat_id_2) &\n",
    "                                   (df_train_csv_relevant['annotation']==repeat_annot_2)]\n",
    "df_example_2"
   ],
   "metadata": {
    "collapsed": false,
    "pycharm": {
     "name": "#%%\n"
    }
   }
  },
  {
   "cell_type": "markdown",
   "source": [
    "## Conclusions after exploring the training metadata\n",
    "\n",
    "- The unique image ids of the given training metadata count to 606, and all of their counterparts can be found in the\n",
    "directory *dataset/train*, which also owns 606 valid images.\n",
    "- The directory *dataset/train_semi_supervised* owns 1972 valid images.\n",
    "- All the images are of the same size (704, 502) according to the training metadata.\n",
    "- The different cell type categories characterized by the number of images are:\n",
    "**{'astro': 131, 'cort': 320, 'shsy5y': 155}**\n",
    "- Some segmentation annotations for the same image ids are the same, i.e., even for the same images, some segmentation\n",
    "annotations are duplicate to each other. -->\n",
    "- [x] TODO: Thus, these duplicate segmentation annotations should be removed before being applied, which results\n",
    "in a new dataframe. Then do research on the difference w.r.t the model performance."
   ],
   "metadata": {
    "collapsed": false,
    "pycharm": {
     "name": "#%% md\n"
    }
   }
  },
  {
   "cell_type": "code",
   "execution_count": 62,
   "outputs": [
    {
     "data": {
      "text/plain": "<Figure size 576x432 with 1 Axes>",
      "image/png": "[encoded data removed]"
     },
     "metadata": {
      "needs_background": "light"
     },
     "output_type": "display_data"
    }
   ],
   "source": [
    "# display the statistics of training metadata\n",
    "\n",
    "def display_statistics_of_ds(cell_type_cnt_dict, save=None):\n",
    "    df = pd.DataFrame({'Cell type':cell_type_cnt_dict.keys(), 'Count':cell_type_cnt_dict.values()})\n",
    "\n",
    "    plt.figure(figsize=(8,6))\n",
    "    splot = sns.barplot(x='Cell type', y='Count', data=df)\n",
    "    plt.title('Competition DS: Number of images for different cell types')\n",
    "    # plt.bar_label(splot.containers[0])\n",
    "    for p in splot.patches:\n",
    "        splot.annotate(format(p.get_height(), '.0f'),\n",
    "                       (p.get_x()+p.get_width()/2, p.get_height()),\n",
    "                       ha='center', va='center', size=12,\n",
    "                       xytext=(0,-12), textcoords='offset points')\n",
    "    if save:\n",
    "        save_path = save / \"results\" / \"distributions_of_cell_type_numbers.png\"\n",
    "        plt.savefig(save_path.as_posix())\n",
    "    plt.tight_layout()\n",
    "    plt.show()\n",
    "\n",
    "display_statistics_of_ds(cell_type_cnt_dict, save=project_dir)"
   ],
   "metadata": {
    "collapsed": false,
    "pycharm": {
     "name": "#%%\n"
    }
   }
  }
 ],
 "metadata": {
  "kernelspec": {
   "display_name": "Python 3",
   "language": "python",
   "name": "python3"
  },
  "language_info": {
   "codemirror_mode": {
    "name": "ipython",
    "version": 2
   },
   "file_extension": ".py",
   "mimetype": "text/x-python",
   "name": "python",
   "nbconvert_exporter": "python",
   "pygments_lexer": "ipython2",
   "version": "2.7.6"
  }
 },
 "nbformat": 4,
 "nbformat_minor": 0
}