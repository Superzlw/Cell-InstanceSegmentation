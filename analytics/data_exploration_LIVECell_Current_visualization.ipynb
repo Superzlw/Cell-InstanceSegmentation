{
 "cells": [
  {
   "cell_type": "code",
   "execution_count": null,
   "outputs": [],
   "source": [
    "# -*- coding: utf-8 -*-\n",
    "\"\"\"\n",
    "@author: Rukang Xu\n",
    "\"\"\""
   ],
   "metadata": {
    "collapsed": false,
    "pycharm": {
     "name": "#%%\n"
    }
   }
  },
  {
   "cell_type": "markdown",
   "metadata": {
    "collapsed": true,
    "pycharm": {
     "name": "#%% md\n"
    }
   },
   "source": [
    "# Data Exploration of LIVECell - Segmentation and BBOX Label Meaning"
   ]
  },
  {
   "cell_type": "code",
   "execution_count": 1,
   "outputs": [],
   "source": [
    "import pathlib2\n",
    "import numpy as np\n",
    "import json\n",
    "import random\n",
    "import requests\n",
    "from io import BytesIO\n",
    "from math import trunc\n",
    "import cv2\n",
    "from PIL import Image as PILImage\n",
    "from PIL import ImageDraw as PILImageDraw\n",
    "import re\n",
    "import time"
   ],
   "metadata": {
    "collapsed": false,
    "pycharm": {
     "name": "#%%\n"
    }
   }
  },
  {
   "cell_type": "code",
   "execution_count": 3,
   "outputs": [],
   "source": [
    "# Helper functions\n",
    "\n",
    "# display the image with annotations using cv2\n",
    "def display_save_result_img(result_img, *argv, save_path=None, display=True, save=False):\n",
    "    if display:\n",
    "        if argv is None:\n",
    "            while(1):\n",
    "                cv2.imshow('image_with_annots', result_img)\n",
    "                if cv2.waitKey(20) & 0xFF == 27:\n",
    "                    break\n",
    "            cv2.destroyAllWindows()\n",
    "        else:\n",
    "            images_list = [result_img]\n",
    "            for arg in argv:\n",
    "                images_list.append(arg)\n",
    "            while(1):\n",
    "                cv2.imshow('image_with_annots', cv2.vconcat(images_list))\n",
    "                if cv2.waitKey(20) & 0xFF == 27:\n",
    "                    break\n",
    "            cv2.destroyAllWindows()\n",
    "    else:\n",
    "        pass\n",
    "    if save & (save_path is not None):\n",
    "        if argv is None:\n",
    "            cv2.imwrite(save_path.as_posix(), result_img)\n",
    "            print(f\"The resulting image is saved in {save_path.as_posix()}.\")\n",
    "        else:\n",
    "            images_list = [result_img]\n",
    "            for arg in argv:\n",
    "                images_list.append(arg)\n",
    "            cv2.imwrite(save_path.as_posix(), cv2.vconcat(images_list))\n",
    "            print(f\"The resulting image is saved in {save_path.as_posix()}.\")\n",
    "    elif save & (save_path is None):\n",
    "        print(\"Error: please set the saving path!\")\n",
    "    else:\n",
    "        pass\n",
    "\n",
    "# Load the dataset json\n",
    "# Reference code: [COCO image viewer](https://github.com/Tony607/labelme2coco/blob/master/COCO_Image_Viewer.ipynb)\n",
    "class LiveCellDataset:\n",
    "    def __init__(self, annotation_path, image_dir):\n",
    "        self.annotation_path = annotation_path\n",
    "        self.image_dir = image_dir\n",
    "        self.colors = ['limegreen','blue', 'purple', 'red', 'green', 'orange', 'salmon', 'pink']\n",
    "        self.colors_rgb = [(50, 205, 50), (0, 0, 255), (160, 32, 240), (255, 0, 0),\n",
    "                           (0, 255, 0), (255, 165, 0), (250, 128, 114), (255, 192, 203)]\n",
    "        self.colors_str_2_rgb = {color_str:color_rgb for color_str, color_rgb in zip(self.colors, self.colors_rgb)}\n",
    "\n",
    "        with open(self.annotation_path) as json_file:\n",
    "            self.livecell = json.load(json_file)\n",
    "\n",
    "        self.process_info()\n",
    "        self.process_licenses()\n",
    "        self.process_categories()\n",
    "        self.process_images()\n",
    "        self.process_segmentations()\n",
    "\n",
    "    def display_info(self):\n",
    "        print('Dataset Info:')\n",
    "        print('=============')\n",
    "        if self.info is None:\n",
    "            return\n",
    "        for key, item in self.info.items():\n",
    "            print('  {}: {}'.format(key, item))\n",
    "\n",
    "        requirements = [['description', str],\n",
    "                        ['url', str],\n",
    "                        ['version', str],\n",
    "                        ['year', str],\n",
    "                        ['contributor', str],\n",
    "                        ['date_created', str]]\n",
    "        for req, req_type in requirements:\n",
    "            if req not in self.info:\n",
    "                print('ERROR: {} is missing'.format(req))\n",
    "            elif type(self.info[req]) != req_type:\n",
    "                print('ERROR: {} should be type {}'.format(req, str(req_type)))\n",
    "        print('')\n",
    "\n",
    "    def display_licenses(self):\n",
    "        print('Licenses:')\n",
    "        print('=========')\n",
    "\n",
    "        if self.licenses is None:\n",
    "            return\n",
    "        requirements = [['id', int],\n",
    "                        ['url', str],\n",
    "                        ['name', str]]\n",
    "        for license in self.licenses:\n",
    "            for key, item in license.items():\n",
    "                print('  {}: {}'.format(key, item))\n",
    "            for req, req_type in requirements:\n",
    "                if req not in license:\n",
    "                    print('ERROR: {} is missing'.format(req))\n",
    "                elif type(license[req]) != req_type:\n",
    "                    print('ERROR: {} should be type {}'.format(\n",
    "                        req, str(req_type)))\n",
    "            print('')\n",
    "        print('')\n",
    "\n",
    "    def display_categories(self):\n",
    "        print('Categories:')\n",
    "        print('=========')\n",
    "        for sc_key, sc_val in self.super_categories.items():\n",
    "            print('  super_category: {}'.format(sc_key))\n",
    "            for cat_id in sc_val:\n",
    "                print('    id {}: {}'.format(\n",
    "                    cat_id, self.categories[cat_id]['name']))\n",
    "            print('')\n",
    "\n",
    "    def display_image(self, image_id, show_polys=True, show_bbox=True, show_crowds=True, use_url=False, use_cv=True,\n",
    "                      verbose=False):\n",
    "        \"\"\"\n",
    "        display the image and the corresponding annotations according to the given image_id or the one at random\n",
    "        :param image_id: int image id given; or str 'random'\n",
    "        :param show_polys: boolean flag if polygons should be visualized\n",
    "        :param show_bbox: boolean flag if bounding box should be visualized\n",
    "        :param show_crowds: boolean flag if the crowd (a cloud of objects) should be visualized\n",
    "        :param use_url: boolean flag if url should be leveraged\n",
    "        :param use_url: boolean flag if opencv should be leveraged for visualization\n",
    "        :param verbose: boolean flag if the additional information should be shown in the terminal\n",
    "        :return:\n",
    "        \"\"\"\n",
    "        print('Image:')\n",
    "        print('======')\n",
    "        if image_id == 'random':\n",
    "            image_id = random.choice(list(self.images.keys()))\n",
    "\n",
    "        # Print the image info\n",
    "        image = self.images[image_id]\n",
    "        for key, val in image.items():\n",
    "            print('  {}: {}'.format(key, val))\n",
    "\n",
    "        # Open the image through url\n",
    "        if use_url:\n",
    "            image_path = image['url']\n",
    "            response = requests.get(image_path)\n",
    "            image = PILImage.open(BytesIO(response.content))\n",
    "            if verbose:\n",
    "                print(\"It successfully opens the image via url.\")\n",
    "        # Open the image through the local path\n",
    "        else:\n",
    "            # filtering for the cell type dir is necessary due to the additional dir structure for cell type\n",
    "            # image_path = \"{}/{}\".format(self.image_dir, image['file_name'])\n",
    "            filtered_dir_obj = re.match(r\"[a-zA-Z0-9]+\", image['file_name'], flags=0)\n",
    "            filtered_dir = filtered_dir_obj.group(0)\n",
    "            image_path = self.image_dir / filtered_dir / image['file_name']\n",
    "            if use_cv:\n",
    "                image = cv2.imread(image_path.as_posix())\n",
    "            else:\n",
    "                image = PILImage.open(image_path.as_posix())\n",
    "            if verbose:\n",
    "                print(\"It successfully opens the image via local path.\")\n",
    "\n",
    "        # Calculate the size and adjusted display size with aspect ratio being the same\n",
    "        max_width = 704\n",
    "        image_height = image.shape[0]\n",
    "        image_width = image.shape[1]\n",
    "        adjusted_width = min(image_width, max_width)\n",
    "        adjusted_ratio = adjusted_width / image_width\n",
    "        adjusted_height = adjusted_ratio * image_height\n",
    "\n",
    "        # Create list of polygons to be drawn\n",
    "        polygons = {}\n",
    "        bbox_polygons = {}\n",
    "        rle_regions = {}\n",
    "        poly_colors = {}\n",
    "        bbox_categories = {}\n",
    "        # Print the annotation info for the specific image id\n",
    "        print('  segmentations ({}),'.format(\n",
    "            len(self.segmentations[image_id])))\n",
    "        current_img_one_annot = self.segmentations[image_id][0]\n",
    "        print('  and details for image_id {}:'.format(current_img_one_annot['image_id']))\n",
    "        for i, segm in enumerate(self.segmentations[image_id]):\n",
    "            polygons_list = []\n",
    "            if segm['iscrowd'] != 0:\n",
    "                # Gotta decode the RLE (not adapted presently!)\n",
    "                px = 0\n",
    "                x, y = 0, 0\n",
    "                rle_list = []\n",
    "                for j, counts in enumerate(segm['segmentation']['counts']):\n",
    "                    if j % 2 == 0:\n",
    "                        # Empty pixels\n",
    "                        px += counts\n",
    "                    else:\n",
    "                        # Need to draw on these pixels, since we are drawing in vector form,\n",
    "                        # we need to draw horizontal lines on the image\n",
    "                        x_start = trunc(\n",
    "                            trunc(px / image_height) * adjusted_ratio)\n",
    "                        y_start = trunc(px % image_height * adjusted_ratio)\n",
    "                        px += counts\n",
    "                        x_end = trunc(trunc(px / image_height)\n",
    "                                      * adjusted_ratio)\n",
    "                        y_end = trunc(px % image_height * adjusted_ratio)\n",
    "                        if x_end == x_start:\n",
    "                            # This is only on one line\n",
    "                            rle_list.append(\n",
    "                                {'x': x_start, 'y': y_start, 'width': 1, 'height': (y_end - y_start)})\n",
    "                        if x_end > x_start:\n",
    "                            # This spans more than one line\n",
    "                            # Insert top line first\n",
    "                            rle_list.append(\n",
    "                                {'x': x_start, 'y': y_start, 'width': 1, 'height': (image_height - y_start)})\n",
    "\n",
    "                            # Insert middle lines if needed\n",
    "                            lines_spanned = x_end - x_start + 1  # total number of lines spanned\n",
    "                            full_lines_to_insert = lines_spanned - 2\n",
    "                            if full_lines_to_insert > 0:\n",
    "                                full_lines_to_insert = trunc(\n",
    "                                    full_lines_to_insert * adjusted_ratio)\n",
    "                                rle_list.append(\n",
    "                                    {'x': (x_start + 1), 'y': 0, 'width': full_lines_to_insert, 'height': image_height})\n",
    "\n",
    "                            # Insert bottom line\n",
    "                            rle_list.append(\n",
    "                                {'x': x_end, 'y': 0, 'width': 1, 'height': y_end})\n",
    "                if len(rle_list) > 0:\n",
    "                    rle_regions[segm['id']] = rle_list\n",
    "            else:\n",
    "                # Add one polygon for an object\n",
    "                for segmentation_points in segm['segmentation']:\n",
    "                    segmentation_points = np.multiply(\n",
    "                        segmentation_points, adjusted_ratio).astype(int) # return np.array([[...]]) (1*m)\n",
    "                    if use_cv:\n",
    "                        segmentation_points = segmentation_points.reshape((-1, 1, 2))\n",
    "                        polygons_list.append(segmentation_points)\n",
    "                    else:\n",
    "                        polygons_list.append(\n",
    "                            str(segmentation_points).lstrip('[').rstrip(']'))\n",
    "            polygons[segm['id']] = polygons_list\n",
    "            # the following snippet for traversing the self.colors list is unnecessary since there is only one kind\n",
    "            # of segmentation label for each image\n",
    "            # if i < len(self.colors):\n",
    "            #     poly_colors[segm['id']] = self.colors[i]\n",
    "            # else:\n",
    "            #     poly_colors[segm['id']] = 'white'\n",
    "            poly_colors[segm['id']] = self.colors[0]\n",
    "            bbox = segm['bbox']\n",
    "            bbox_points = [bbox[0], bbox[1], bbox[0] + bbox[2], bbox[1],\n",
    "                           bbox[0] + bbox[2], bbox[1] +\n",
    "                           bbox[3], bbox[0], bbox[1] + bbox[3],\n",
    "                           bbox[0], bbox[1]]\n",
    "            bbox_points = np.multiply(bbox_points, adjusted_ratio).astype(int)\n",
    "            if use_cv:\n",
    "                bbox_points_unclosed = np.array(bbox_points[:-2])\n",
    "                bbox_polygons[segm['id']] = bbox_points_unclosed.reshape((-1, 1, 2))\n",
    "            else:\n",
    "                bbox_polygons[segm['id']] = str(\n",
    "                    bbox_points).lstrip('[').rstrip(']')\n",
    "            bbox_categories[segm['id']] = self.categories[segm['category_id']]\n",
    "            # Print details\n",
    "            if verbose:\n",
    "                print('    {}:{}:{}'.format(\n",
    "                    segm['id'], poly_colors[segm['id']], self.categories[segm['category_id']]))\n",
    "\n",
    "        # Draw segmentation polygons on image\n",
    "        html = '<div class=\"container\" style=\"position:relative;\">'\n",
    "        html += '<img src=\"{}\" style=\"position:relative;top:0px;left:0px;width:{}px;\">'.format(\n",
    "            image_path, adjusted_width)\n",
    "        html += '<div class=\"svgclass\"><svg width=\"{}\" height=\"{}\">'.format(\n",
    "            adjusted_width, adjusted_height)\n",
    "\n",
    "        show_polys_begin = time.time()\n",
    "        if show_polys:\n",
    "            for seg_id, points_list in polygons.items():\n",
    "                if use_cv:\n",
    "                    fill_color = self.colors_str_2_rgb[poly_colors[seg_id]]\n",
    "                    image = cv2.fillPoly(image, points_list, fill_color)\n",
    "                else:\n",
    "                    fill_color = poly_colors[seg_id]\n",
    "                    stroke_color = poly_colors[seg_id]\n",
    "                    for points in points_list:\n",
    "                        html += '<polygon points=\"{}\" style=\"fill:{}; stroke:{}; stroke-width:1; fill-opacity:0.5\" />'.format(\n",
    "                            points, fill_color, stroke_color)\n",
    "        show_polys_end = time.time()\n",
    "        print(f\"Total time of showing polygons is {show_polys_end - show_polys_begin}s.\")\n",
    "\n",
    "        if show_crowds:\n",
    "            for seg_id, rect_list in rle_regions.items():\n",
    "                fill_color = poly_colors[seg_id]\n",
    "                stroke_color = poly_colors[seg_id]\n",
    "                for rect_def in rect_list:\n",
    "                    x, y = rect_def['x'], rect_def['y']\n",
    "                    w, h = rect_def['width'], rect_def['height']\n",
    "                    html += '<rect x=\"{}\" y=\"{}\" width=\"{}\" height=\"{}\" style=\"fill:{}; stroke:{}; stroke-width:1; fill-opacity:0.5; stroke-opacity:0.5\" />'.format(\n",
    "                        x, y, w, h, fill_color, stroke_color)\n",
    "\n",
    "        show_bbox_begin = time.time()\n",
    "        if show_bbox:\n",
    "            for seg_id, points in bbox_polygons.items():\n",
    "                if use_cv:\n",
    "                    stroke_color = self.colors_str_2_rgb[poly_colors[seg_id]]\n",
    "                    image = cv2.polylines(image, [points], True, stroke_color, 1)\n",
    "                else:\n",
    "                    x, y = [int(i) for i in points.split()[:2]]\n",
    "                    html += '<text x=\"{}\" y=\"{}\" fill=\"yellow\">{}</text>'.format(\n",
    "                        x, y, bbox_categories[seg_id][\"name\"])\n",
    "                    fill_color = poly_colors[seg_id]\n",
    "                    stroke_color = poly_colors[seg_id]\n",
    "                    html += '<polygon points=\"{}\" style=\"fill:{}; stroke:{}; stroke-width:1; fill-opacity:0\" />'.format(\n",
    "                        points, fill_color, stroke_color)\n",
    "        show_bbox_end = time.time()\n",
    "        print(f\"Total time of showing bboxes is {show_bbox_end - show_bbox_begin}s.\")\n",
    "\n",
    "        if use_cv:\n",
    "            return image\n",
    "        else:\n",
    "            html += '</svg></div>'\n",
    "            html += '</div>'\n",
    "            html += '<style>'\n",
    "            html += '.svgclass { position:absolute; top:0px; left:0px;}'\n",
    "            html += '</style>'\n",
    "            return html\n",
    "\n",
    "    def process_info(self):\n",
    "        self.info = self.livecell.get('info')\n",
    "\n",
    "    def process_licenses(self):\n",
    "        self.licenses = self.livecell.get('licenses')\n",
    "\n",
    "    def process_categories(self):\n",
    "        self.categories = {}\n",
    "        self.super_categories = {}\n",
    "        for category in self.livecell['categories']:\n",
    "            cat_id = category['id']\n",
    "            super_category = category['supercategory']\n",
    "            cat_name = category['name']\n",
    "\n",
    "            # Add category to the categories dict\n",
    "            if cat_id not in self.categories:\n",
    "                self.categories[cat_id] = category\n",
    "            else:\n",
    "                print(\"ERROR: Skipping duplicate category id: {}\".format(category))\n",
    "\n",
    "            # Add category to super_categories dict\n",
    "            if super_category not in self.super_categories:\n",
    "                # Create a new set with the category id\n",
    "                self.super_categories[super_category] = {cat_id}\n",
    "            else:\n",
    "                self.super_categories[super_category] |= {\n",
    "                    cat_id}  # Add category id to the set\n",
    "\n",
    "    def process_images(self):\n",
    "        # create the dict with key (str): image_id and value (dict): each row of key-value pairs of image metadata\n",
    "        self.images = {}\n",
    "        for image in self.livecell['images']:\n",
    "            image_id = image['id']\n",
    "            if image_id in self.images:\n",
    "                print(\"ERROR: Skipping duplicate image id: {}\".format(image))\n",
    "            else:\n",
    "                self.images[image_id] = image\n",
    "\n",
    "    def process_segmentations(self):\n",
    "        # create the dict with key (str): image_id and value (list): list of annotation metadata (dict)\n",
    "        self.segmentations = {}\n",
    "        for segmentation in self.livecell['annotations'].values():\n",
    "            image_id = segmentation['image_id']\n",
    "            if image_id not in self.segmentations:\n",
    "                self.segmentations[image_id] = []\n",
    "            self.segmentations[image_id].append(segmentation)"
   ],
   "metadata": {
    "collapsed": false,
    "pycharm": {
     "name": "#%%\n"
    }
   }
  },
  {
   "cell_type": "markdown",
   "source": [
    "## Define relevant paths"
   ],
   "metadata": {
    "collapsed": false
   }
  },
  {
   "cell_type": "code",
   "execution_count": 4,
   "outputs": [
    {
     "name": "stdout",
     "output_type": "stream",
     "text": [
      "currentdir:  F:/Kaggle/sartorius_cell_is/code/rkx_cell_is/analytics\n",
      "project dir:  F:/Kaggle/sartorius_cell_is/code/rkx_cell_is\n"
     ]
    }
   ],
   "source": [
    "current_dir = pathlib2.Path.cwd()\n",
    "# current_dir = os.path.dirname(os.path.abspath(inspect.getfile(inspect.currentframe())))\n",
    "print(\"currentdir: \", current_dir.as_posix())\n",
    "project_dir = current_dir.parent\n",
    "print(\"project dir: \", project_dir.as_posix())"
   ],
   "metadata": {
    "collapsed": false,
    "pycharm": {
     "name": "#%%\n"
    }
   }
  },
  {
   "cell_type": "code",
   "execution_count": 5,
   "outputs": [
    {
     "name": "stdout",
     "output_type": "stream",
     "text": [
      "dataset dir:  F:/Kaggle/sartorius_cell_is/code/rkx_cell_is/dataset\n",
      "livecell dataset dir:  F:/Kaggle/sartorius_cell_is/code/rkx_cell_is/dataset/LIVECell_dataset_2021\n"
     ]
    }
   ],
   "source": [
    "ds_path = project_dir / 'dataset'\n",
    "print(\"dataset dir: \", ds_path.as_posix())\n",
    "livecell_ds_path = ds_path / 'LIVECell_dataset_2021'\n",
    "print(\"livecell dataset dir: \", livecell_ds_path.as_posix())\n",
    "livecell_ds_annot_path, livecell_ds_imgs_path = [x for x in livecell_ds_path.iterdir() if x.is_dir()]\n",
    "\n",
    "livecell_train_meta_path = livecell_ds_annot_path / 'LIVECell' / 'livecell_coco_train.json'\n",
    "livecell_val_meta_path = livecell_ds_annot_path / 'LIVECell' / 'livecell_coco_val.json'\n",
    "livecell_test_meta_path = livecell_ds_annot_path / 'LIVECell' / 'livecell_coco_test.json'\n",
    "\n",
    "livecell_train_val_img_path = livecell_ds_imgs_path / 'livecell_train_val_images'\n",
    "livecell_test_img_path = livecell_ds_imgs_path / 'livecell_test_images'"
   ],
   "metadata": {
    "collapsed": false,
    "pycharm": {
     "name": "#%%\n"
    }
   }
  },
  {
   "cell_type": "code",
   "execution_count": 5,
   "outputs": [
    {
     "name": "stdout",
     "output_type": "stream",
     "text": [
      "Dataset Info:\n",
      "=============\n",
      "  year: 2020\n",
      "  version: 1.0\n",
      "  description: LIVECell 2021 Dataset\n",
      "  contributor: Sartorius\n",
      "  url: https://osf.io/6kang/?view_only=da0516e9189b4dbdbf018475113ed343\n",
      "  date_created: 2021/01/19\n",
      "\n",
      "Licenses:\n",
      "=========\n",
      "  id: 1\n",
      "  name: Attribution-NonCommercial 4.0 International License\n",
      "  url: https://creativecommons.org/licenses/by-nc/4.0/\n",
      "\n",
      "\n",
      "Categories:\n",
      "=========\n",
      "  super_category: cell\n",
      "    id 1: cell\n",
      "\n"
     ]
    }
   ],
   "source": [
    "# Display fundamental descriptions\n",
    "\n",
    "livecell_ds = LiveCellDataset(livecell_test_meta_path, livecell_test_img_path)\n",
    "livecell_ds.display_info()\n",
    "livecell_ds.display_licenses()\n",
    "livecell_ds.display_categories()"
   ],
   "metadata": {
    "collapsed": false,
    "pycharm": {
     "name": "#%%\n"
    }
   }
  },
  {
   "cell_type": "markdown",
   "source": [
    "## Draw segmentation label (Polygons) and/or bounding box label on the corresponding image"
   ],
   "metadata": {
    "collapsed": false,
    "pycharm": {
     "name": "#%% md\n"
    }
   }
  },
  {
   "cell_type": "code",
   "execution_count": 7,
   "outputs": [
    {
     "name": "stdout",
     "output_type": "stream",
     "text": [
      "Image:\n",
      "======\n",
      "  id: 918641\n",
      "  width: 704\n",
      "  height: 520\n",
      "  file_name: Huh7_Phase_A12_1_03d16h00m_2.tif\n",
      "  original_filename: Huh7_Phase_A12_1_03d16h00m_2.png\n",
      "  url: https://darwin.v7labs.com/api/images/37666/original\n",
      "  segmentations (57),\n",
      "  and details for image_id 918641:\n",
      "Total time of showing polygons is 0.0s.\n",
      "Total time of showing bboxes is 0.0s.\n",
      "Image:\n",
      "======\n",
      "  id: 1038567\n",
      "  width: 704\n",
      "  height: 520\n",
      "  file_name: Huh7_Phase_A12_1_03d16h00m_2.tif\n",
      "  original_filename: Huh7_Phase_A12_1_03d16h00m_2.png\n",
      "  url: https://darwin.v7labs.com/api/images/47472/original\n",
      "  segmentations (53),\n",
      "  and details for image_id 1038567:\n",
      "Total time of showing polygons is 0.0s.\n",
      "Total time of showing bboxes is 0.0s.\n"
     ]
    }
   ],
   "source": [
    "# Draw the annotations on the given image\n",
    "# Or draw the annotations on the iamge of interest based on the results from the notebook data_exploration_LIVECell.ipynb\n",
    "\n",
    "# test_img_annots_html = livecell_ds.display_image('random', show_polys=True, show_bbox=False, show_crowds=False,\n",
    "#                                                 use_url=False, use_cv=False, verbose=True)\n",
    "test_img_annots_1 = livecell_ds.display_image(918641, show_polys=True, show_bbox=False, show_crowds=False,\n",
    "                                                use_url=False, use_cv=True, verbose=False)\n",
    "test_img_annots_2 = livecell_ds.display_image(1038567, show_polys=True, show_bbox=False, show_crowds=False,\n",
    "                                                use_url=False, use_cv=True, verbose=False)"
   ],
   "metadata": {
    "collapsed": false,
    "pycharm": {
     "name": "#%%\n"
    }
   }
  },
  {
   "cell_type": "code",
   "execution_count": 8,
   "outputs": [
    {
     "name": "stdout",
     "output_type": "stream",
     "text": [
      "The resulting image is saved in F:/Kaggle/sartorius_cell_instance_segmentation/code/rkx_cell_is/results/demo_images/demo_selected_images.png.\n"
     ]
    }
   ],
   "source": [
    "# display the image with annotations\n",
    "#import IPython\n",
    "#IPython.display.HTML(test_img_annot_html)\n",
    "\n",
    "display_save_result_img(test_img_annots_1, test_img_annots_2,\n",
    "                        save_path=project_dir / 'results' / 'demo_images' / 'demo_selected_images.png',\n",
    "                        display=False, save=True)"
   ],
   "metadata": {
    "collapsed": false,
    "pycharm": {
     "name": "#%%\n"
    }
   }
  },
  {
   "cell_type": "code",
   "execution_count": null,
   "outputs": [],
   "source": [
    "train_df = pd.read_csv('../input/sartorius-cell-instance-segmentation/train.csv')"
   ],
   "metadata": {
    "collapsed": false,
    "pycharm": {
     "name": "#%%\n"
    }
   }
  }
 ],
 "metadata": {
  "kernelspec": {
   "display_name": "Python 3",
   "language": "python",
   "name": "python3"
  },
  "language_info": {
   "codemirror_mode": {
    "name": "ipython",
    "version": 2
   },
   "file_extension": ".py",
   "mimetype": "text/x-python",
   "name": "python",
   "nbconvert_exporter": "python",
   "pygments_lexer": "ipython2",
   "version": "2.7.6"
  }
 },
 "nbformat": 4,
 "nbformat_minor": 0
}