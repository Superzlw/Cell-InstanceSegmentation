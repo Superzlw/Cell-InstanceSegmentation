{
 "cells": [
  {
   "cell_type": "code",
   "execution_count": null,
   "outputs": [],
   "source": [
    "# -*- coding: utf-8 -*-\n",
    "\"\"\"\n",
    "@author: Rukang Xu\n",
    "\"\"\""
   ],
   "metadata": {
    "collapsed": false,
    "pycharm": {
     "name": "#%%\n"
    }
   }
  },
  {
   "cell_type": "markdown",
   "source": [
    "# Data Exploration of LIVECell"
   ],
   "metadata": {
    "collapsed": false
   }
  },
  {
   "cell_type": "code",
   "execution_count": 1,
   "outputs": [],
   "source": [
    "import os, inspect\n",
    "import pathlib2\n",
    "import pandas as pd\n",
    "import numpy as np\n",
    "import json\n",
    "import matplotlib\n",
    "from matplotlib import pyplot as plt\n",
    "import seaborn as sns\n",
    "import re\n",
    "from itertools import groupby"
   ],
   "metadata": {
    "collapsed": false,
    "pycharm": {
     "name": "#%%\n"
    }
   }
  },
  {
   "cell_type": "code",
   "execution_count": 2,
   "outputs": [],
   "source": [
    "# Define the macro\n",
    "MEDIUM_SIZE_THRESHOLD = 320\n",
    "LARGE_SIZE_THRESHOLD = 970"
   ],
   "metadata": {
    "collapsed": false,
    "pycharm": {
     "name": "#%%\n"
    }
   }
  },
  {
   "cell_type": "code",
   "execution_count": 3,
   "outputs": [],
   "source": [
    "CELL_TYPE_PATTERN = ['A172', 'BT474', 'BV2', 'Huh7', 'MCF7', 'RatC6', 'SHSY5Y', 'SkBr3', 'SKOV3']\n",
    "# Helper functions\n",
    "\n",
    "def learn_metadata(metadata_path):\n",
    "    \"\"\"\n",
    "    learn about the basics of the metadata\n",
    "    :param metadata_path: pathlib2.WindowsPath path representing the metadata file\n",
    "    :return: dict metadata\n",
    "    \"\"\"\n",
    "\n",
    "    # read the json file metadata as a dict\n",
    "    with open(metadata_path) as json_data:\n",
    "        metadata = json.load(json_data)\n",
    "\n",
    "    # learn basic knowledge of metadata\n",
    "    print(metadata.keys(), '\\n\\n')\n",
    "    print('the type of images container: ', type(metadata['images']))\n",
    "    print('the first element of <list> images: \\n', metadata['images'][0], '\\n\\n')\n",
    "    print('the type of annotations container: ', type(metadata['annotations']))\n",
    "    print('the first ten keys of <dict> annotations: \\n', list(metadata['annotations'].keys())[:10])\n",
    "    print(f\"the first item of <dict> annotations has the key: \\n {list(metadata['annotations'].items())[0][0]} \\nand the \"\n",
    "          f\"value: \\n{list(metadata['annotations'].items())[0][1]} \\n\\n\")\n",
    "    print('the type of categories container: ', type(metadata['categories']))\n",
    "    print('the only element of <list> categories: \\n', metadata['categories'][0], '\\n\\n')\n",
    "    print('the type of info container: ', type(metadata['info']))\n",
    "    print('the keys of <dict> info: \\n', metadata['info'].keys(), '\\n\\n')\n",
    "    print('the type of licenses container: ', type(metadata['licenses']))\n",
    "    print('the first element of <list> licenses: \\n', metadata['licenses'][0])\n",
    "\n",
    "    return metadata\n",
    "\n",
    "def check_noneffective_ids(df):\n",
    "    \"\"\"\n",
    "    check if the given data frame has NaN and return the rows with it if any, or else return nothing\n",
    "    :param df: pd.DataFrame input dataframe\n",
    "    :return: pd.DataFrame dataframe including only non-valid rows if any\n",
    "    \"\"\"\n",
    "\n",
    "    is_NaN = df.isnull()\n",
    "    row_has_NaN = is_NaN.any(axis=1)\n",
    "    rows_with_NaN = df[row_has_NaN]\n",
    "    len_rows_with_NaN = rows_with_NaN.shape[0]\n",
    "    if len_rows_with_NaN != 0:\n",
    "        print(f\"there are {len_rows_with_NaN} non effective rows.\")\n",
    "        return rows_with_NaN\n",
    "    else:\n",
    "        print(\"the rows available are all effective, i.e., without NaNs.\")\n",
    "        return None\n",
    "\n",
    "def check_meta_images_df(df_img):\n",
    "    \"\"\"\n",
    "    check the validity of metadata of images\n",
    "    :param df_img: pd.DataFrame dataframe that contains image metadata\n",
    "    :return: int length of all items in df_img and\n",
    "             int length of unique image ids and\n",
    "             pd.DataFrame duplicated dataframe in terms of file_name if any\n",
    "    \"\"\"\n",
    "\n",
    "    # check the number of available items and unique ids of the dataframe\n",
    "    len_df_img = df_img.shape[0]\n",
    "    print(f\"there are {len_df_img} items in the image metadata frame.\")\n",
    "    img_ids_array = df_img['id'].unique()\n",
    "    len_img_ids_array = img_ids_array.shape[0]\n",
    "    print(f\"there are {len_img_ids_array} unique ids (not images) in the image metadata frame.\")\n",
    "\n",
    "    # check if the ids are sorted by size\n",
    "    img_ids_array_copy = img_ids_array.copy()\n",
    "    img_ids_array_copy.sort()\n",
    "    print(np.allclose(img_ids_array, img_ids_array_copy), ': the ids are sorted by size.')\n",
    "\n",
    "    # check if all images are of the same size given the width and height\n",
    "    uniq_width_arr = df_img['width'].unique()\n",
    "    uniq_height_arr = df_img['height'].unique()\n",
    "    if (uniq_width_arr.size == 1) and (uniq_height_arr.size == 1):\n",
    "        print((uniq_width_arr[0] == 704) and (uniq_height_arr[0] == 520), ': all the images are of size (704, 520).')\n",
    "    elif (uniq_width_arr.size != 1) and (uniq_height_arr.size == 1):\n",
    "        print(\"some images have different width.\")\n",
    "    elif (uniq_width_arr.size == 1) and (uniq_height_arr.size != 1):\n",
    "        print(\"some images have different height.\")\n",
    "    elif (uniq_width_arr.size != 1) and (uniq_height_arr.size != 1):\n",
    "        print(\"some images have different size.\")\n",
    "\n",
    "    # check if all the file names have the same extension .tff\n",
    "    # and check if all the file names are unique\n",
    "    counts_of_tif_files = df_img['file_name'].str.count('.tif').sum()\n",
    "    if counts_of_tif_files == len_df_img:\n",
    "        print('all files are extended by .tff.')\n",
    "    else:\n",
    "        print('there are files extended by different file format.')\n",
    "\n",
    "    uniq_file_names_arr = df_img['file_name'].unique()\n",
    "    len_uniq_file_names_arr = uniq_file_names_arr.shape[0]\n",
    "    print(f\"there are {len_uniq_file_names_arr} unique file names in the image metadata frame.\")\n",
    "    if len_uniq_file_names_arr < len_df_img:\n",
    "        has_duplicate = df_img['file_name'].duplicated()\n",
    "        non_duplicates_filename = df_img[~has_duplicate]\n",
    "        has_duplicate_all = df_img['file_name'].duplicated(keep=False)\n",
    "        duplicates_filename_all = df_img[has_duplicate_all][[\"id\", \"file_name\"]]\n",
    "        duplicates_filename_all.reset_index(drop=True, inplace=True)\n",
    "        return len_df_img, len_img_ids_array, non_duplicates_filename, duplicates_filename_all\n",
    "    else:\n",
    "        return len_df_img, len_img_ids_array\n",
    "\n",
    "def check_filename_correspondence(series, image_path):\n",
    "    \"\"\"\n",
    "    check the correspondence between the file_name column and the image file names in the corresponding directory\n",
    "    :param series: pd.Series series representing file_name column extracted from the metadata of the image\n",
    "    :param image_path: pathlib2.WindowsPath path representing the directory including all the images\n",
    "    :return:\n",
    "    \"\"\"\n",
    "\n",
    "    # check the number of valid images in the image_path\n",
    "    valid_image_names_list = list()\n",
    "    for cell_type_image_path in image_path.iterdir():\n",
    "        for cell_image_path in cell_type_image_path.glob('*.tif'):\n",
    "            if cell_image_path.stat().st_size is not None:\n",
    "                valid_image_names_list.append(cell_image_path.name)\n",
    "    print(f\"the number of valid images in dir {image_path.name} is: {len(valid_image_names_list)}.\")\n",
    "\n",
    "    # check the correspondence between file_name column and valid images in the image_path\n",
    "    valid_image_names_arr = np.asarray(valid_image_names_list)\n",
    "    file_names_arr = series.to_numpy()\n",
    "    print(f\"the number of unique filenames in column file_name is: {file_names_arr.shape[0]}.\")\n",
    "    intersect_arr = np.intersect1d(file_names_arr, valid_image_names_arr)\n",
    "    if intersect_arr.shape[0] == file_names_arr.shape[0]:\n",
    "        print(\"all unique filenames in column file_name have the corresponding images.\")\n",
    "    else:\n",
    "        print(\"there are missing images for the given unique filenames in column file_name.\")\n",
    "\n",
    "    return None\n",
    "\n",
    "def check_image_nos_per_cell_type(df_img, pattern_list):\n",
    "    \"\"\"\n",
    "    check the samples' number for each cell type given the metadata\n",
    "    :param df_img: pd.DataFrame dataframe for image metadata\n",
    "    :param pattern_list: list list that contains the cell type given metadata\n",
    "    :return: dict dict that contains the keys for cell type and values for number of samples\n",
    "    \"\"\"\n",
    "    pattern_cnt_dict = dict()\n",
    "    for pattern in pattern_list:\n",
    "        cnt = df_img[df_img['file_name'].str.match(pat = pattern+'_*')].shape[0]\n",
    "        pattern_cnt_dict[pattern] = cnt\n",
    "    return pattern_cnt_dict\n",
    "\n",
    "def check_meta_annots_df(df_img, df_annot):\n",
    "    \"\"\"\n",
    "    check the validity of metadata of annotations\n",
    "    :param df_img: pd.DataFrame dataframe that contains image metadata\n",
    "    :param df_annot: pd.DataFrame dataframe that contains annotation metadata\n",
    "    :return:\n",
    "    \"\"\"\n",
    "\n",
    "    # check the equality between the index and column 'id' of the input dataframe\n",
    "    index_arr = df_annot.index.to_numpy()\n",
    "    index_arr = index_arr.astype('int64')\n",
    "    ids_annot_arr = df_annot['id'].to_numpy()\n",
    "    print(np.allclose(index_arr, ids_annot_arr), ': The index values and values of the id column of annotations metadata '\n",
    "                                                 'in form of data frame is elementwise equal.')\n",
    "\n",
    "    # check the number of unique values of some existing columns\n",
    "    print(f\"there are {ids_annot_arr.shape[0]} unique ids in the metadata for annotations.\")\n",
    "    img_ids_annot_arr = df_annot['image_id'].unique()\n",
    "    print(f\"there are {img_ids_annot_arr.shape[0]} unique image ids in the metadata for annotations.\")\n",
    "    category_ids_annot_arr = df_annot['category_id'].unique()\n",
    "    print(f\"there are {category_ids_annot_arr.shape[0]} unique categories in the metadata for annotations.\")\n",
    "    iscrowd_annot_arr = df_annot['iscrowd'].unique()\n",
    "    print(f\"there are {iscrowd_annot_arr.shape[0]} unique values of iscrowd in the metadata for annotations.\")\n",
    "\n",
    "    # check the pair relationship between image ids of metadata for images and annotations\n",
    "    img_ids_img_arr = df_img['id'].to_numpy()  # already known that the id col is sorted by size\n",
    "    print(np.allclose(img_ids_img_arr, np.sort(img_ids_annot_arr)), ': all the image ids of metadata for images and '\n",
    "                                                                    'annotations are paired with each other.')\n",
    "\n",
    "    # check the validity of segmentation column, according to the rule that at least three points form a closed polygon\n",
    "    # !without checking the pixel values of each segmentation annotation\n",
    "    cal_len_of_nested_list = lambda x: len(x[0])\n",
    "    v_cal_len_of_nested_list = np.vectorize(cal_len_of_nested_list)\n",
    "    seg_arr = df_annot['segmentation'].to_numpy()\n",
    "    seg_len_arr = v_cal_len_of_nested_list(seg_arr)\n",
    "    seg_valid_no = np.sum(np.where(seg_len_arr > 5, 1, 0))\n",
    "    print(seg_valid_no == ids_annot_arr.shape[0], ': all the segmentation labels are valid.')\n",
    "\n",
    "    # check the validity of area column, i.e., if all areas are greater than 0\n",
    "    area_arr = df_annot['area'].to_numpy()\n",
    "    area_valid_no = np.sum(np.where(area_arr > 0., 1, 0))\n",
    "    print(area_valid_no == ids_annot_arr.shape[0], ': all the area labels are valid.')\n",
    "\n",
    "    # check the validity of bbox column\n",
    "    # !without checking the pixel values of each bbox annotation and its width and height\n",
    "    cal_len_of_list = lambda x: len(x)\n",
    "    v_cal_len_of_list = np.vectorize(cal_len_of_list)\n",
    "    bbox_arr = df_annot['bbox'].to_numpy()\n",
    "    bbox_len_arr = v_cal_len_of_list(bbox_arr)\n",
    "    bbox_valid_no = np.sum(np.where(bbox_len_arr == 4, 1, 0))\n",
    "    print(bbox_valid_no == ids_annot_arr.shape[0], ': all the bbox labels are valid.')\n",
    "\n",
    "    return None\n",
    "\n",
    "def check_duplicates_of_meta_annot(df_duplicates, df_annot, verbose=False):\n",
    "    \"\"\"\n",
    "    check if the segmentation, area and bbox of the images ids, which refer to the same file names, are duplicated.\n",
    "    :param df_duplicates: pd.DataFrame dataframe that contains duplicates information\n",
    "    :param df_annot: pd.DataFrame dataframe that contains annotation metadata\n",
    "    :param verbose: boolean flag denoting whether additional information should be displayed during operation\n",
    "    :return:\n",
    "    \"\"\"\n",
    "\n",
    "    if verbose:\n",
    "        print(f\"the length of given duplicated dataframe is: {df_duplicates.shape[0]}\\n\")\n",
    "    df_duplicates_copy = df_duplicates.reset_index(drop=True)\n",
    "    duplicates_id_lst = df_duplicates_copy['id'].to_list()\n",
    "    df_annot_duplicates = df_annot[df_annot['image_id'].isin(duplicates_id_lst)][['image_id', 'segmentation',\n",
    "                                                                                  'area', 'bbox']]\n",
    "    if verbose:\n",
    "        print(f\"the length of resulting duplicated dataframe for annotations is: {df_annot_duplicates.shape[0]}\")\n",
    "        print(f\"the length of resulting duplicated dataframe for annotations with only unique image_id is: \"\n",
    "              f\"{df_annot_duplicates['image_id'].unique().shape[0]}\\n\")\n",
    "    #seg_dup_arr, area_dup_arr, bbox_dup_arr = np.empty((3, len(duplicates_id_lst))) #ndarray seems to restrict the dtype\n",
    "    seg_dup_lst = list()\n",
    "    area_dup_lst = list()\n",
    "    bbox_dup_lst = list()\n",
    "    for i, img_id in enumerate(duplicates_id_lst):\n",
    "        temp_seg_arr, temp_area_arr, temp_bbox_arr = \\\n",
    "            df_annot_duplicates[df_annot_duplicates['image_id']==img_id][['segmentation','area', 'bbox']].to_numpy().T\n",
    "        #seg_dup_arr[i] = temp_seg_arr\n",
    "        #area_dup_arr[i] = temp_area_arr\n",
    "        #bbox_dup_arr[i] = temp_bbox_arr\n",
    "        seg_dup_lst.append(temp_seg_arr)\n",
    "        area_dup_lst.append(temp_area_arr)\n",
    "        bbox_dup_lst.append(temp_bbox_arr)\n",
    "    df_duplicates_copy.loc[:, 'segmentation'] = seg_dup_lst\n",
    "    df_duplicates_copy.loc[:, 'area'] = area_dup_lst\n",
    "    df_duplicates_copy.loc[:, 'bbox'] = bbox_dup_lst\n",
    "\n",
    "    def to_string(x):\n",
    "        # convert the x to string if x is an numpy array\n",
    "        return str(sorted(x)) if isinstance(x, (list, np.ndarray)) else sorted(x)\n",
    "    count_the_same_areas = 0\n",
    "    count_some_diff_areas = 0\n",
    "    count_all_diff_areas = 0\n",
    "    unique_file_name_lst = df_duplicates['file_name'].unique().tolist()\n",
    "    for file_name_element in unique_file_name_lst:\n",
    "        temp_df = df_duplicates_copy[df_duplicates_copy['file_name'] == file_name_element]\n",
    "        temp_df_len = temp_df.shape[0]\n",
    "        # since the segmentation labels are themselves complicated and are related with area labels, if the area\n",
    "        # labels are different, then the segmentation ones are also different. Thus, we can only focus on the inspection\n",
    "        # of repeatability of area labels.\n",
    "\n",
    "        if temp_df['area'].apply(to_string).nunique() == 1:\n",
    "            if verbose:\n",
    "                print(f\"the area annotations for the image ids - {temp_df['id']} are the same.\\n\")\n",
    "            count_the_same_areas += 1\n",
    "        elif (temp_df['area'].apply(to_string).nunique() > 1) and (temp_df['area'].apply(to_string).nunique() < temp_df_len):\n",
    "            if verbose:\n",
    "                print(f\"some of the area annotations for the image ids - {temp_df['id']} are the same.\\n\")\n",
    "            count_some_diff_areas += 1\n",
    "        elif temp_df['area'].apply(to_string).nunique() == temp_df_len:\n",
    "            if verbose:\n",
    "                print(f\"none of the area annotations for the image ids - {temp_df['id']} is the same.\\n\")\n",
    "            count_all_diff_areas += 1\n",
    "\n",
    "    if count_the_same_areas == len(unique_file_name_lst):\n",
    "        print('the area annotations for all the duplicate image ids in terms of file_name are the same.')\n",
    "    elif count_some_diff_areas > 0:\n",
    "        print('the area annotations for some duplicate image ids in terms of file_name are the same.')\n",
    "    elif count_all_diff_areas == len(unique_file_name_lst):\n",
    "        print('the area annotations for all the duplicate image ids in terms of file_name are different.')\n",
    "\n",
    "    return df_duplicates_copy"
   ],
   "metadata": {
    "collapsed": false,
    "pycharm": {
     "name": "#%%\n"
    }
   }
  },
  {
   "cell_type": "markdown",
   "source": [
    "## Define relevant paths"
   ],
   "metadata": {
    "collapsed": false
   }
  },
  {
   "cell_type": "code",
   "execution_count": 4,
   "outputs": [
    {
     "name": "stdout",
     "output_type": "stream",
     "text": [
      "currentdir:  F:/Kaggle/sartorius_cell_is/code/DS2/analytics\n",
      "project dir:  F:/Kaggle/sartorius_cell_is/code/DS2\n"
     ]
    }
   ],
   "source": [
    "current_dir = pathlib2.Path.cwd()\n",
    "# current_dir = os.path.dirname(os.path.abspath(inspect.getfile(inspect.currentframe())))\n",
    "print(\"currentdir: \", current_dir.as_posix())\n",
    "project_dir = current_dir.parent\n",
    "print(\"project dir: \", project_dir.as_posix())"
   ],
   "metadata": {
    "collapsed": false,
    "pycharm": {
     "name": "#%%\n"
    }
   }
  },
  {
   "cell_type": "code",
   "execution_count": 5,
   "outputs": [
    {
     "name": "stdout",
     "output_type": "stream",
     "text": [
      "dataset dir:  F:/Kaggle/sartorius_cell_is/code/DS2/dataset\n",
      "livecell dataset dir:  F:/Kaggle/sartorius_cell_is/code/DS2/dataset/LIVECell_dataset_2021\n"
     ]
    }
   ],
   "source": [
    "ds_path = project_dir / 'dataset'\n",
    "print(\"dataset dir: \", ds_path.as_posix())\n",
    "livecell_ds_path = ds_path / 'LIVECell_dataset_2021'\n",
    "print(\"livecell dataset dir: \", livecell_ds_path.as_posix())\n",
    "livecell_ds_annot_path, livecell_ds_imgs_path = [x for x in livecell_ds_path.iterdir() if x.is_dir()]\n",
    "\n",
    "livecell_train_meta_path = livecell_ds_annot_path / 'LIVECell' / 'livecell_coco_train.json'\n",
    "livecell_val_meta_path = livecell_ds_annot_path / 'LIVECell' / 'livecell_coco_val.json'\n",
    "livecell_test_meta_path = livecell_ds_annot_path / 'LIVECell' / 'livecell_coco_test.json'\n",
    "\n",
    "livecell_train_val_img_path = livecell_ds_imgs_path / 'livecell_train_val_images'\n",
    "livecell_test_img_path = livecell_ds_imgs_path / 'livecell_test_images'"
   ],
   "metadata": {
    "collapsed": false,
    "pycharm": {
     "name": "#%%\n"
    }
   }
  },
  {
   "cell_type": "markdown",
   "source": [
    "## Training metadata exploration"
   ],
   "metadata": {
    "collapsed": false
   }
  },
  {
   "cell_type": "code",
   "execution_count": 6,
   "outputs": [
    {
     "name": "stdout",
     "output_type": "stream",
     "text": [
      "dict_keys(['images', 'annotations', 'categories', 'info', 'licenses']) \n",
      "\n",
      "\n",
      "the type of images container:  <class 'list'>\n",
      "the first element of <list> images: \n",
      " {'id': 1, 'width': 704, 'height': 520, 'file_name': 'BT474_Phase_A3_2_00d04h00m_3.tif', 'original_filename': 'BT474_Phase_A3_2_00d04h00m_3.png', 'url': 'https://darwin.v7labs.com/api/images/870028/original'} \n",
      "\n",
      "\n",
      "the type of annotations container:  <class 'dict'>\n",
      "the first ten keys of <dict> annotations: \n",
      " ['2', '3', '4', '5', '6', '7', '8', '9', '10', '12']\n",
      "the first item of <dict> annotations has the key: \n",
      " 2 \n",
      "and the value: \n",
      "{'id': 2, 'image_id': 1, 'category_id': 1, 'segmentation': [[288.02, 305.63, 286.01, 298.87, 286.01, 295.4, 288.02, 290.1, 293.86, 287.91, 297.51, 287.73, 300.44, 289.01, 304.27, 292.48, 304.64, 295.04, 305.18, 297.77, 305.18, 300.7, 303.91, 302.52, 301.17, 305.26, 297.33, 307.45, 294.59, 307.45, 290.58, 308.0]], 'area': 307.4786000000313, 'bbox': [286.01, 287.73, 19.170000000000016, 20.269999999999982], 'iscrowd': 0} \n",
      "\n",
      "\n",
      "the type of categories container:  <class 'list'>\n",
      "the only element of <list> categories: \n",
      " {'supercategory': 'cell', 'id': 1, 'name': 'cell'} \n",
      "\n",
      "\n",
      "the type of info container:  <class 'dict'>\n",
      "the keys of <dict> info: \n",
      " dict_keys(['year', 'version', 'description', 'contributor', 'url', 'date_created']) \n",
      "\n",
      "\n",
      "the type of licenses container:  <class 'list'>\n",
      "the first element of <list> licenses: \n",
      " {'id': 1, 'name': 'Attribution-NonCommercial 4.0 International License', 'url': 'https://creativecommons.org/licenses/by-nc/4.0/'}\n"
     ]
    }
   ],
   "source": [
    "train_data = learn_metadata(livecell_train_meta_path)"
   ],
   "metadata": {
    "collapsed": false,
    "pycharm": {
     "name": "#%%\n"
    }
   }
  },
  {
   "cell_type": "markdown",
   "source": [
    "### Metadata: images"
   ],
   "metadata": {
    "collapsed": false
   }
  },
  {
   "cell_type": "code",
   "execution_count": 7,
   "outputs": [
    {
     "data": {
      "text/plain": "    id  width  height                         file_name  \\\n0    1    704     520  BT474_Phase_A3_2_00d04h00m_3.tif   \n1  133    704     520  BT474_Phase_C3_2_02d12h00m_4.tif   \n2  323    704     520  BT474_Phase_C3_1_01d16h00m_3.tif   \n3  498    704     520  BT474_Phase_C3_1_02d16h00m_4.tif   \n4  741    704     520  BT474_Phase_C3_1_04d00h00m_3.tif   \n\n                  original_filename  \\\n0  BT474_Phase_A3_2_00d04h00m_3.png   \n1  BT474_Phase_C3_2_02d12h00m_4.png   \n2  BT474_Phase_C3_1_01d16h00m_3.png   \n3  BT474_Phase_C3_1_02d16h00m_4.png   \n4  BT474_Phase_C3_1_04d00h00m_3.png   \n\n                                                 url  \n0  https://darwin.v7labs.com/api/images/870028/or...  \n1  https://darwin.v7labs.com/api/images/37512/ori...  \n2  https://darwin.v7labs.com/api/images/108155/or...  \n3  https://darwin.v7labs.com/api/images/108172/or...  \n4  https://darwin.v7labs.com/api/images/921711/or...  ",
      "text/html": "<div>\n<style scoped>\n    .dataframe tbody tr th:only-of-type {\n        vertical-align: middle;\n    }\n\n    .dataframe tbody tr th {\n        vertical-align: top;\n    }\n\n    .dataframe thead th {\n        text-align: right;\n    }\n</style>\n<table border=\"1\" class=\"dataframe\">\n  <thead>\n    <tr style=\"text-align: right;\">\n      <th></th>\n      <th>id</th>\n      <th>width</th>\n      <th>height</th>\n      <th>file_name</th>\n      <th>original_filename</th>\n      <th>url</th>\n    </tr>\n  </thead>\n  <tbody>\n    <tr>\n      <th>0</th>\n      <td>1</td>\n      <td>704</td>\n      <td>520</td>\n      <td>BT474_Phase_A3_2_00d04h00m_3.tif</td>\n      <td>BT474_Phase_A3_2_00d04h00m_3.png</td>\n      <td>https://darwin.v7labs.com/api/images/870028/or...</td>\n    </tr>\n    <tr>\n      <th>1</th>\n      <td>133</td>\n      <td>704</td>\n      <td>520</td>\n      <td>BT474_Phase_C3_2_02d12h00m_4.tif</td>\n      <td>BT474_Phase_C3_2_02d12h00m_4.png</td>\n      <td>https://darwin.v7labs.com/api/images/37512/ori...</td>\n    </tr>\n    <tr>\n      <th>2</th>\n      <td>323</td>\n      <td>704</td>\n      <td>520</td>\n      <td>BT474_Phase_C3_1_01d16h00m_3.tif</td>\n      <td>BT474_Phase_C3_1_01d16h00m_3.png</td>\n      <td>https://darwin.v7labs.com/api/images/108155/or...</td>\n    </tr>\n    <tr>\n      <th>3</th>\n      <td>498</td>\n      <td>704</td>\n      <td>520</td>\n      <td>BT474_Phase_C3_1_02d16h00m_4.tif</td>\n      <td>BT474_Phase_C3_1_02d16h00m_4.png</td>\n      <td>https://darwin.v7labs.com/api/images/108172/or...</td>\n    </tr>\n    <tr>\n      <th>4</th>\n      <td>741</td>\n      <td>704</td>\n      <td>520</td>\n      <td>BT474_Phase_C3_1_04d00h00m_3.tif</td>\n      <td>BT474_Phase_C3_1_04d00h00m_3.png</td>\n      <td>https://darwin.v7labs.com/api/images/921711/or...</td>\n    </tr>\n  </tbody>\n</table>\n</div>"
     },
     "execution_count": 7,
     "metadata": {},
     "output_type": "execute_result"
    }
   ],
   "source": [
    "df_livecell_train_imgs_meta = pd.DataFrame.from_dict(train_data['images'])\n",
    "df_livecell_train_imgs_meta.head()"
   ],
   "metadata": {
    "collapsed": false,
    "pycharm": {
     "name": "#%%\n"
    }
   }
  },
  {
   "cell_type": "code",
   "execution_count": 8,
   "outputs": [
    {
     "data": {
      "text/plain": "{'A172': 388,\n 'BT474': 429,\n 'BV2': 386,\n 'Huh7': 390,\n 'MCF7': 469,\n 'RatC6': 0,\n 'SHSY5Y': 449,\n 'SkBr3': 449,\n 'SKOV3': 293}"
     },
     "execution_count": 8,
     "metadata": {},
     "output_type": "execute_result"
    }
   ],
   "source": [
    "train_cell_type_cnt_dict = check_image_nos_per_cell_type(df_livecell_train_imgs_meta, CELL_TYPE_PATTERN)\n",
    "train_cell_type_cnt_dict"
   ],
   "metadata": {
    "collapsed": false,
    "pycharm": {
     "name": "#%%\n"
    }
   }
  },
  {
   "cell_type": "code",
   "execution_count": 9,
   "outputs": [
    {
     "name": "stdout",
     "output_type": "stream",
     "text": [
      "the rows available are all effective, i.e., without NaNs.\n",
      "there are 3253 items in the image metadata frame.\n",
      "there are 3253 unique ids (not images) in the image metadata frame.\n",
      "True : the ids are sorted by size.\n",
      "True : all the images are of size (704, 520).\n",
      "all files are extended by .tff.\n",
      "there are 3188 unique file names in the image metadata frame.\n"
     ]
    }
   ],
   "source": [
    "# check the validity of metadata of image\n",
    "len_df_train_img = 0\n",
    "len_train_img_ids = 0\n",
    "non_duplicated_train_filenames = pd.DataFrame()\n",
    "duplicated_train_filenames_all = pd.DataFrame()\n",
    "if check_noneffective_ids(df_livecell_train_imgs_meta) is None:\n",
    "    train_check_results = check_meta_images_df(df_livecell_train_imgs_meta)\n",
    "    if len(train_check_results) == 2:\n",
    "        len_df_train_img, len_train_img_ids = train_check_results\n",
    "    elif len(train_check_results) == 4:\n",
    "        len_df_train_img, len_train_img_ids, non_duplicated_train_filenames, duplicated_train_filenames_all = train_check_results\n",
    "else:\n",
    "    print('There are non-valid metadata in terms of image. Please handle it!')"
   ],
   "metadata": {
    "collapsed": false,
    "pycharm": {
     "name": "#%%\n"
    }
   }
  },
  {
   "cell_type": "code",
   "execution_count": 10,
   "outputs": [
    {
     "name": "stdout",
     "output_type": "stream",
     "text": [
      "the meta data of image has 3188 non-duplicated rows in terms of file_name.\n"
     ]
    }
   ],
   "source": [
    "print(f\"the meta data of image has {non_duplicated_train_filenames.shape[0]} non-duplicated rows in terms of file_name.\")"
   ],
   "metadata": {
    "collapsed": false,
    "pycharm": {
     "name": "#%%\n"
    }
   }
  },
  {
   "cell_type": "code",
   "execution_count": 11,
   "outputs": [
    {
     "data": {
      "text/plain": "           id  width  height                         file_name  \\\n1500   742297    704     520  Huh7_Phase_A10_2_00d16h00m_4.tif   \n1726  1012330    704     520  Huh7_Phase_A10_2_00d16h00m_4.tif   \n\n                     original_filename  \\\n1500  Huh7_Phase_A10_2_00d16h00m_4.png   \n1726  Huh7_Phase_A10_2_00d16h00m_4.png   \n\n                                                    url  \n1500  https://darwin.v7labs.com/api/images/37624/ori...  \n1726  https://darwin.v7labs.com/api/images/47430/ori...  ",
      "text/html": "<div>\n<style scoped>\n    .dataframe tbody tr th:only-of-type {\n        vertical-align: middle;\n    }\n\n    .dataframe tbody tr th {\n        vertical-align: top;\n    }\n\n    .dataframe thead th {\n        text-align: right;\n    }\n</style>\n<table border=\"1\" class=\"dataframe\">\n  <thead>\n    <tr style=\"text-align: right;\">\n      <th></th>\n      <th>id</th>\n      <th>width</th>\n      <th>height</th>\n      <th>file_name</th>\n      <th>original_filename</th>\n      <th>url</th>\n    </tr>\n  </thead>\n  <tbody>\n    <tr>\n      <th>1500</th>\n      <td>742297</td>\n      <td>704</td>\n      <td>520</td>\n      <td>Huh7_Phase_A10_2_00d16h00m_4.tif</td>\n      <td>Huh7_Phase_A10_2_00d16h00m_4.png</td>\n      <td>https://darwin.v7labs.com/api/images/37624/ori...</td>\n    </tr>\n    <tr>\n      <th>1726</th>\n      <td>1012330</td>\n      <td>704</td>\n      <td>520</td>\n      <td>Huh7_Phase_A10_2_00d16h00m_4.tif</td>\n      <td>Huh7_Phase_A10_2_00d16h00m_4.png</td>\n      <td>https://darwin.v7labs.com/api/images/47430/ori...</td>\n    </tr>\n  </tbody>\n</table>\n</div>"
     },
     "execution_count": 11,
     "metadata": {},
     "output_type": "execute_result"
    }
   ],
   "source": [
    "# one example (extracted from the duplicated file_names) to justify the duplication in terms of the file_name\n",
    "\n",
    "df_livecell_train_imgs_meta[df_livecell_train_imgs_meta['file_name'].str.contains('Huh7_Phase_A10_2_00d16h00m_4.tif',\n",
    "                                                                                  regex=False)]"
   ],
   "metadata": {
    "collapsed": false,
    "pycharm": {
     "name": "#%%\n"
    }
   }
  },
  {
   "cell_type": "markdown",
   "source": [
    "### Metadata: annotations"
   ],
   "metadata": {
    "collapsed": false
   }
  },
  {
   "cell_type": "code",
   "execution_count": 12,
   "outputs": [
    {
     "data": {
      "text/plain": "   id  image_id  category_id  \\\n2   2         1            1   \n3   3         1            1   \n4   4         1            1   \n5   5         1            1   \n6   6         1            1   \n\n                                        segmentation       area  \\\n2  [[288.02, 305.63, 286.01, 298.87, 286.01, 295....  307.47860   \n3  [[271.22, 323.34, 267.93, 322.61, 266.29, 320....  247.47555   \n4  [[284.91, 279.88, 289.85, 281.52, 293.31, 281....  245.22945   \n5  [[260.86, 327.64, 258.19, 325.63, 255.25, 324....  574.21305   \n6  [[241.75, 324.69, 239.61, 326.97, 236.27, 331....  296.31140   \n\n                                                bbox  iscrowd  \n2  [286.01, 287.73, 19.170000000000016, 20.269999...        0  \n3  [263.0, 304.9, 20.44999999999999, 18.439999999...        0  \n4  [275.42, 277.14, 23.91999999999996, 17.1600000...        0  \n5          [246.96, 280.72, 20.98999999999998, 54.0]        0  \n6        [229.45, 302.91, 22.590000000000003, 32.75]        0  ",
      "text/html": "<div>\n<style scoped>\n    .dataframe tbody tr th:only-of-type {\n        vertical-align: middle;\n    }\n\n    .dataframe tbody tr th {\n        vertical-align: top;\n    }\n\n    .dataframe thead th {\n        text-align: right;\n    }\n</style>\n<table border=\"1\" class=\"dataframe\">\n  <thead>\n    <tr style=\"text-align: right;\">\n      <th></th>\n      <th>id</th>\n      <th>image_id</th>\n      <th>category_id</th>\n      <th>segmentation</th>\n      <th>area</th>\n      <th>bbox</th>\n      <th>iscrowd</th>\n    </tr>\n  </thead>\n  <tbody>\n    <tr>\n      <th>2</th>\n      <td>2</td>\n      <td>1</td>\n      <td>1</td>\n      <td>[[288.02, 305.63, 286.01, 298.87, 286.01, 295....</td>\n      <td>307.47860</td>\n      <td>[286.01, 287.73, 19.170000000000016, 20.269999...</td>\n      <td>0</td>\n    </tr>\n    <tr>\n      <th>3</th>\n      <td>3</td>\n      <td>1</td>\n      <td>1</td>\n      <td>[[271.22, 323.34, 267.93, 322.61, 266.29, 320....</td>\n      <td>247.47555</td>\n      <td>[263.0, 304.9, 20.44999999999999, 18.439999999...</td>\n      <td>0</td>\n    </tr>\n    <tr>\n      <th>4</th>\n      <td>4</td>\n      <td>1</td>\n      <td>1</td>\n      <td>[[284.91, 279.88, 289.85, 281.52, 293.31, 281....</td>\n      <td>245.22945</td>\n      <td>[275.42, 277.14, 23.91999999999996, 17.1600000...</td>\n      <td>0</td>\n    </tr>\n    <tr>\n      <th>5</th>\n      <td>5</td>\n      <td>1</td>\n      <td>1</td>\n      <td>[[260.86, 327.64, 258.19, 325.63, 255.25, 324....</td>\n      <td>574.21305</td>\n      <td>[246.96, 280.72, 20.98999999999998, 54.0]</td>\n      <td>0</td>\n    </tr>\n    <tr>\n      <th>6</th>\n      <td>6</td>\n      <td>1</td>\n      <td>1</td>\n      <td>[[241.75, 324.69, 239.61, 326.97, 236.27, 331....</td>\n      <td>296.31140</td>\n      <td>[229.45, 302.91, 22.590000000000003, 32.75]</td>\n      <td>0</td>\n    </tr>\n  </tbody>\n</table>\n</div>"
     },
     "execution_count": 12,
     "metadata": {},
     "output_type": "execute_result"
    }
   ],
   "source": [
    "# dataframe of annotations dict\n",
    "\n",
    "df_livecell_train_annots_meta = pd.DataFrame.from_dict(train_data['annotations'], orient='index')\n",
    "df_livecell_train_annots_meta.head()"
   ],
   "metadata": {
    "collapsed": false,
    "pycharm": {
     "name": "#%%\n"
    }
   }
  },
  {
   "cell_type": "code",
   "execution_count": 13,
   "outputs": [
    {
     "name": "stdout",
     "output_type": "stream",
     "text": [
      "the rows available are all effective, i.e., without NaNs.\n",
      "True : The index values and values of the id column of annotations metadata in form of data frame is elementwise equal.\n",
      "there are 1018576 unique ids in the metadata for annotations.\n",
      "there are 3253 unique image ids in the metadata for annotations.\n",
      "there are 1 unique categories in the metadata for annotations.\n",
      "there are 1 unique values of iscrowd in the metadata for annotations.\n",
      "True : all the image ids of metadata for images and annotations are paired with each other.\n",
      "True : all the segmentation labels are valid.\n",
      "True : all the area labels are valid.\n",
      "True : all the bbox labels are valid.\n"
     ]
    }
   ],
   "source": [
    "if check_noneffective_ids(df_livecell_train_annots_meta) is None:\n",
    "    check_meta_annots_df(df_livecell_train_imgs_meta, df_livecell_train_annots_meta)\n",
    "else:\n",
    "    print('There are non-valid metadata in terms of annotations. Please handle it!')"
   ],
   "metadata": {
    "collapsed": false,
    "pycharm": {
     "name": "#%%\n"
    }
   }
  },
  {
   "cell_type": "code",
   "execution_count": 14,
   "outputs": [
    {
     "name": "stdout",
     "output_type": "stream",
     "text": [
      "the area annotations for all the duplicate image ids in terms of file_name are different.\n"
     ]
    }
   ],
   "source": [
    "# check the repeatability of area for the image ids which refer to the same file_name\n",
    "df_duplicates_train = check_duplicates_of_meta_annot(duplicated_train_filenames_all, df_livecell_train_annots_meta,\n",
    "                                                     verbose=False)"
   ],
   "metadata": {
    "collapsed": false,
    "pycharm": {
     "name": "#%%\n"
    }
   }
  },
  {
   "cell_type": "code",
   "execution_count": 15,
   "outputs": [
    {
     "data": {
      "text/plain": "0     [32.64850000012666, 38.29200000007404, 42.8006...\n72    [36.860250000376254, 52.16494999999122, 56.310...\nName: area, dtype: object"
     },
     "execution_count": 15,
     "metadata": {},
     "output_type": "execute_result"
    }
   ],
   "source": [
    "# one example (ids pair of df_duplicates_train: 0 & 72, can be found using verbose=True of the function above) to\n",
    "# justify the non-repeatability of area\n",
    "\n",
    "def to_string(x):\n",
    "    # convert the x to string if x is an numpy array\n",
    "    return str(sorted(x)) if isinstance(x, (list, np.ndarray)) else sorted(x)\n",
    "demo_df_train = df_duplicates_train.loc[[0, 72], 'area'].apply(to_string)\n",
    "demo_df_train"
   ],
   "metadata": {
    "collapsed": false,
    "pycharm": {
     "name": "#%%\n"
    }
   }
  },
  {
   "cell_type": "markdown",
   "source": [
    "### Partial conclusions of training metadata - images and annotations\n",
    "\n",
    "- Both the *image_id* column in the metadata for annotations and the *id* column in the metadata for images have the same\n",
    "unique image ids. That means, all the images ids on both sides can be paired with each other.\n",
    "- There is only one value of *category_id* col in the metadata for annotations, i.e., 1. That means all the images are\n",
    "label-free in terms of classification.\n",
    "- There is only one value of *iscrowd* col in the metadata for annotations, i.e., 0. That means all the images are\n",
    "segmented based on polygon.\n",
    "- All the *segmentation* annotations are valid in terms of the requirement that there are at least 3 points to form the\n",
    "polygon of an instance.\n",
    "- All the *area* annotations are valid in terms of the requirement that the size must be greater than zero.\n",
    "- All the *bbox* annotations are valid in terms of the requirement that there must be the coordinate of top-left corner\n",
    "as well as the width and height of bbox available.\n",
    "- For all those duplicate file names, or say in concrete, those image ids referring to duplicate file names, the\n",
    "corresponding annotations are different, specifically area and segmentation labels. Thus, these annotations cannot be\n",
    "removed due to the duplicate file names and deserve more attention by visualization. Based on the detailed inspection by\n",
    "visualizing some of them (using [the other notebook for visualization](./data_exploration_LIVECell_2.ipynb)), it can be\n",
    "anticipated that the existence of all those duplicate file names can be attributed to different \"styles\" of annotation,\n",
    "which should be all plausible."
   ],
   "metadata": {
    "collapsed": false
   }
  },
  {
   "cell_type": "markdown",
   "source": [
    "### Metadata: categories"
   ],
   "metadata": {
    "collapsed": false
   }
  },
  {
   "cell_type": "code",
   "execution_count": 16,
   "outputs": [
    {
     "data": {
      "text/plain": "[{'supercategory': 'cell', 'id': 1, 'name': 'cell'}]"
     },
     "execution_count": 16,
     "metadata": {},
     "output_type": "execute_result"
    }
   ],
   "source": [
    "train_data['categories']"
   ],
   "metadata": {
    "collapsed": false,
    "pycharm": {
     "name": "#%%\n"
    }
   }
  },
  {
   "cell_type": "markdown",
   "source": [
    "### Metadata: info"
   ],
   "metadata": {
    "collapsed": false
   }
  },
  {
   "cell_type": "code",
   "execution_count": 17,
   "outputs": [
    {
     "data": {
      "text/plain": "{'year': '2020',\n 'version': '1.0',\n 'description': 'LIVECell 2021 Dataset',\n 'contributor': 'Sartorius',\n 'url': 'https://osf.io/6kang/?view_only=da0516e9189b4dbdbf018475113ed343',\n 'date_created': '2021/01/19'}"
     },
     "execution_count": 17,
     "metadata": {},
     "output_type": "execute_result"
    }
   ],
   "source": [
    "train_data['info']"
   ],
   "metadata": {
    "collapsed": false,
    "pycharm": {
     "name": "#%%\n"
    }
   }
  },
  {
   "cell_type": "markdown",
   "source": [
    "### Metadata: licenses"
   ],
   "metadata": {
    "collapsed": false
   }
  },
  {
   "cell_type": "code",
   "execution_count": 18,
   "outputs": [
    {
     "data": {
      "text/plain": "[{'id': 1,\n  'name': 'Attribution-NonCommercial 4.0 International License',\n  'url': 'https://creativecommons.org/licenses/by-nc/4.0/'}]"
     },
     "execution_count": 18,
     "metadata": {},
     "output_type": "execute_result"
    }
   ],
   "source": [
    "train_data['licenses']"
   ],
   "metadata": {
    "collapsed": false,
    "pycharm": {
     "name": "#%%\n"
    }
   }
  },
  {
   "cell_type": "markdown",
   "source": [
    "## Validation metadata exploration"
   ],
   "metadata": {
    "collapsed": false
   }
  },
  {
   "cell_type": "code",
   "execution_count": 19,
   "outputs": [
    {
     "name": "stdout",
     "output_type": "stream",
     "text": [
      "dict_keys(['images', 'annotations', 'categories', 'info', 'licenses']) \n",
      "\n",
      "\n",
      "the type of images container:  <class 'list'>\n",
      "the first element of <list> images: \n",
      " {'id': 86187, 'width': 704, 'height': 520, 'file_name': 'BT474_Phase_B3_1_00d12h00m_1.tif', 'original_filename': 'BT474_Phase_B3_1_00d12h00m_1.png', 'url': 'https://darwin.v7labs.com/api/images/31634/original'} \n",
      "\n",
      "\n",
      "the type of annotations container:  <class 'dict'>\n",
      "the first ten keys of <dict> annotations: \n",
      " ['86188', '86189', '86190', '86191', '86192', '86193', '86194', '86195', '86196', '86197']\n",
      "the first item of <dict> annotations has the key: \n",
      " 86188 \n",
      "and the value: \n",
      "{'id': 86188, 'image_id': 86187, 'category_id': 1, 'segmentation': [[704.0, 97.82, 696.67, 94.77, 691.43, 89.32, 690.68, 86.64, 691.43, 82.96, 694.0, 79.53, 699.08, 78.52, 703.89, 78.15]], 'area': 193.82679999998072, 'bbox': [690.68, 78.15, 13.32000000000005, 19.669999999999987], 'iscrowd': 0} \n",
      "\n",
      "\n",
      "the type of categories container:  <class 'list'>\n",
      "the only element of <list> categories: \n",
      " {'supercategory': 'cell', 'id': 1, 'name': 'cell'} \n",
      "\n",
      "\n",
      "the type of info container:  <class 'dict'>\n",
      "the keys of <dict> info: \n",
      " dict_keys(['year', 'version', 'description', 'contributor', 'url', 'date_created']) \n",
      "\n",
      "\n",
      "the type of licenses container:  <class 'list'>\n",
      "the first element of <list> licenses: \n",
      " {'id': 1, 'name': 'Attribution-NonCommercial 4.0 International License', 'url': 'https://creativecommons.org/licenses/by-nc/4.0/'}\n"
     ]
    }
   ],
   "source": [
    "val_data = learn_metadata(livecell_val_meta_path)"
   ],
   "metadata": {
    "collapsed": false,
    "pycharm": {
     "name": "#%%\n"
    }
   }
  },
  {
   "cell_type": "markdown",
   "source": [
    "### Metadata: images"
   ],
   "metadata": {
    "collapsed": false
   }
  },
  {
   "cell_type": "code",
   "execution_count": 21,
   "outputs": [
    {
     "data": {
      "text/plain": "      id  width  height                         file_name  \\\n0  86187    704     520  BT474_Phase_B3_1_00d12h00m_1.tif   \n1  86330    704     520  BT474_Phase_C3_2_02d16h00m_4.tif   \n2  86516    704     520  BT474_Phase_C3_2_02d12h00m_3.tif   \n3  86708    704     520  BT474_Phase_B3_1_05d00h00m_3.tif   \n4  87048    704     520  BT474_Phase_B3_2_04d04h00m_4.tif   \n\n                  original_filename  \\\n0  BT474_Phase_B3_1_00d12h00m_1.png   \n1  BT474_Phase_C3_2_02d16h00m_4.png   \n2  BT474_Phase_C3_2_02d12h00m_3.png   \n3  BT474_Phase_B3_1_05d00h00m_3.png   \n4  BT474_Phase_B3_2_04d04h00m_4.png   \n\n                                                 url  \n0  https://darwin.v7labs.com/api/images/31634/ori...  \n1  https://darwin.v7labs.com/api/images/37516/ori...  \n2  https://darwin.v7labs.com/api/images/37511/ori...  \n3  https://darwin.v7labs.com/api/images/921840/or...  \n4  https://darwin.v7labs.com/api/images/47298/ori...  ",
      "text/html": "<div>\n<style scoped>\n    .dataframe tbody tr th:only-of-type {\n        vertical-align: middle;\n    }\n\n    .dataframe tbody tr th {\n        vertical-align: top;\n    }\n\n    .dataframe thead th {\n        text-align: right;\n    }\n</style>\n<table border=\"1\" class=\"dataframe\">\n  <thead>\n    <tr style=\"text-align: right;\">\n      <th></th>\n      <th>id</th>\n      <th>width</th>\n      <th>height</th>\n      <th>file_name</th>\n      <th>original_filename</th>\n      <th>url</th>\n    </tr>\n  </thead>\n  <tbody>\n    <tr>\n      <th>0</th>\n      <td>86187</td>\n      <td>704</td>\n      <td>520</td>\n      <td>BT474_Phase_B3_1_00d12h00m_1.tif</td>\n      <td>BT474_Phase_B3_1_00d12h00m_1.png</td>\n      <td>https://darwin.v7labs.com/api/images/31634/ori...</td>\n    </tr>\n    <tr>\n      <th>1</th>\n      <td>86330</td>\n      <td>704</td>\n      <td>520</td>\n      <td>BT474_Phase_C3_2_02d16h00m_4.tif</td>\n      <td>BT474_Phase_C3_2_02d16h00m_4.png</td>\n      <td>https://darwin.v7labs.com/api/images/37516/ori...</td>\n    </tr>\n    <tr>\n      <th>2</th>\n      <td>86516</td>\n      <td>704</td>\n      <td>520</td>\n      <td>BT474_Phase_C3_2_02d12h00m_3.tif</td>\n      <td>BT474_Phase_C3_2_02d12h00m_3.png</td>\n      <td>https://darwin.v7labs.com/api/images/37511/ori...</td>\n    </tr>\n    <tr>\n      <th>3</th>\n      <td>86708</td>\n      <td>704</td>\n      <td>520</td>\n      <td>BT474_Phase_B3_1_05d00h00m_3.tif</td>\n      <td>BT474_Phase_B3_1_05d00h00m_3.png</td>\n      <td>https://darwin.v7labs.com/api/images/921840/or...</td>\n    </tr>\n    <tr>\n      <th>4</th>\n      <td>87048</td>\n      <td>704</td>\n      <td>520</td>\n      <td>BT474_Phase_B3_2_04d04h00m_4.tif</td>\n      <td>BT474_Phase_B3_2_04d04h00m_4.png</td>\n      <td>https://darwin.v7labs.com/api/images/47298/ori...</td>\n    </tr>\n  </tbody>\n</table>\n</div>"
     },
     "execution_count": 20,
     "metadata": {},
     "output_type": "execute_result"
    },
    {
     "data": {
      "text/plain": "      id  width  height                         file_name  \\\n0  86187    704     520  BT474_Phase_B3_1_00d12h00m_1.tif   \n1  86330    704     520  BT474_Phase_C3_2_02d16h00m_4.tif   \n2  86516    704     520  BT474_Phase_C3_2_02d12h00m_3.tif   \n3  86708    704     520  BT474_Phase_B3_1_05d00h00m_3.tif   \n4  87048    704     520  BT474_Phase_B3_2_04d04h00m_4.tif   \n\n                  original_filename  \\\n0  BT474_Phase_B3_1_00d12h00m_1.png   \n1  BT474_Phase_C3_2_02d16h00m_4.png   \n2  BT474_Phase_C3_2_02d12h00m_3.png   \n3  BT474_Phase_B3_1_05d00h00m_3.png   \n4  BT474_Phase_B3_2_04d04h00m_4.png   \n\n                                                 url  \n0  https://darwin.v7labs.com/api/images/31634/ori...  \n1  https://darwin.v7labs.com/api/images/37516/ori...  \n2  https://darwin.v7labs.com/api/images/37511/ori...  \n3  https://darwin.v7labs.com/api/images/921840/or...  \n4  https://darwin.v7labs.com/api/images/47298/ori...  ",
      "text/html": "<div>\n<style scoped>\n    .dataframe tbody tr th:only-of-type {\n        vertical-align: middle;\n    }\n\n    .dataframe tbody tr th {\n        vertical-align: top;\n    }\n\n    .dataframe thead th {\n        text-align: right;\n    }\n</style>\n<table border=\"1\" class=\"dataframe\">\n  <thead>\n    <tr style=\"text-align: right;\">\n      <th></th>\n      <th>id</th>\n      <th>width</th>\n      <th>height</th>\n      <th>file_name</th>\n      <th>original_filename</th>\n      <th>url</th>\n    </tr>\n  </thead>\n  <tbody>\n    <tr>\n      <th>0</th>\n      <td>86187</td>\n      <td>704</td>\n      <td>520</td>\n      <td>BT474_Phase_B3_1_00d12h00m_1.tif</td>\n      <td>BT474_Phase_B3_1_00d12h00m_1.png</td>\n      <td>https://darwin.v7labs.com/api/images/31634/ori...</td>\n    </tr>\n    <tr>\n      <th>1</th>\n      <td>86330</td>\n      <td>704</td>\n      <td>520</td>\n      <td>BT474_Phase_C3_2_02d16h00m_4.tif</td>\n      <td>BT474_Phase_C3_2_02d16h00m_4.png</td>\n      <td>https://darwin.v7labs.com/api/images/37516/ori...</td>\n    </tr>\n    <tr>\n      <th>2</th>\n      <td>86516</td>\n      <td>704</td>\n      <td>520</td>\n      <td>BT474_Phase_C3_2_02d12h00m_3.tif</td>\n      <td>BT474_Phase_C3_2_02d12h00m_3.png</td>\n      <td>https://darwin.v7labs.com/api/images/37511/ori...</td>\n    </tr>\n    <tr>\n      <th>3</th>\n      <td>86708</td>\n      <td>704</td>\n      <td>520</td>\n      <td>BT474_Phase_B3_1_05d00h00m_3.tif</td>\n      <td>BT474_Phase_B3_1_05d00h00m_3.png</td>\n      <td>https://darwin.v7labs.com/api/images/921840/or...</td>\n    </tr>\n    <tr>\n      <th>4</th>\n      <td>87048</td>\n      <td>704</td>\n      <td>520</td>\n      <td>BT474_Phase_B3_2_04d04h00m_4.tif</td>\n      <td>BT474_Phase_B3_2_04d04h00m_4.png</td>\n      <td>https://darwin.v7labs.com/api/images/47298/ori...</td>\n    </tr>\n  </tbody>\n</table>\n</div>"
     },
     "execution_count": 21,
     "metadata": {},
     "output_type": "execute_result"
    }
   ],
   "source": [
    "df_livecell_val_imgs_meta = pd.DataFrame.from_dict(val_data['images'])\n",
    "df_livecell_val_imgs_meta.head()"
   ],
   "metadata": {
    "collapsed": false,
    "pycharm": {
     "name": "#%%\n"
    }
   }
  },
  {
   "cell_type": "code",
   "execution_count": 22,
   "outputs": [
    {
     "data": {
      "text/plain": "{'A172': 68,\n 'BT474': 75,\n 'BV2': 70,\n 'Huh7': 66,\n 'MCF7': 82,\n 'RatC6': 0,\n 'SHSY5Y': 79,\n 'SkBr3': 79,\n 'SKOV3': 51}"
     },
     "execution_count": 22,
     "metadata": {},
     "output_type": "execute_result"
    }
   ],
   "source": [
    "val_cell_type_cnt_dict = check_image_nos_per_cell_type(df_livecell_val_imgs_meta, CELL_TYPE_PATTERN)\n",
    "val_cell_type_cnt_dict"
   ],
   "metadata": {
    "collapsed": false,
    "pycharm": {
     "name": "#%%\n"
    }
   }
  },
  {
   "cell_type": "code",
   "execution_count": 23,
   "outputs": [
    {
     "data": {
      "text/plain": "570"
     },
     "execution_count": 23,
     "metadata": {},
     "output_type": "execute_result"
    }
   ],
   "source": [
    "sum(list(val_cell_type_cnt_dict.values()))"
   ],
   "metadata": {
    "collapsed": false,
    "pycharm": {
     "name": "#%%\n"
    }
   }
  },
  {
   "cell_type": "code",
   "execution_count": 24,
   "outputs": [
    {
     "name": "stdout",
     "output_type": "stream",
     "text": [
      "the rows available are all effective, i.e., without NaNs.\n",
      "there are 570 items in the image metadata frame.\n",
      "there are 570 unique ids (not images) in the image metadata frame.\n",
      "True : the ids are sorted by size.\n",
      "True : all the images are of size (704, 520).\n",
      "all files are extended by .tff.\n",
      "there are 569 unique file names in the image metadata frame.\n"
     ]
    }
   ],
   "source": [
    "# check the validity of metadata of image\n",
    "len_df_val_img = 0\n",
    "len_val_img_ids = 0\n",
    "non_duplicated_val_filenames = pd.DataFrame()\n",
    "duplicated_val_filenames_all = pd.DataFrame()\n",
    "if check_noneffective_ids(df_livecell_val_imgs_meta) is None:\n",
    "    val_check_results = check_meta_images_df(df_livecell_val_imgs_meta)\n",
    "    if len(val_check_results) == 2:\n",
    "        len_df_val_img, len_val_img_ids = val_check_results\n",
    "    elif len(val_check_results) == 4:\n",
    "        len_df_val_img, len_val_img_ids, non_duplicated_val_filenames, duplicated_val_filenames_all = val_check_results\n",
    "else:\n",
    "    print('There are non-valid metadata in terms of image. Please handle it!')"
   ],
   "metadata": {
    "collapsed": false,
    "pycharm": {
     "name": "#%%\n"
    }
   }
  },
  {
   "cell_type": "code",
   "execution_count": 25,
   "outputs": [
    {
     "name": "stdout",
     "output_type": "stream",
     "text": [
      "the metadata of image has 569 non-duplicated rows in terms of file_name.\n"
     ]
    }
   ],
   "source": [
    "print(f\"the metadata of image has {non_duplicated_val_filenames.shape[0]} non-duplicated rows in terms of file_name.\")"
   ],
   "metadata": {
    "collapsed": false,
    "pycharm": {
     "name": "#%%\n"
    }
   }
  },
  {
   "cell_type": "code",
   "execution_count": 26,
   "outputs": [
    {
     "data": {
      "text/plain": "          id  width  height                         file_name  \\\n229   876543    704     520  Huh7_Phase_A10_2_00d04h00m_2.tif   \n354  1037056    704     520  Huh7_Phase_A10_2_00d04h00m_2.tif   \n\n                    original_filename  \\\n229  Huh7_Phase_A10_2_00d04h00m_2.png   \n354  Huh7_Phase_A10_2_00d04h00m_2.png   \n\n                                                   url  \n229  https://darwin.v7labs.com/api/images/37610/ori...  \n354  https://darwin.v7labs.com/api/images/47416/ori...  ",
      "text/html": "<div>\n<style scoped>\n    .dataframe tbody tr th:only-of-type {\n        vertical-align: middle;\n    }\n\n    .dataframe tbody tr th {\n        vertical-align: top;\n    }\n\n    .dataframe thead th {\n        text-align: right;\n    }\n</style>\n<table border=\"1\" class=\"dataframe\">\n  <thead>\n    <tr style=\"text-align: right;\">\n      <th></th>\n      <th>id</th>\n      <th>width</th>\n      <th>height</th>\n      <th>file_name</th>\n      <th>original_filename</th>\n      <th>url</th>\n    </tr>\n  </thead>\n  <tbody>\n    <tr>\n      <th>229</th>\n      <td>876543</td>\n      <td>704</td>\n      <td>520</td>\n      <td>Huh7_Phase_A10_2_00d04h00m_2.tif</td>\n      <td>Huh7_Phase_A10_2_00d04h00m_2.png</td>\n      <td>https://darwin.v7labs.com/api/images/37610/ori...</td>\n    </tr>\n    <tr>\n      <th>354</th>\n      <td>1037056</td>\n      <td>704</td>\n      <td>520</td>\n      <td>Huh7_Phase_A10_2_00d04h00m_2.tif</td>\n      <td>Huh7_Phase_A10_2_00d04h00m_2.png</td>\n      <td>https://darwin.v7labs.com/api/images/47416/ori...</td>\n    </tr>\n  </tbody>\n</table>\n</div>"
     },
     "execution_count": 26,
     "metadata": {},
     "output_type": "execute_result"
    }
   ],
   "source": [
    "# the only example to justify the duplication in terms of the file_name\n",
    "\n",
    "df_livecell_val_imgs_meta[df_livecell_val_imgs_meta['file_name'].str.contains('Huh7_Phase_A10_2_00d04h00m_2.tif',\n",
    "                                                                                  regex=False)]"
   ],
   "metadata": {
    "collapsed": false,
    "pycharm": {
     "name": "#%%\n"
    }
   }
  },
  {
   "cell_type": "code",
   "execution_count": 27,
   "outputs": [
    {
     "name": "stdout",
     "output_type": "stream",
     "text": [
      "there are image file names overlapped! So we need to remove those duplicated.\n",
      "the number of valid images in dir livecell_train_val_images is: 4184.\n",
      "the number of unique filenames in column file_name is: 3727.\n",
      "all unique filenames in column file_name have the corresponding images.\n"
     ]
    }
   ],
   "source": [
    "# check the correspondence between file_name column and the corresponding images in terms of training and validation\n",
    "# dataset\n",
    "\n",
    "concat_train_val = pd.concat([non_duplicated_train_filenames.loc[:,['id', 'file_name']],\n",
    "                              non_duplicated_val_filenames.loc[:, ['id', 'file_name']]],\n",
    "                             ignore_index=True, sort=False)\n",
    "#check the correspondence\n",
    "if concat_train_val['file_name'].unique().shape[0] == concat_train_val.shape[0]:\n",
    "    print('there is no image file name from columns training file_name and validation file_name overlapped.')\n",
    "    check_filename_correspondence(concat_train_val['file_name'], livecell_train_val_img_path)\n",
    "elif concat_train_val['file_name'].unique().shape[0] < concat_train_val.shape[0]:\n",
    "    print('there are image file names overlapped! So we need to remove those duplicated.')\n",
    "    concat_series = pd.Series(concat_train_val['file_name'].unique(), name='file_name')\n",
    "    check_filename_correspondence(concat_series, livecell_train_val_img_path)"
   ],
   "metadata": {
    "collapsed": false,
    "pycharm": {
     "name": "#%%\n"
    }
   }
  },
  {
   "cell_type": "markdown",
   "source": [
    "### Partial conclusions of training and validation metadata - images\n",
    "According to the result of the blocks above, it can be derived that\n",
    "\n",
    "- While the overall image file names of metadata for training images count to **3253**, the unique image file names (\n",
    "including the first file_name of duplicated ones) count to **3188**.\n",
    "- While the overall image file names of metadata for validation images count to **570**, the unique image file names (\n",
    "including the first file_name of duplicated ones) count to **569**.\n",
    "- For all those duplicate file names, or say in concrete, those image ids referring to duplicate file names, the\n",
    "corresponding annotations are different, specifically area and segmentation labels. Thus, these annotations cannot be\n",
    "removed due to the duplicate file names and deserve more attention by visualization.\n",
    "- Taking into account both the unique image file names of metadata for training images and metadata for validation images,\n",
    "there are still overlapping image file names between them both, counting to **30**. Thus, the unique image file names of\n",
    "the training and validation metadata are **3727 (= 3188 + 569 - 30)**. After more investigation into the corresponding\n",
    "annotation metadata to these overlapping image file names (performed in the following code block right before the\n",
    "next partial conclusion), we find that all the annotations (specifically, area labels) to these overlapping image file\n",
    "names are different. **TODO: So these annotations deserve more visualization to illustrate this phenomenon.**\n",
    "- All the unique image file names of metadata for training images and metadata for validation images have the corresponding\n",
    "images that can be found."
   ],
   "metadata": {
    "collapsed": false
   }
  },
  {
   "cell_type": "markdown",
   "source": [
    "### Metadata: annotations"
   ],
   "metadata": {
    "collapsed": false
   }
  },
  {
   "cell_type": "code",
   "execution_count": 28,
   "outputs": [
    {
     "data": {
      "text/plain": "          id  image_id  category_id  \\\n86188  86188     86187            1   \n86189  86189     86187            1   \n86190  86190     86187            1   \n86191  86191     86187            1   \n86192  86192     86187            1   \n\n                                            segmentation       area  \\\n86188  [[704.0, 97.82, 696.67, 94.77, 691.43, 89.32, ...  193.82680   \n86189  [[624.0, 435.0, 624.0, 436.0, 622.0, 438.0, 62...  588.00000   \n86190  [[506.9, 374.57, 508.58, 378.39, 509.05, 380.7...  476.72355   \n86191  [[607.0, 322.0, 606.0, 323.0, 606.0, 324.0, 60...  279.00000   \n86192  [[363.9, 138.44, 368.01, 139.56, 370.62, 139.5...  529.11515   \n\n                                                    bbox  iscrowd  \n86188  [690.68, 78.15, 13.32000000000005, 19.66999999...        0  \n86189                         [619.0, 433.0, 26.0, 27.0]        0  \n86190  [487.8, 372.52, 22.20999999999998, 30.71000000...        0  \n86191                         [602.0, 322.0, 22.0, 21.0]        0  \n86192        [360.53, 127.23, 34.75, 36.989999999999995]        0  ",
      "text/html": "<div>\n<style scoped>\n    .dataframe tbody tr th:only-of-type {\n        vertical-align: middle;\n    }\n\n    .dataframe tbody tr th {\n        vertical-align: top;\n    }\n\n    .dataframe thead th {\n        text-align: right;\n    }\n</style>\n<table border=\"1\" class=\"dataframe\">\n  <thead>\n    <tr style=\"text-align: right;\">\n      <th></th>\n      <th>id</th>\n      <th>image_id</th>\n      <th>category_id</th>\n      <th>segmentation</th>\n      <th>area</th>\n      <th>bbox</th>\n      <th>iscrowd</th>\n    </tr>\n  </thead>\n  <tbody>\n    <tr>\n      <th>86188</th>\n      <td>86188</td>\n      <td>86187</td>\n      <td>1</td>\n      <td>[[704.0, 97.82, 696.67, 94.77, 691.43, 89.32, ...</td>\n      <td>193.82680</td>\n      <td>[690.68, 78.15, 13.32000000000005, 19.66999999...</td>\n      <td>0</td>\n    </tr>\n    <tr>\n      <th>86189</th>\n      <td>86189</td>\n      <td>86187</td>\n      <td>1</td>\n      <td>[[624.0, 435.0, 624.0, 436.0, 622.0, 438.0, 62...</td>\n      <td>588.00000</td>\n      <td>[619.0, 433.0, 26.0, 27.0]</td>\n      <td>0</td>\n    </tr>\n    <tr>\n      <th>86190</th>\n      <td>86190</td>\n      <td>86187</td>\n      <td>1</td>\n      <td>[[506.9, 374.57, 508.58, 378.39, 509.05, 380.7...</td>\n      <td>476.72355</td>\n      <td>[487.8, 372.52, 22.20999999999998, 30.71000000...</td>\n      <td>0</td>\n    </tr>\n    <tr>\n      <th>86191</th>\n      <td>86191</td>\n      <td>86187</td>\n      <td>1</td>\n      <td>[[607.0, 322.0, 606.0, 323.0, 606.0, 324.0, 60...</td>\n      <td>279.00000</td>\n      <td>[602.0, 322.0, 22.0, 21.0]</td>\n      <td>0</td>\n    </tr>\n    <tr>\n      <th>86192</th>\n      <td>86192</td>\n      <td>86187</td>\n      <td>1</td>\n      <td>[[363.9, 138.44, 368.01, 139.56, 370.62, 139.5...</td>\n      <td>529.11515</td>\n      <td>[360.53, 127.23, 34.75, 36.989999999999995]</td>\n      <td>0</td>\n    </tr>\n  </tbody>\n</table>\n</div>"
     },
     "execution_count": 28,
     "metadata": {},
     "output_type": "execute_result"
    }
   ],
   "source": [
    "# dataframe of annotations dict\n",
    "\n",
    "df_livecell_val_annots_meta = pd.DataFrame.from_dict(val_data['annotations'], orient='index')\n",
    "df_livecell_val_annots_meta.head()"
   ],
   "metadata": {
    "collapsed": false,
    "pycharm": {
     "name": "#%%\n"
    }
   }
  },
  {
   "cell_type": "code",
   "execution_count": 29,
   "outputs": [
    {
     "name": "stdout",
     "output_type": "stream",
     "text": [
      "the rows available are all effective, i.e., without NaNs.\n",
      "True : The index values and values of the id column of annotations metadata in form of data frame is elementwise equal.\n",
      "there are 181610 unique ids in the metadata for annotations.\n",
      "there are 570 unique image ids in the metadata for annotations.\n",
      "there are 1 unique categories in the metadata for annotations.\n",
      "there are 1 unique values of iscrowd in the metadata for annotations.\n",
      "True : all the image ids of metadata for images and annotations are paired with each other.\n",
      "True : all the segmentation labels are valid.\n",
      "True : all the area labels are valid.\n",
      "True : all the bbox labels are valid.\n"
     ]
    }
   ],
   "source": [
    "if check_noneffective_ids(df_livecell_val_annots_meta) is None:\n",
    "    check_meta_annots_df(df_livecell_val_imgs_meta, df_livecell_val_annots_meta)\n",
    "else:\n",
    "    print('There are non-valid metadata in terms of annotations. Please handle it!')"
   ],
   "metadata": {
    "collapsed": false,
    "pycharm": {
     "name": "#%%\n"
    }
   }
  },
  {
   "cell_type": "code",
   "execution_count": 30,
   "outputs": [
    {
     "name": "stdout",
     "output_type": "stream",
     "text": [
      "the area annotations for all the duplicate image ids in terms of file_name are different.\n"
     ]
    }
   ],
   "source": [
    "# check the repeatability of area for the image ids which refer to the same file_name\n",
    "df_duplicates_val = check_duplicates_of_meta_annot(duplicated_val_filenames_all, df_livecell_val_annots_meta,\n",
    "                                                   verbose=False)"
   ],
   "metadata": {
    "collapsed": false,
    "pycharm": {
     "name": "#%%\n"
    }
   }
  },
  {
   "cell_type": "code",
   "execution_count": 31,
   "outputs": [
    {
     "data": {
      "text/plain": "0    [87.45655000000261, 133.18975000013597, 135.34...\n1    [64.0, 126.92764999996871, 128.35525000002235,...\nName: area, dtype: object"
     },
     "execution_count": 31,
     "metadata": {},
     "output_type": "execute_result"
    }
   ],
   "source": [
    "# one example (ids pair of df_duplicates_val: 0 & 1, can be found using verbose=True of the function above) to justify\n",
    "# the non-repeatability of area\n",
    "\n",
    "demo_df_val = df_duplicates_val.loc[[0, 1], 'area'].apply(to_string)\n",
    "demo_df_val"
   ],
   "metadata": {
    "collapsed": false,
    "pycharm": {
     "name": "#%%\n"
    }
   }
  },
  {
   "cell_type": "code",
   "execution_count": 32,
   "outputs": [
    {
     "name": "stdout",
     "output_type": "stream",
     "text": [
      "the area annotations for all the duplicate image ids in terms of file_name are different.\n"
     ]
    }
   ],
   "source": [
    "# check the repeatability of area labels for the overlapping file_names between training metadata-images and validation\n",
    "# metadata-images\n",
    "\n",
    "has_dup_train_val = concat_train_val['file_name'].duplicated(keep=False)\n",
    "concat_train_val_dup = concat_train_val[has_dup_train_val]\n",
    "df_livecell_train_val_annots_meta = pd.concat([df_livecell_train_annots_meta, df_livecell_val_annots_meta],\n",
    "                                              ignore_index=True)\n",
    "df_duplicates_train_val = check_duplicates_of_meta_annot(concat_train_val_dup, df_livecell_train_val_annots_meta,\n",
    "                                                         verbose=False)"
   ],
   "metadata": {
    "collapsed": false,
    "pycharm": {
     "name": "#%%\n"
    }
   }
  },
  {
   "cell_type": "markdown",
   "source": [
    "### Partial conclusions of validation metadata - images and annotations (the same conclusions as in training metadata)\n",
    "\n",
    "For convenience of reference, the same conclusions are still written here.\n",
    "- Both the *image_id* column in the metadata for annotations and the *id* column in the metadata for images have the same\n",
    "unique image ids. That means, all the images ids on both sides can be paired with each other.\n",
    "- There is only one value of *category_id* col in the metadata for annotations, i.e., 1. That means all the images are\n",
    "label-free in terms of classification.\n",
    "- There is only one value of *iscrowd* col in the metadata for annotations, i.e., 0. That means all the images are\n",
    "segmented based on polygon.\n",
    "- All the *segmentation* annotations are valid in terms of the requirement that there are at least 3 points to form the\n",
    "polygon of an instance.\n",
    "- All the *area* annotations are valid in terms of the requirement that the size must be greater than zero.\n",
    "- All the *bbox* annotations are valid in terms of the requirement that there must be the coordinate of top-left corner\n",
    "as well as the width and height of bbox available.\n",
    "- For all those duplicate file names, or say in concrete, those image ids referring to duplicate file names, the\n",
    "corresponding annotations are different, specifically area and segmentation labels. Thus, these annotations cannot be\n",
    "removed due to the duplicate file names and deserve more attention by visualization. Based on the detailed inspection by\n",
    "visualizing some of them (using [the other notebook for visualization](./data_exploration_LIVECell_2.ipynb)), it can be\n",
    "anticipated that the existence of all those duplicate file names can be attributed to different \"styles\" of annotation,\n",
    "which should be all plausible."
   ],
   "metadata": {
    "collapsed": false
   }
  },
  {
   "cell_type": "markdown",
   "source": [
    "**Note**: Since the information of *category*, *info* and *licenses* is not important with regard to our task after\n",
    "checking them in the part of investigation into training metadata, the corresponding work would not be repeated here."
   ],
   "metadata": {
    "collapsed": false
   }
  },
  {
   "cell_type": "markdown",
   "source": [
    "## Testing metadata exploration"
   ],
   "metadata": {
    "collapsed": false
   }
  },
  {
   "cell_type": "code",
   "execution_count": 33,
   "outputs": [
    {
     "name": "stdout",
     "output_type": "stream",
     "text": [
      "dict_keys(['images', 'annotations', 'categories', 'info', 'licenses']) \n",
      "\n",
      "\n",
      "the type of images container:  <class 'list'>\n",
      "the first element of <list> images: \n",
      " {'id': 101438, 'width': 704, 'height': 520, 'file_name': 'BT474_Phase_D3_1_04d04h00m_3.tif', 'original_filename': 'BT474_Phase_D3_1_04d04h00m_3.png', 'url': 'https://darwin.v7labs.com/api/images/870104/original'} \n",
      "\n",
      "\n",
      "the type of annotations container:  <class 'dict'>\n",
      "the first ten keys of <dict> annotations: \n",
      " ['101439', '101440', '101441', '101442', '101443', '101444', '101445', '101446', '101447', '101448']\n",
      "the first item of <dict> annotations has the key: \n",
      " 101439 \n",
      "and the value: \n",
      "{'id': 101439, 'image_id': 101438, 'category_id': 1, 'segmentation': [[281.6, 234.28, 292.24, 236.48, 298.84, 239.04, 305.08, 239.41, 308.38, 239.41, 310.21, 236.11, 310.21, 230.61, 308.75, 226.21, 304.34, 220.71, 302.88, 218.14, 300.68, 214.47, 296.64, 216.3, 288.94, 216.3, 287.11, 219.61, 284.17, 226.94]], 'area': 492.789049999963, 'bbox': [281.6, 214.47, 28.609999999999957, 24.939999999999998], 'iscrowd': 0} \n",
      "\n",
      "\n",
      "the type of categories container:  <class 'list'>\n",
      "the only element of <list> categories: \n",
      " {'supercategory': 'cell', 'id': 1, 'name': 'cell'} \n",
      "\n",
      "\n",
      "the type of info container:  <class 'dict'>\n",
      "the keys of <dict> info: \n",
      " dict_keys(['year', 'version', 'description', 'contributor', 'url', 'date_created']) \n",
      "\n",
      "\n",
      "the type of licenses container:  <class 'list'>\n",
      "the first element of <list> licenses: \n",
      " {'id': 1, 'name': 'Attribution-NonCommercial 4.0 International License', 'url': 'https://creativecommons.org/licenses/by-nc/4.0/'}\n"
     ]
    }
   ],
   "source": [
    "test_data = learn_metadata(livecell_test_meta_path)"
   ],
   "metadata": {
    "collapsed": false,
    "pycharm": {
     "name": "#%%\n"
    }
   }
  },
  {
   "cell_type": "markdown",
   "source": [
    "### Metadata: images"
   ],
   "metadata": {
    "collapsed": false
   }
  },
  {
   "cell_type": "code",
   "execution_count": 34,
   "outputs": [
    {
     "data": {
      "text/plain": "       id  width  height                         file_name  \\\n0  101438    704     520  BT474_Phase_D3_1_04d04h00m_3.tif   \n1  101798    704     520  BT474_Phase_D3_2_03d04h00m_2.tif   \n2  101943    704     520  BT474_Phase_D3_1_01d12h00m_4.tif   \n3  102143    704     520  BT474_Phase_D3_2_04d16h00m_1.tif   \n4  102490    704     520  BT474_Phase_D3_2_00d12h00m_3.tif   \n\n                  original_filename  \\\n0  BT474_Phase_D3_1_04d04h00m_3.png   \n1  BT474_Phase_D3_2_03d04h00m_2.png   \n2  BT474_Phase_D3_1_01d12h00m_4.png   \n3  BT474_Phase_D3_2_04d16h00m_1.png   \n4  BT474_Phase_D3_2_00d12h00m_3.png   \n\n                                                 url  \n0  https://darwin.v7labs.com/api/images/870104/or...  \n1  https://darwin.v7labs.com/api/images/61733/ori...  \n2  https://darwin.v7labs.com/api/images/921720/or...  \n3  https://darwin.v7labs.com/api/images/37521/ori...  \n4  https://darwin.v7labs.com/api/images/921792/or...  ",
      "text/html": "<div>\n<style scoped>\n    .dataframe tbody tr th:only-of-type {\n        vertical-align: middle;\n    }\n\n    .dataframe tbody tr th {\n        vertical-align: top;\n    }\n\n    .dataframe thead th {\n        text-align: right;\n    }\n</style>\n<table border=\"1\" class=\"dataframe\">\n  <thead>\n    <tr style=\"text-align: right;\">\n      <th></th>\n      <th>id</th>\n      <th>width</th>\n      <th>height</th>\n      <th>file_name</th>\n      <th>original_filename</th>\n      <th>url</th>\n    </tr>\n  </thead>\n  <tbody>\n    <tr>\n      <th>0</th>\n      <td>101438</td>\n      <td>704</td>\n      <td>520</td>\n      <td>BT474_Phase_D3_1_04d04h00m_3.tif</td>\n      <td>BT474_Phase_D3_1_04d04h00m_3.png</td>\n      <td>https://darwin.v7labs.com/api/images/870104/or...</td>\n    </tr>\n    <tr>\n      <th>1</th>\n      <td>101798</td>\n      <td>704</td>\n      <td>520</td>\n      <td>BT474_Phase_D3_2_03d04h00m_2.tif</td>\n      <td>BT474_Phase_D3_2_03d04h00m_2.png</td>\n      <td>https://darwin.v7labs.com/api/images/61733/ori...</td>\n    </tr>\n    <tr>\n      <th>2</th>\n      <td>101943</td>\n      <td>704</td>\n      <td>520</td>\n      <td>BT474_Phase_D3_1_01d12h00m_4.tif</td>\n      <td>BT474_Phase_D3_1_01d12h00m_4.png</td>\n      <td>https://darwin.v7labs.com/api/images/921720/or...</td>\n    </tr>\n    <tr>\n      <th>3</th>\n      <td>102143</td>\n      <td>704</td>\n      <td>520</td>\n      <td>BT474_Phase_D3_2_04d16h00m_1.tif</td>\n      <td>BT474_Phase_D3_2_04d16h00m_1.png</td>\n      <td>https://darwin.v7labs.com/api/images/37521/ori...</td>\n    </tr>\n    <tr>\n      <th>4</th>\n      <td>102490</td>\n      <td>704</td>\n      <td>520</td>\n      <td>BT474_Phase_D3_2_00d12h00m_3.tif</td>\n      <td>BT474_Phase_D3_2_00d12h00m_3.png</td>\n      <td>https://darwin.v7labs.com/api/images/921792/or...</td>\n    </tr>\n  </tbody>\n</table>\n</div>"
     },
     "execution_count": 34,
     "metadata": {},
     "output_type": "execute_result"
    }
   ],
   "source": [
    "df_livecell_test_imgs_meta = pd.DataFrame.from_dict(test_data['images'])\n",
    "df_livecell_test_imgs_meta.head()"
   ],
   "metadata": {
    "collapsed": false,
    "pycharm": {
     "name": "#%%\n"
    }
   }
  },
  {
   "cell_type": "code",
   "execution_count": 35,
   "outputs": [
    {
     "name": "stdout",
     "output_type": "stream",
     "text": [
      "the rows available are all effective, i.e., without NaNs.\n",
      "there are 1564 items in the image metadata frame.\n",
      "there are 1564 unique ids (not images) in the image metadata frame.\n",
      "True : the ids are sorted by size.\n",
      "True : all the images are of size (704, 520).\n",
      "all files are extended by .tff.\n",
      "there are 1512 unique file names in the image metadata frame.\n"
     ]
    }
   ],
   "source": [
    "# check the validity of metadata of image\n",
    "len_df_test_img = 0\n",
    "len_test_img_ids = 0\n",
    "non_duplicated_test_filenames = pd.DataFrame()\n",
    "duplicated_test_filenames_all = pd.DataFrame()\n",
    "if check_noneffective_ids(df_livecell_test_imgs_meta) is None:\n",
    "    test_check_results = check_meta_images_df(df_livecell_test_imgs_meta)\n",
    "    if len(test_check_results) == 2:\n",
    "        len_df_test_img, len_test_img_ids = test_check_results\n",
    "    elif len(test_check_results) == 4:\n",
    "        len_df_test_img, len_test_img_ids, non_duplicated_test_filenames, duplicated_test_filenames_all = test_check_results\n",
    "else:\n",
    "    print('There are non-valid metadata in terms of image. Please handle it!')"
   ],
   "metadata": {
    "collapsed": false,
    "pycharm": {
     "name": "#%%\n"
    }
   }
  },
  {
   "cell_type": "code",
   "execution_count": 36,
   "outputs": [
    {
     "name": "stdout",
     "output_type": "stream",
     "text": [
      "the meta data of image has 1512 non-duplicated rows in terms of file_name.\n"
     ]
    }
   ],
   "source": [
    "print(f\"the meta data of image has {non_duplicated_test_filenames.shape[0]} non-duplicated rows in terms of file_name.\")"
   ],
   "metadata": {
    "collapsed": false,
    "pycharm": {
     "name": "#%%\n"
    }
   }
  },
  {
   "cell_type": "code",
   "execution_count": 37,
   "outputs": [
    {
     "data": {
      "text/plain": "          id  width  height                         file_name  \\\n504   918641    704     520  Huh7_Phase_A12_1_03d16h00m_2.tif   \n690  1038567    704     520  Huh7_Phase_A12_1_03d16h00m_2.tif   \n\n                    original_filename  \\\n504  Huh7_Phase_A12_1_03d16h00m_2.png   \n690  Huh7_Phase_A12_1_03d16h00m_2.png   \n\n                                                   url  \n504  https://darwin.v7labs.com/api/images/37666/ori...  \n690  https://darwin.v7labs.com/api/images/47472/ori...  ",
      "text/html": "<div>\n<style scoped>\n    .dataframe tbody tr th:only-of-type {\n        vertical-align: middle;\n    }\n\n    .dataframe tbody tr th {\n        vertical-align: top;\n    }\n\n    .dataframe thead th {\n        text-align: right;\n    }\n</style>\n<table border=\"1\" class=\"dataframe\">\n  <thead>\n    <tr style=\"text-align: right;\">\n      <th></th>\n      <th>id</th>\n      <th>width</th>\n      <th>height</th>\n      <th>file_name</th>\n      <th>original_filename</th>\n      <th>url</th>\n    </tr>\n  </thead>\n  <tbody>\n    <tr>\n      <th>504</th>\n      <td>918641</td>\n      <td>704</td>\n      <td>520</td>\n      <td>Huh7_Phase_A12_1_03d16h00m_2.tif</td>\n      <td>Huh7_Phase_A12_1_03d16h00m_2.png</td>\n      <td>https://darwin.v7labs.com/api/images/37666/ori...</td>\n    </tr>\n    <tr>\n      <th>690</th>\n      <td>1038567</td>\n      <td>704</td>\n      <td>520</td>\n      <td>Huh7_Phase_A12_1_03d16h00m_2.tif</td>\n      <td>Huh7_Phase_A12_1_03d16h00m_2.png</td>\n      <td>https://darwin.v7labs.com/api/images/47472/ori...</td>\n    </tr>\n  </tbody>\n</table>\n</div>"
     },
     "execution_count": 37,
     "metadata": {},
     "output_type": "execute_result"
    }
   ],
   "source": [
    "# one example to justify the duplication in terms of the file_name\n",
    "\n",
    "df_livecell_test_imgs_meta[df_livecell_test_imgs_meta['file_name'].str.contains('Huh7_Phase_A12_1_03d16h00m_2.tif',\n",
    "                                                                                  regex=False)]"
   ],
   "metadata": {
    "collapsed": false,
    "pycharm": {
     "name": "#%%\n"
    }
   }
  },
  {
   "cell_type": "code",
   "execution_count": 38,
   "outputs": [
    {
     "name": "stdout",
     "output_type": "stream",
     "text": [
      "the number of valid images in dir livecell_test_images is: 1664.\n",
      "the number of unique filenames in column file_name is: 1512.\n",
      "all unique filenames in column file_name have the corresponding images.\n"
     ]
    }
   ],
   "source": [
    "# check the correspondence between file_name column and the corresponding images in terms of testing dataset\n",
    "\n",
    "test_series = non_duplicated_test_filenames['file_name']\n",
    "check_filename_correspondence(test_series, livecell_test_img_path)"
   ],
   "metadata": {
    "collapsed": false,
    "pycharm": {
     "name": "#%%\n"
    }
   }
  },
  {
   "cell_type": "markdown",
   "source": [
    "### Partial conclusions of testing metadata - images\n",
    "According to the result of the blocks above, it can be derived that\n",
    "\n",
    "- While the overall image file names of metadata for testing images count to **1564**, the unique image file names (\n",
    "including the first file_name of duplicated ones) count to **1512**.\n",
    "- All the unique image file names of metadata for testing images have the corresponding images that can be found."
   ],
   "metadata": {
    "collapsed": false
   }
  },
  {
   "cell_type": "markdown",
   "source": [
    "### Metadata: annotations"
   ],
   "metadata": {
    "collapsed": false
   }
  },
  {
   "cell_type": "code",
   "execution_count": 39,
   "outputs": [
    {
     "data": {
      "text/plain": "            id  image_id  category_id  \\\n101439  101439    101438            1   \n101440  101440    101438            1   \n101441  101441    101438            1   \n101442  101442    101438            1   \n101443  101443    101438            1   \n\n                                             segmentation       area  \\\n101439  [[281.6, 234.28, 292.24, 236.48, 298.84, 239.0...  492.78905   \n101440  [[669.56, 341.38, 666.44, 346.58, 664.88, 351....  668.71490   \n101441  [[245.46, 427.9, 248.87, 428.68, 254.63, 432.3...  135.91615   \n101442  [[289.36, 509.18, 289.36, 511.65, 291.84, 512....  270.17175   \n101443  [[240.89, 273.89, 238.33, 277.19, 237.23, 281....  284.18750   \n\n                                                     bbox  iscrowd  \n101439  [281.6, 214.47, 28.609999999999957, 24.9399999...        0  \n101440  [664.88, 341.38, 32.23000000000002, 28.5900000...        0  \n101441  [233.94, 425.28, 20.689999999999998, 11.520000...        0  \n101442  [286.53, 485.13, 14.850000000000023, 26.870000...        0  \n101443  [236.13, 270.22, 31.170000000000016, 21.639999...        0  ",
      "text/html": "<div>\n<style scoped>\n    .dataframe tbody tr th:only-of-type {\n        vertical-align: middle;\n    }\n\n    .dataframe tbody tr th {\n        vertical-align: top;\n    }\n\n    .dataframe thead th {\n        text-align: right;\n    }\n</style>\n<table border=\"1\" class=\"dataframe\">\n  <thead>\n    <tr style=\"text-align: right;\">\n      <th></th>\n      <th>id</th>\n      <th>image_id</th>\n      <th>category_id</th>\n      <th>segmentation</th>\n      <th>area</th>\n      <th>bbox</th>\n      <th>iscrowd</th>\n    </tr>\n  </thead>\n  <tbody>\n    <tr>\n      <th>101439</th>\n      <td>101439</td>\n      <td>101438</td>\n      <td>1</td>\n      <td>[[281.6, 234.28, 292.24, 236.48, 298.84, 239.0...</td>\n      <td>492.78905</td>\n      <td>[281.6, 214.47, 28.609999999999957, 24.9399999...</td>\n      <td>0</td>\n    </tr>\n    <tr>\n      <th>101440</th>\n      <td>101440</td>\n      <td>101438</td>\n      <td>1</td>\n      <td>[[669.56, 341.38, 666.44, 346.58, 664.88, 351....</td>\n      <td>668.71490</td>\n      <td>[664.88, 341.38, 32.23000000000002, 28.5900000...</td>\n      <td>0</td>\n    </tr>\n    <tr>\n      <th>101441</th>\n      <td>101441</td>\n      <td>101438</td>\n      <td>1</td>\n      <td>[[245.46, 427.9, 248.87, 428.68, 254.63, 432.3...</td>\n      <td>135.91615</td>\n      <td>[233.94, 425.28, 20.689999999999998, 11.520000...</td>\n      <td>0</td>\n    </tr>\n    <tr>\n      <th>101442</th>\n      <td>101442</td>\n      <td>101438</td>\n      <td>1</td>\n      <td>[[289.36, 509.18, 289.36, 511.65, 291.84, 512....</td>\n      <td>270.17175</td>\n      <td>[286.53, 485.13, 14.850000000000023, 26.870000...</td>\n      <td>0</td>\n    </tr>\n    <tr>\n      <th>101443</th>\n      <td>101443</td>\n      <td>101438</td>\n      <td>1</td>\n      <td>[[240.89, 273.89, 238.33, 277.19, 237.23, 281....</td>\n      <td>284.18750</td>\n      <td>[236.13, 270.22, 31.170000000000016, 21.639999...</td>\n      <td>0</td>\n    </tr>\n  </tbody>\n</table>\n</div>"
     },
     "execution_count": 39,
     "metadata": {},
     "output_type": "execute_result"
    }
   ],
   "source": [
    "# dataframe of annotations dict\n",
    "\n",
    "df_livecell_test_annots_meta = pd.DataFrame.from_dict(test_data['annotations'], orient='index')\n",
    "df_livecell_test_annots_meta.head()"
   ],
   "metadata": {
    "collapsed": false,
    "pycharm": {
     "name": "#%%\n"
    }
   }
  },
  {
   "cell_type": "code",
   "execution_count": 40,
   "outputs": [
    {
     "name": "stdout",
     "output_type": "stream",
     "text": [
      "the rows available are all effective, i.e., without NaNs.\n",
      "True : The index values and values of the id column of annotations metadata in form of data frame is elementwise equal.\n",
      "there are 462261 unique ids in the metadata for annotations.\n",
      "there are 1564 unique image ids in the metadata for annotations.\n",
      "there are 1 unique categories in the metadata for annotations.\n",
      "there are 1 unique values of iscrowd in the metadata for annotations.\n",
      "True : all the image ids of metadata for images and annotations are paired with each other.\n",
      "True : all the segmentation labels are valid.\n",
      "True : all the area labels are valid.\n",
      "True : all the bbox labels are valid.\n"
     ]
    }
   ],
   "source": [
    "if check_noneffective_ids(df_livecell_test_annots_meta) is None:\n",
    "    check_meta_annots_df(df_livecell_test_imgs_meta, df_livecell_test_annots_meta)\n",
    "else:\n",
    "    print('There are non-valid metadata in terms of annotations. Please handle it!')"
   ],
   "metadata": {
    "collapsed": false,
    "pycharm": {
     "name": "#%%\n"
    }
   }
  },
  {
   "cell_type": "code",
   "execution_count": 41,
   "outputs": [
    {
     "name": "stdout",
     "output_type": "stream",
     "text": [
      "the length of given duplicated dataframe is: 104\n",
      "\n",
      "the length of resulting duplicated dataframe for annotations is: 17627\n",
      "the length of resulting duplicated dataframe for annotations with only unique image_id is: 104\n",
      "\n",
      "none of the area annotations for the image ids - 0      918641\n",
      "16    1038567\n",
      "Name: id, dtype: int64 is the same.\n",
      "\n",
      "none of the area annotations for the image ids - 1      921415\n",
      "24    1044060\n",
      "Name: id, dtype: int64 is the same.\n",
      "\n",
      "none of the area annotations for the image ids - 2      921474\n",
      "27    1045838\n",
      "Name: id, dtype: int64 is the same.\n",
      "\n",
      "none of the area annotations for the image ids - 3      921623\n",
      "28    1047906\n",
      "Name: id, dtype: int64 is the same.\n",
      "\n",
      "none of the area annotations for the image ids - 4      926145\n",
      "29    1048250\n",
      "Name: id, dtype: int64 is the same.\n",
      "\n",
      "none of the area annotations for the image ids - 5      933656\n",
      "22    1043211\n",
      "Name: id, dtype: int64 is the same.\n",
      "\n",
      "none of the area annotations for the image ids - 6      940824\n",
      "31    1049447\n",
      "Name: id, dtype: int64 is the same.\n",
      "\n",
      "none of the area annotations for the image ids - 7      942839\n",
      "26    1045154\n",
      "Name: id, dtype: int64 is the same.\n",
      "\n",
      "none of the area annotations for the image ids - 8      973163\n",
      "21    1042788\n",
      "Name: id, dtype: int64 is the same.\n",
      "\n",
      "none of the area annotations for the image ids - 9      980864\n",
      "23    1044008\n",
      "Name: id, dtype: int64 is the same.\n",
      "\n",
      "none of the area annotations for the image ids - 10     983072\n",
      "30    1048800\n",
      "Name: id, dtype: int64 is the same.\n",
      "\n",
      "none of the area annotations for the image ids - 11     983296\n",
      "18    1040165\n",
      "Name: id, dtype: int64 is the same.\n",
      "\n",
      "none of the area annotations for the image ids - 12     989701\n",
      "25    1044900\n",
      "Name: id, dtype: int64 is the same.\n",
      "\n",
      "none of the area annotations for the image ids - 13     991794\n",
      "19    1041802\n",
      "Name: id, dtype: int64 is the same.\n",
      "\n",
      "none of the area annotations for the image ids - 14     993627\n",
      "17    1038726\n",
      "Name: id, dtype: int64 is the same.\n",
      "\n",
      "none of the area annotations for the image ids - 15    1001871\n",
      "20    1041846\n",
      "Name: id, dtype: int64 is the same.\n",
      "\n",
      "none of the area annotations for the image ids - 32    1253296\n",
      "75    1381348\n",
      "Name: id, dtype: int64 is the same.\n",
      "\n",
      "none of the area annotations for the image ids - 33    1253492\n",
      "69    1374590\n",
      "Name: id, dtype: int64 is the same.\n",
      "\n",
      "none of the area annotations for the image ids - 34    1256038\n",
      "92    1405711\n",
      "Name: id, dtype: int64 is the same.\n",
      "\n",
      "none of the area annotations for the image ids - 35    1261690\n",
      "71    1376035\n",
      "Name: id, dtype: int64 is the same.\n",
      "\n",
      "none of the area annotations for the image ids - 36    1270397\n",
      "77    1383876\n",
      "Name: id, dtype: int64 is the same.\n",
      "\n",
      "none of the area annotations for the image ids - 37    1271389\n",
      "73    1377636\n",
      "Name: id, dtype: int64 is the same.\n",
      "\n",
      "none of the area annotations for the image ids - 38    1272299\n",
      "76    1383099\n",
      "Name: id, dtype: int64 is the same.\n",
      "\n",
      "none of the area annotations for the image ids - 39    1273342\n",
      "82    1389189\n",
      "Name: id, dtype: int64 is the same.\n",
      "\n",
      "none of the area annotations for the image ids - 40    1273771\n",
      "81    1386312\n",
      "Name: id, dtype: int64 is the same.\n",
      "\n",
      "none of the area annotations for the image ids - 41    1274032\n",
      "89    1401700\n",
      "Name: id, dtype: int64 is the same.\n",
      "\n",
      "none of the area annotations for the image ids - 42    1274245\n",
      "84    1396914\n",
      "Name: id, dtype: int64 is the same.\n",
      "\n",
      "none of the area annotations for the image ids - 43    1274465\n",
      "85    1397578\n",
      "Name: id, dtype: int64 is the same.\n",
      "\n",
      "none of the area annotations for the image ids - 44    1274826\n",
      "72    1376998\n",
      "Name: id, dtype: int64 is the same.\n",
      "\n",
      "none of the area annotations for the image ids - 45    1275261\n",
      "95    1408023\n",
      "Name: id, dtype: int64 is the same.\n",
      "\n",
      "none of the area annotations for the image ids - 46    1276578\n",
      "90    1402311\n",
      "Name: id, dtype: int64 is the same.\n",
      "\n",
      "none of the area annotations for the image ids - 47    1276830\n",
      "88    1400740\n",
      "Name: id, dtype: int64 is the same.\n",
      "\n",
      "none of the area annotations for the image ids - 48    1278267\n",
      "74    1377860\n",
      "Name: id, dtype: int64 is the same.\n",
      "\n",
      "none of the area annotations for the image ids - 49    1285056\n",
      "96    1409962\n",
      "Name: id, dtype: int64 is the same.\n",
      "\n",
      "none of the area annotations for the image ids - 50    1287160\n",
      "94    1407530\n",
      "Name: id, dtype: int64 is the same.\n",
      "\n",
      "none of the area annotations for the image ids - 51    1289650\n",
      "86    1399030\n",
      "Name: id, dtype: int64 is the same.\n",
      "\n",
      "none of the area annotations for the image ids - 52    1291633\n",
      "93    1406930\n",
      "Name: id, dtype: int64 is the same.\n",
      "\n",
      "none of the area annotations for the image ids - 53    1292182\n",
      "80    1385652\n",
      "Name: id, dtype: int64 is the same.\n",
      "\n",
      "none of the area annotations for the image ids - 54    1296305\n",
      "78    1384630\n",
      "Name: id, dtype: int64 is the same.\n",
      "\n",
      "none of the area annotations for the image ids - 55    1298787\n",
      "98    1412266\n",
      "Name: id, dtype: int64 is the same.\n",
      "\n",
      "none of the area annotations for the image ids - 56    1298971\n",
      "97    1412065\n",
      "Name: id, dtype: int64 is the same.\n",
      "\n",
      "none of the area annotations for the image ids - 57     1299804\n",
      "101    1414706\n",
      "Name: id, dtype: int64 is the same.\n",
      "\n",
      "none of the area annotations for the image ids - 58     1301377\n",
      "103    1418523\n",
      "Name: id, dtype: int64 is the same.\n",
      "\n",
      "none of the area annotations for the image ids - 59    1302023\n",
      "70    1375091\n",
      "Name: id, dtype: int64 is the same.\n",
      "\n",
      "none of the area annotations for the image ids - 60    1306741\n",
      "99    1412807\n",
      "Name: id, dtype: int64 is the same.\n",
      "\n",
      "none of the area annotations for the image ids - 61    1309765\n",
      "83    1391353\n",
      "Name: id, dtype: int64 is the same.\n",
      "\n",
      "none of the area annotations for the image ids - 62    1310723\n",
      "79    1385515\n",
      "Name: id, dtype: int64 is the same.\n",
      "\n",
      "none of the area annotations for the image ids - 63    1313123\n",
      "91    1402853\n",
      "Name: id, dtype: int64 is the same.\n",
      "\n",
      "none of the area annotations for the image ids - 64     1315158\n",
      "100    1413202\n",
      "Name: id, dtype: int64 is the same.\n",
      "\n",
      "none of the area annotations for the image ids - 65    1317430\n",
      "68    1372042\n",
      "Name: id, dtype: int64 is the same.\n",
      "\n",
      "none of the area annotations for the image ids - 66     1322903\n",
      "102    1415863\n",
      "Name: id, dtype: int64 is the same.\n",
      "\n",
      "none of the area annotations for the image ids - 67    1326698\n",
      "87    1399796\n",
      "Name: id, dtype: int64 is the same.\n",
      "\n",
      "the area annotations for all the duplicate image ids in terms of file_name are different.\n"
     ]
    }
   ],
   "source": [
    "# check the repeatability of area for the image ids which refer to the same file_name\n",
    "df_duplicates_test = check_duplicates_of_meta_annot(duplicated_test_filenames_all, df_livecell_test_annots_meta,\n",
    "                                                    verbose=True)"
   ],
   "metadata": {
    "collapsed": false,
    "pycharm": {
     "name": "#%%\n"
    }
   }
  },
  {
   "cell_type": "code",
   "execution_count": 42,
   "outputs": [
    {
     "data": {
      "text/plain": "0     [120.07545000000391, 121.46360000013374, 179.7...\n16    [57.195249999989755, 121.03195000000414, 121.3...\nName: area, dtype: object"
     },
     "execution_count": 42,
     "metadata": {},
     "output_type": "execute_result"
    }
   ],
   "source": [
    "# one example (ids pair of df_duplicates_test: 0 & 16, can be found using verbose=True of the function above) to justify\n",
    "# the non-repeatability of area\n",
    "\n",
    "demo_df_test = df_duplicates_test.loc[[0, 16], 'area'].apply(to_string)\n",
    "demo_df_test"
   ],
   "metadata": {
    "collapsed": false,
    "pycharm": {
     "name": "#%%\n"
    }
   }
  },
  {
   "cell_type": "markdown",
   "source": [
    "### Partial conclusions of validation metadata - images and annotations (the same conclusions as in training metadata)\n",
    "\n",
    "For convenience of reference, the same conclusions are still written here.\n",
    "- Both the *image_id* column in the metadata for annotations and the *id* column in the metadata for images have the same\n",
    "unique image ids. That means, all the images ids on both sides can be paired with each other.\n",
    "- There is only one value of *category_id* col in the metadata for annotations, i.e., 1. That means all the images are\n",
    "label-free in terms of classification.\n",
    "- There is only one value of *iscrowd* col in the metadata for annotations, i.e., 0. That means all the images are\n",
    "segmented based on polygon.\n",
    "- All the *segmentation* annotations are valid in terms of the requirement that there are at least 3 points to form the\n",
    "polygon of an instance.\n",
    "- All the *area* annotations are valid in terms of the requirement that the size must be greater than zero.\n",
    "- All the *bbox* annotations are valid in terms of the requirement that there must be the coordinate of top-left corner\n",
    "as well as the width and height of bbox available.\n",
    "- For all those duplicate file names, or say in concrete, those image ids referring to duplicate file names, the\n",
    "corresponding annotations are different, specifically area and segmentation labels. Thus, these annotations cannot be\n",
    "removed due to the duplicate file names and deserve more attention by visualization. Based on the detailed inspection by\n",
    "visualizing some of them (using [the other notebook for visualization](./data_exploration_LIVECell_2.ipynb)), it can be\n",
    "anticipated that the existence of all those duplicate file names can be attributed to different \"styles\" of annotation,\n",
    "which should be all plausible."
   ],
   "metadata": {
    "collapsed": false
   }
  },
  {
   "cell_type": "markdown",
   "source": [
    "**Note**: Since the information of *category*, *info* and *licenses* is not important with regard to our task after\n",
    "checking them in the part of investigation into training metadata, the corresponding work would not be repeated here."
   ],
   "metadata": {
    "collapsed": false
   }
  },
  {
   "cell_type": "markdown",
   "source": [
    "## Display of statistics of the dataset"
   ],
   "metadata": {
    "collapsed": false
   }
  },
  {
   "cell_type": "code",
   "execution_count": 43,
   "outputs": [],
   "source": [
    "# Helper functions for display\n",
    "\n",
    "# CB91_BLUE = '#2CBDFE'\n",
    "# CB91_GREEN = '#47DBCD'\n",
    "# CB91_PINK = '#F3A0F2'\n",
    "# CB91_PURPLE = '#9D2EC5'\n",
    "# CB91_VIOLET = '#661D98'\n",
    "# CB91_AMBER = '#F5B14C'\n",
    "# color_list = [CB91_VIOLET, CB91_GREEN, CB91_PINK, CB91_PURPLE, CB91_BLUE, CB91_AMBER]\n",
    "# plt.rcParams['axes.prop_cycle'] = plt.cycler(color = color_list)\n",
    "matplotlib.rcParams.update(matplotlib.rcParamsDefault) #for resetting the matplotlib parameters\n",
    "\n",
    "def display_statistics_of_ds(len_img_ids_tuple, len_img_filenames_tuple, save=None):\n",
    "    \"\"\"\n",
    "    display the basic statistics of the dataset\n",
    "    :param len_img_ids_tuple: tuple tuple contains both the length of image ids of the dataset\n",
    "    :param len_img_filenames_tuple: tuple tuple contains both the length of unique image filenames of the dataset\n",
    "    :param save: pathlib2.WindowsPath path for saving\n",
    "    :return: None\n",
    "    \"\"\"\n",
    "\n",
    "    ind_names = ('train', 'val', 'test')\n",
    "    df1 = pd.DataFrame({'ds_split': ind_names,\n",
    "                       'img_nos': len_img_ids_tuple})\n",
    "    df2 = pd.DataFrame({'ds_split': ind_names,\n",
    "                       'img_nos': len_img_filenames_tuple})\n",
    "    df = pd.concat([df1, df2], ignore_index=True)\n",
    "    df['img_uniqueness'] = ['img_with_dup'] * len(df1) + ['img_without_dup'] * len(df2)\n",
    "\n",
    "    plt.figure(figsize=(8,6))\n",
    "    splot = sns.barplot(x='ds_split', y='img_nos', hue= 'img_uniqueness', data=df)\n",
    "    plt.title('LIVECell: Number of Samples by group and uniqueness')\n",
    "    # plt.bar_label(splot.containers[0])\n",
    "    for p in splot.patches:\n",
    "        splot.annotate(format(p.get_height(), '.0f'),\n",
    "                       (p.get_x()+p.get_width()/2, p.get_height()),\n",
    "                       ha='center', va='center', size=12,\n",
    "                       xytext=(0,-12), textcoords='offset points')\n",
    "    if save:\n",
    "        save_path = save / \"results\" / \"distributions_of_sample_numbers.png\"\n",
    "        plt.savefig(save_path.as_posix())\n",
    "    plt.tight_layout()\n",
    "    plt.show()\n",
    "\n",
    "def display_statistics_of_ds_pie(len_img_ids_tuple, save=None):\n",
    "    \"\"\"\n",
    "    display the splitting in form of pie chart\n",
    "    :param len_img_ids_tuple: tuple tuple contains both the length of image ids of the dataset\n",
    "    :param save: pathlib2.WindowsPath path for saving\n",
    "    :return: None\n",
    "    \"\"\"\n",
    "\n",
    "    ind_names = ('train', 'val', 'test')\n",
    "    #define Seaborn color palette to use\n",
    "    colors = sns.color_palette('pastel')[0:3]\n",
    "\n",
    "    #create pie chart\n",
    "    len_img_ids_tuple_perc = list()\n",
    "    for i in len_img_ids_tuple:\n",
    "        len_img_ids_tuple_perc.append(i / sum(len_img_ids_tuple))\n",
    "    plt.pie(len_img_ids_tuple, labels = ind_names, colors = colors, autopct='%.2f%%')\n",
    "    plt.title('LIVECell: percentage of splitting')\n",
    "    if save:\n",
    "        save_path = save / \"results\" / \"distributions_of_sample_numbers_pie.png\"\n",
    "        plt.savefig(save_path.as_posix())\n",
    "    plt.show()\n",
    "\n",
    "\n",
    "def display_statistics_of_cell_type(len_train_list, len_val_list, save=None):\n",
    "\n",
    "\n",
    "    df1 = pd.DataFrame({'cell_type': CELL_TYPE_PATTERN,\n",
    "                       'img_nos': len_train_list})\n",
    "    df2 = pd.DataFrame({'cell_type': CELL_TYPE_PATTERN,\n",
    "                       'img_nos': len_val_list})\n",
    "    df = pd.concat([df1, df2], ignore_index=True)\n",
    "    df['img_split'] = ['train'] * len(df1) + ['val'] * len(df2)\n",
    "\n",
    "    plt.figure(figsize=(10,8))\n",
    "    splot = sns.barplot(x='cell_type', y='img_nos', hue= 'img_split', data=df)\n",
    "    plt.title('LIVECell: Number of Samples by split and cell type')\n",
    "    for p in splot.patches:\n",
    "        splot.annotate(format(p.get_height(), '.0f'),\n",
    "                       (p.get_x()+p.get_width()/2, p.get_height()),\n",
    "                       ha='center', va='center', size=12,\n",
    "                       xytext=(0,-12), textcoords='offset points')\n",
    "    if save:\n",
    "        save_path = save / \"results\" / \"distributions_of_sample_numbers_by_cell_type.png\"\n",
    "        plt.savefig(save_path.as_posix())\n",
    "    plt.tight_layout()\n",
    "    plt.show()"
   ],
   "metadata": {
    "collapsed": false,
    "pycharm": {
     "name": "#%%\n"
    }
   }
  },
  {
   "cell_type": "code",
   "execution_count": 44,
   "outputs": [],
   "source": [
    "# preparation of data for display\n",
    "\n",
    "len_train_uniq_img_filenames = non_duplicated_train_filenames.shape[0]\n",
    "len_valid_uniq_img_filenames = non_duplicated_val_filenames.shape[0]\n",
    "len_test_uniq_img_filenames = non_duplicated_test_filenames.shape[0]\n",
    "len_img_ids_tuple = (len_train_img_ids, len_val_img_ids, len_test_img_ids)\n",
    "len_img_filenames_tuple = (len_train_uniq_img_filenames, len_valid_uniq_img_filenames, len_test_uniq_img_filenames)"
   ],
   "metadata": {
    "collapsed": false,
    "pycharm": {
     "name": "#%%\n"
    }
   }
  },
  {
   "cell_type": "code",
   "execution_count": null,
   "outputs": [],
   "source": [
    "# To be deprecated!\n",
    "# this code block exists only for convenience\n",
    "len_train_uniq_img_filenames = 3188\n",
    "len_valid_uniq_img_filenames = 569\n",
    "len_test_uniq_img_filenames = 1512\n",
    "len_train_img_ids = 3253\n",
    "len_val_img_ids = 570\n",
    "len_test_img_ids = 1564\n",
    "len_img_ids_tuple = (len_train_img_ids, len_val_img_ids, len_test_img_ids)\n",
    "len_img_filenames_tuple = (len_train_uniq_img_filenames, len_valid_uniq_img_filenames, len_test_uniq_img_filenames)"
   ],
   "metadata": {
    "collapsed": false,
    "pycharm": {
     "name": "#%%\n"
    }
   }
  },
  {
   "cell_type": "code",
   "execution_count": 45,
   "outputs": [
    {
     "data": {
      "text/plain": "<Figure size 800x600 with 1 Axes>",
      "image/png": "[encoded data removed]"
     },
     "metadata": {},
     "output_type": "display_data"
    }
   ],
   "source": [
    "# display the statistics of LIVECell dataset splitting by group and uniqueness\n",
    "\n",
    "display_statistics_of_ds(len_img_ids_tuple, len_img_filenames_tuple, save=project_dir)"
   ],
   "metadata": {
    "collapsed": false,
    "pycharm": {
     "name": "#%%\n"
    }
   }
  },
  {
   "cell_type": "code",
   "execution_count": 46,
   "outputs": [
    {
     "data": {
      "text/plain": "<Figure size 640x480 with 1 Axes>",
      "image/png": "[encoded data removed]"
     },
     "metadata": {},
     "output_type": "display_data"
    }
   ],
   "source": [
    "# display the statistics of LIVECell dataset splitting in pie chart\n",
    "\n",
    "display_statistics_of_ds_pie(len_img_ids_tuple, save=project_dir)"
   ],
   "metadata": {
    "collapsed": false,
    "pycharm": {
     "name": "#%%\n"
    }
   }
  },
  {
   "cell_type": "code",
   "execution_count": 47,
   "outputs": [
    {
     "data": {
      "text/plain": "<Figure size 1000x800 with 1 Axes>",
      "image/png": "[encoded data removed]"
     },
     "metadata": {},
     "output_type": "display_data"
    }
   ],
   "source": [
    "# display the statistics of samples of each cell type\n",
    "\n",
    "train_cell_type_cnt_lst = list(train_cell_type_cnt_dict.values())\n",
    "val_cell_type_cnt_lst = list(val_cell_type_cnt_dict.values())\n",
    "display_statistics_of_cell_type(train_cell_type_cnt_lst, val_cell_type_cnt_lst, save=project_dir)"
   ],
   "metadata": {
    "collapsed": false,
    "pycharm": {
     "name": "#%%\n"
    }
   }
  }
 ],
 "metadata": {
  "kernelspec": {
   "display_name": "Python 3",
   "language": "python",
   "name": "python3"
  },
  "language_info": {
   "codemirror_mode": {
    "name": "ipython",
    "version": 2
   },
   "file_extension": ".py",
   "mimetype": "text/x-python",
   "name": "python",
   "nbconvert_exporter": "python",
   "pygments_lexer": "ipython2",
   "version": "2.7.6"
  }
 },
 "nbformat": 4,
 "nbformat_minor": 0
}